{
 "cells": [
  {
   "cell_type": "code",
   "execution_count": 1,
   "id": "645cc81c",
   "metadata": {
    "_cell_guid": "270d6c7c-a5bb-45a4-b1fe-1bb127ce0502",
    "_uuid": "37156e2f-b957-4a90-9ad8-da020fe9b1e2",
    "execution": {
     "iopub.execute_input": "2024-06-02T18:12:18.796777Z",
     "iopub.status.busy": "2024-06-02T18:12:18.796483Z",
     "iopub.status.idle": "2024-06-02T18:12:18.808548Z",
     "shell.execute_reply": "2024-06-02T18:12:18.807663Z"
    },
    "papermill": {
     "duration": 0.025743,
     "end_time": "2024-06-02T18:12:18.810592",
     "exception": false,
     "start_time": "2024-06-02T18:12:18.784849",
     "status": "completed"
    },
    "tags": []
   },
   "outputs": [
    {
     "name": "stdout",
     "output_type": "stream",
     "text": [
      "/kaggle/working\n"
     ]
    }
   ],
   "source": [
    "%cd /kaggle/working"
   ]
  },
  {
   "cell_type": "code",
   "execution_count": 2,
   "id": "67c41f95",
   "metadata": {
    "execution": {
     "iopub.execute_input": "2024-06-02T18:12:18.830109Z",
     "iopub.status.busy": "2024-06-02T18:12:18.829651Z",
     "iopub.status.idle": "2024-06-02T18:12:18.833512Z",
     "shell.execute_reply": "2024-06-02T18:12:18.832704Z"
    },
    "papermill": {
     "duration": 0.015582,
     "end_time": "2024-06-02T18:12:18.835443",
     "exception": false,
     "start_time": "2024-06-02T18:12:18.819861",
     "status": "completed"
    },
    "tags": []
   },
   "outputs": [],
   "source": [
    "import warnings\n",
    "warnings.filterwarnings('ignore')"
   ]
  },
  {
   "cell_type": "code",
   "execution_count": 3,
   "id": "a0131fa3",
   "metadata": {
    "_cell_guid": "506c6140-e45e-4e9d-8dc1-e2a43eaad201",
    "_uuid": "a1d06416-bb05-4615-a945-bf3aea508be6",
    "collapsed": false,
    "execution": {
     "iopub.execute_input": "2024-06-02T18:12:18.855091Z",
     "iopub.status.busy": "2024-06-02T18:12:18.854310Z",
     "iopub.status.idle": "2024-06-02T18:12:20.969650Z",
     "shell.execute_reply": "2024-06-02T18:12:20.968532Z"
    },
    "jupyter": {
     "outputs_hidden": false
    },
    "papermill": {
     "duration": 2.127154,
     "end_time": "2024-06-02T18:12:20.971692",
     "exception": false,
     "start_time": "2024-06-02T18:12:18.844538",
     "status": "completed"
    },
    "tags": []
   },
   "outputs": [
    {
     "name": "stdout",
     "output_type": "stream",
     "text": [
      "Cloning into 'yolov9'...\r\n",
      "remote: Enumerating objects: 710, done.\u001b[K\r\n",
      "remote: Counting objects: 100% (336/336), done.\u001b[K\r\n",
      "remote: Compressing objects: 100% (129/129), done.\u001b[K\r\n",
      "remote: Total 710 (delta 249), reused 202 (delta 201), pack-reused 374\u001b[K\r\n",
      "Receiving objects: 100% (710/710), 3.23 MiB | 18.10 MiB/s, done.\r\n",
      "Resolving deltas: 100% (294/294), done.\r\n"
     ]
    }
   ],
   "source": [
    "!git clone https://github.com/WongKinYiu/yolov9.git"
   ]
  },
  {
   "cell_type": "code",
   "execution_count": 4,
   "id": "e6b37942",
   "metadata": {
    "_cell_guid": "a8bcb7ad-9b9a-4bd5-8063-b435721e4f6b",
    "_uuid": "a439be80-638c-47e4-8783-d23d9759ecdb",
    "execution": {
     "iopub.execute_input": "2024-06-02T18:12:20.993246Z",
     "iopub.status.busy": "2024-06-02T18:12:20.992466Z",
     "iopub.status.idle": "2024-06-02T18:12:20.998574Z",
     "shell.execute_reply": "2024-06-02T18:12:20.997649Z"
    },
    "papermill": {
     "duration": 0.019033,
     "end_time": "2024-06-02T18:12:21.000741",
     "exception": false,
     "start_time": "2024-06-02T18:12:20.981708",
     "status": "completed"
    },
    "tags": []
   },
   "outputs": [
    {
     "name": "stdout",
     "output_type": "stream",
     "text": [
      "/kaggle/working/yolov9\n"
     ]
    }
   ],
   "source": [
    "%cd /kaggle/working/yolov9"
   ]
  },
  {
   "cell_type": "code",
   "execution_count": 5,
   "id": "bf8f13fa",
   "metadata": {
    "_cell_guid": "2a8d9427-d8a9-4365-957c-cb7edb88f799",
    "_uuid": "3ed60242-0f59-4c09-9ba5-85df0325929d",
    "collapsed": false,
    "execution": {
     "iopub.execute_input": "2024-06-02T18:12:21.021928Z",
     "iopub.status.busy": "2024-06-02T18:12:21.021639Z",
     "iopub.status.idle": "2024-06-02T18:15:50.553005Z",
     "shell.execute_reply": "2024-06-02T18:15:50.551767Z"
    },
    "jupyter": {
     "outputs_hidden": false
    },
    "papermill": {
     "duration": 209.544563,
     "end_time": "2024-06-02T18:15:50.555465",
     "exception": false,
     "start_time": "2024-06-02T18:12:21.010902",
     "status": "completed"
    },
    "tags": []
   },
   "outputs": [
    {
     "name": "stdout",
     "output_type": "stream",
     "text": [
      "Retrieving notices: ...working... done\r\n",
      "Collecting package metadata (current_repodata.json): \\ \b\b| \b\b/ \b\b- \b\b\\ \b\b| \b\b/ \b\b- \b\b\\ \b\b| \b\b/ \b\b- \b\b\\ \b\b| \b\b/ \b\b- \b\b\\ \b\b| \b\b/ \b\b- \b\b\\ \b\b| \b\b/ \b\b- \b\b\\ \b\b| \b\b/ \b\b- \b\b\\ \b\b| \b\b/ \b\b- \b\b\\ \b\b| \b\b/ \b\b- \b\b\\ \b\b| \b\b/ \b\b- \b\b\\ \b\b| \b\b/ \b\b- \b\b\\ \b\b| \b\b/ \b\b- \b\b\\ \b\b| \b\b/ \b\b- \b\b\\ \b\b| \b\b/ \b\b- \b\b\\ \b\b| \b\b/ \b\b- \b\b\\ \b\b| \b\b/ \b\b- \b\b\\ \b\b| \b\b/ \b\b- \b\b\\ \b\b| \b\b/ \b\b- \b\b\\ \b\b| \b\b/ \b\b- \b\b\\ \b\b| \b\b/ \b\b- \b\b\\ \b\b| \b\b/ \b\b- \b\b\\ \b\b| \b\b/ \b\b- \b\b\\ \b\b| \b\b/ \b\b- \b\b\\ \b\b| \b\b/ \b\b- \b\b\\ \b\b| \b\b/ \b\b- \b\b\\ \b\b| \b\b/ \b\b- \b\b\\ \b\b| \b\b/ \b\b- \b\b\\ \b\b| \b\b/ \b\b- \b\b\\ \b\b| \b\b/ \b\b- \b\b\\ \b\b| \b\b/ \b\b- \b\b\\ \b\b| \b\b/ \b\b- \b\b\\ \b\b| \b\b/ \b\b- \b\b\\ \b\b| \b\b/ \b\b- \b\b\\ \b\b| \b\b/ \b\b- \b\b\\ \b\b| \b\b/ \b\b- \b\b\\ \b\b| \b\b/ \b\b- \b\b\\ \b\b| \b\b/ \b\b- \b\b\\ \b\b| \b\b/ \b\b- \b\b\\ \b\b| \b\b/ \b\b- \b\b\\ \b\b| \b\b/ \b\b- \b\b\\ \b\b| \b\b/ \b\b- \b\b\\ \b\b| \b\b/ \b\b- \b\b\\ \b\b| \b\b/ \b\b- \b\b\\ \b\b| \b\b/ WARNING conda.models.version:get_matcher(556): Using .* with relational operator is superfluous and deprecated and will be removed in a future version of conda. Your spec was 1.7.1.*, but conda is ignoring the .* and treating it as 1.7.1\r\n",
      "\b\b- \b\b\\ \b\b| \b\b/ \b\b- \b\b\\ \b\b| \b\b/ \b\b- \b\b\\ \b\b| \b\b/ \b\b- \b\b\\ \b\b| \b\b/ \b\b- \b\b\\ \b\b| \b\b/ \b\b- \b\b\\ \b\b| \b\b/ \b\b- \b\b\\ \b\b| \b\b/ \b\b- \b\b\\ \b\b| \b\b/ \b\b- \b\b\\ \b\b| \b\b/ \b\b- \b\b\\ \b\b| \b\b/ \b\b- \b\b\\ \b\b| \b\b/ \b\b- \b\b\\ \b\b| \b\b/ \b\b- \b\b\\ \b\b| \b\b/ \b\b- \b\b\\ \b\b| \b\b/ \b\b- \b\b\\ \b\b| \b\b/ \b\b- \b\b\\ \b\b| \b\b/ \b\b- \b\b\\ \b\b| \b\b/ \b\b- \b\b\\ \b\b| \b\b/ \b\b- \b\b\\ \b\b| \b\b/ \b\b- \b\b\\ \b\b| \b\b/ \b\b- \b\b\\ \b\b| \b\b/ \b\b- \b\b\\ \b\b| \b\b/ \b\b- \b\b\\ \b\b| \b\b/ \b\b- \b\b\\ \b\b| \b\b/ \b\b- \b\b\\ \b\b| \b\b/ \b\b- \b\b\\ \b\b| \b\b/ \b\b- \b\b\\ \b\b| \b\b/ \b\b- \b\b\\ \b\b| \b\b/ \b\b- \b\b\\ \b\b| \b\b/ \b\b- \b\b\\ \b\b| \b\b/ \b\b- \b\b\\ \b\b| \b\b/ \b\b- \b\b\\ \b\b| \b\b/ \b\b- \b\b\\ \b\b| \b\b/ \b\b- \b\b\\ \b\b| \b\b/ \b\b- \b\b\\ \b\b| \b\b/ \b\b- \b\b\\ \b\b| \b\b/ \b\b- \b\b\\ \b\b| \b\b/ \b\b- \b\b\\ \b\b| \b\b/ \b\b- \b\b\\ \b\b| \b\b/ \b\b- \b\b\\ \b\b| \b\b/ \b\b- \b\b\\ \b\b| \b\b/ \b\b- \b\b\\ \b\b| \b\b/ \b\b- \b\b\\ \b\b| \b\b/ \b\b- \b\b\\ \b\b| \b\b/ \b\b- \b\b\\ \b\b| \b\b/ \b\b- \b\b\\ \b\b| \b\b/ \b\b- \b\b\\ \b\b| \b\b/ \b\b- \b\b\\ \b\b| \b\b/ \b\b- \b\b\\ \b\b| \b\b/ \b\b- \b\b\\ \b\b| \b\b/ \b\b- \b\b\\ \b\b| \b\b/ \b\b- \b\b\\ \b\b| \b\b/ \b\b- \b\b\\ \b\b| \b\b/ \b\b- \b\b\\ \b\b| \b\b/ \b\b- \b\b\\ \b\b| \b\b/ \b\b- \b\b\\ \b\b| \b\b/ \b\b- \b\b\\ \b\b| \b\b/ \b\b- \b\b\\ \b\b| \b\b/ \b\b- \b\b\\ \b\b| \b\b/ \b\b- \b\b\\ \b\b| \b\b/ \b\b- \b\b\\ \b\b| \b\b/ \b\b- \b\b\\ \b\b| \b\b/ \b\b- \b\b\\ \b\b| \b\b/ \b\b- \b\b\\ \b\b| \b\b/ \b\b- \b\b\\ \b\b| \b\b/ \b\b- \b\b\\ \b\b| \b\b/ \b\b- \b\b\\ \b\b| \b\b/ \b\b- \b\b\\ \b\b| \b\b/ \b\b- \b\b\\ \b\b| \b\b/ \b\b- \b\b\\ \b\b| \b\b/ \b\b- \b\b\\ \b\b| \b\b/ \b\b- \b\b\\ \b\b| \b\b/ \b\b- \b\b\\ \b\b| \b\b/ \b\b- \b\b\\ \b\b| \b\b/ \b\b- \b\b\\ \b\b| \b\b/ \b\b- \b\b\\ \b\b| \b\b/ \b\b- \b\b\\ \b\b| \b\b/ \b\b- \b\b\\ \b\b| \b\b/ \b\b- \b\b\\ \b\b| \b\b/ \b\b- \b\b\\ \b\b| \b\b/ \b\b- \b\b\\ \b\b| \b\b/ \b\b- \b\b\\ \b\b| \b\b/ \b\b- \b\b\\ \b\b| \b\b/ \b\b- \b\b\\ \b\b| \b\b/ \b\b- \b\b\\ \b\b| \b\b/ \b\b- \b\b\\ \b\b| \b\b/ \b\b- \b\bdone\r\n",
      "Solving environment: | \b\b/ \b\b- \b\b\\ \b\b| \b\b/ \b\b- \b\b\\ \b\b| \b\b/ \b\b- \b\b\\ \b\b| \b\b/ \b\b- \b\b\\ \b\b| \b\b/ \b\b- \b\b\\ \b\b| \b\b/ \b\b- \b\b\\ \b\b| \b\b/ \b\b- \b\b\\ \b\b| \b\b/ \b\b- \b\b\\ \b\b| \b\b/ \b\b- \b\b\\ \b\b| \b\b/ \b\b- \b\b\\ \b\b| \b\b/ \b\b- \b\b\\ \b\b| \b\b/ \b\b- \b\b\\ \b\b| \b\b/ \b\b- \b\b\\ \b\b| \b\b/ \b\b- \b\b\\ \b\b| \b\b/ \b\b- \b\b\\ \b\b| \b\b/ \b\b- \b\b\\ \b\b| \b\b/ \b\b- \b\b\\ \b\b| \b\b/ \b\b- \b\b\\ \b\b| \b\b/ \b\b- \b\b\\ \b\b| \b\b/ \b\b- \b\b\\ \b\b| \b\b/ \b\b- \b\b\\ \b\b| \b\b/ \b\b- \b\b\\ \b\b| \b\b/ \b\b- \b\b\\ \b\b| \b\b/ \b\b- \b\b\\ \b\b| \b\b/ \b\b- \b\b\\ \b\b| \b\b/ \b\b- \b\b\\ \b\b| \b\b/ \b\b- \b\b\\ \b\b| \b\b/ \b\b- \b\b\\ \b\b| \b\b/ \b\b- \b\b\\ \b\b| \b\b/ \b\b- \b\b\\ \b\b| \b\b/ \b\b- \b\b\\ \b\b| \b\b/ \b\b- \b\b\\ \b\b| \b\b/ \b\b- \b\b\\ \b\b| \b\b/ \b\b- \b\b\\ \b\b| \b\b/ \b\b- \b\b\\ \b\b| \b\b/ \b\b- \b\b\\ \b\b| \b\b/ \b\b- \b\b\\ \b\b| \b\b/ \b\b- \b\b\\ \b\b| \b\b/ \b\b- \b\b\\ \b\b| \b\b/ \b\b- \b\b\\ \b\b| \b\b/ \b\b- \b\b\\ \b\b| \b\b/ \b\b- \b\b\\ \b\b| \b\b/ \b\b- \b\b\\ \b\b| \b\b/ \b\b- \b\b\\ \b\b| \b\b/ \b\b- \b\b\\ \b\b| \b\b/ \b\b- \b\b\\ \b\b| \b\b/ \b\b- \b\b\\ \b\b| \b\b/ \b\b- \b\b\\ \b\b| \b\b/ \b\b- \b\b\\ \b\b| \b\b/ \b\b- \b\b\\ \b\b| \b\b/ \b\b- \b\b\\ \b\b| \b\b/ \b\b- \b\b\\ \b\b| \b\b/ \b\b- \b\b\\ \b\b| \b\b/ \b\b- \b\b\\ \b\b| \b\b/ \b\b- \b\b\\ \b\b| \b\b/ \b\b- \b\b\\ \b\b| \b\b/ \b\b- \b\b\\ \b\b| \b\b/ \b\b- \b\b\\ \b\b| \b\b/ \b\b- \b\b\\ \b\b| \b\b/ \b\b- \b\b\\ \b\b| \b\b/ \b\b- \b\b\\ \b\b| \b\b/ \b\b- \b\b\\ \b\b| \b\b/ \b\b- \b\b\\ \b\b| \b\b/ \b\b- \b\b\\ \b\b| \b\b/ \b\b- \b\b\\ \b\b| \b\b/ \b\b- \b\b\\ \b\b| \b\b/ \b\b- \b\b\\ \b\b| \b\b/ \b\b- \b\b\\ \b\b| \b\b/ \b\b- \b\b\\ \b\b| \b\b/ \b\b- \b\b\\ \b\b| \b\b/ \b\b- \b\b\\ \b\b| \b\b/ \b\b- \b\b\\ \b\b| \b\b/ \b\b- \b\b\\ \b\b| \b\b/ \b\b- \b\b\\ \b\b| \b\b/ \b\b- \b\b\\ \b\b| \b\b/ \b\b- \b\b\\ \b\b| \b\b/ \b\b- \b\b\\ \b\b| \b\b/ \b\b- \b\b\\ \b\b| \b\b/ \b\b- \b\b\\ \b\b| \b\b/ \b\b- \b\b\\ \b\b| \b\b/ \b\b- \b\b\\ \b\b| \b\b/ \b\b- \b\b\\ \b\b| \b\b/ \b\b- \b\b\\ \b\b| \b\b/ \b\b- \b\b\\ \b\b| \b\b/ \b\b- \b\b\\ \b\b| \b\b/ \b\b- \b\b\\ \b\b| \b\b/ \b\b- \b\b\\ \b\b| \b\b/ \b\b- \b\b\\ \b\b| \b\b/ \b\b- \b\b\\ \b\b| \b\b/ \b\b- \b\b\\ \b\b| \b\b/ \b\b- \b\b\\ \b\b| \b\b/ \b\b- \b\b\\ \b\b| \b\b/ \b\b- \b\b\\ \b\b| \b\b/ \b\b- \b\b\\ \b\b| \b\b/ \b\b- \b\b\\ \b\b| \b\b/ \b\b- \b\b\\ \b\b| \b\b/ \b\b- \b\b\\ \b\b| \b\b/ \b\b- \b\b\\ \b\b| \b\b/ \b\b- \b\b\\ \b\b| \b\b/ \b\b- \b\b\\ \b\b| \b\b/ \b\b- \b\b\\ \b\b| \b\b/ \b\b- \b\b\\ \b\b| \b\b/ \b\b- \b\b\\ \b\b| \b\b/ \b\b- \b\b\\ \b\b| \b\b/ \b\b- \b\b\\ \b\b| \b\b/ \b\b- \b\b\\ \b\b| \b\b/ \b\b- \b\b\\ \b\b| \b\b/ \b\b- \b\b\\ \b\b| \b\b/ \b\b- \b\b\\ \b\b| \b\b/ \b\b- \b\b\\ \b\b| \b\b/ \b\b- \b\b\\ \b\b| \b\b/ \b\b- \b\b\\ \b\b| \b\b/ \b\b- \b\b\\ \b\b| \b\b/ \b\b- \b\b\\ \b\b| \b\b/ \b\b- \b\b\\ \b\b| \b\b/ \b\b- \b\b\\ \b\b| \b\b/ \b\b- \b\b\\ \b\b| \b\b/ \b\b- \b\b\\ \b\b| \b\b/ \b\b- \b\b\\ \b\b| \b\b/ \b\b- \b\b\\ \b\b| \b\b/ \b\b- \b\b\\ \b\b| \b\b/ \b\b- \b\b\\ \b\b| \b\b/ \b\b- \b\b\\ \b\b| \b\b/ \b\b- \b\b\\ \b\b| \b\b/ \b\b- \b\b\\ \b\b| \b\b/ \b\b- \b\b\\ \b\b| \b\b/ \b\b- \b\b\\ \b\b| \b\b/ \b\b- \b\b\\ \b\b| \b\b/ \b\b- \b\b\\ \b\b| \b\b/ \b\b- \b\b\\ \b\b| \b\b/ \b\b- \b\b\\ \b\b| \b\b/ \b\b- \b\b\\ \b\b| \b\b/ \b\b- \b\b\\ \b\b| \b\b/ \b\b- \b\b\\ \b\b| \b\b/ \b\b- \b\b\\ \b\b| \b\b/ \b\b- \b\b\\ \b\b| \b\b/ \b\b- \b\b\\ \b\b| \b\b/ \b\b- \b\b\\ \b\b| \b\b/ \b\b- \b\b\\ \b\b| \b\b/ \b\b- \b\b\\ \b\b| \b\b/ \b\b- \b\b\\ \b\b| \b\b/ \b\b- \b\b\\ \b\b| \b\b/ \b\b- \b\b\\ \b\b| \b\b/ \b\b- \b\b\\ \b\b| \b\b/ \b\b- \b\b\\ \b\b| \b\b/ \b\b- \b\b\\ \b\b| \b\b/ \b\b- \b\b\\ \b\b| \b\b/ \b\b- \b\b\\ \b\b| \b\b/ \b\b- \b\b\\ \b\b| \b\b/ \b\b- \b\b\\ \b\b| \b\b/ \b\b- \b\b\\ \b\b| \b\b/ \b\b- \b\b\\ \b\b| \b\b/ \b\b- \b\b\\ \b\b| \b\b/ \b\b- \b\b\\ \b\b| \b\b/ \b\b- \b\b\\ \b\b| \b\b/ \b\b- \b\b\\ \b\b| \b\b/ \b\b- \b\b\\ \b\b| \b\b/ \b\b- \b\b\\ \b\b| \b\b/ \b\b- \b\b\\ \b\b| \b\b/ \b\b- \b\b\\ \b\b| \b\b/ \b\b- \b\b\\ \b\b| \b\b/ \b\b- \b\b\\ \b\b| \b\b/ \b\b- \b\b\\ \b\b| \b\b/ \b\b- \b\b\\ \b\b| \b\b/ \b\b- \b\b\\ \b\b| \b\b/ \b\b- \b\b\\ \b\b| \b\b/ \b\b- \b\b\\ \b\b| \b\b/ \b\b- \b\b\\ \b\b| \b\b/ \b\b- \b\b\\ \b\b| \b\bdone\r\n",
      "\r\n",
      "\r\n",
      "==> WARNING: A newer version of conda exists. <==\r\n",
      "  current version: 23.7.4\r\n",
      "  latest version: 24.5.0\r\n",
      "\r\n",
      "Please update conda by running\r\n",
      "\r\n",
      "    $ conda update -n base -c conda-forge conda\r\n",
      "\r\n",
      "Or to minimize the number of packages updated during conda update use\r\n",
      "\r\n",
      "     conda install conda=24.5.0\r\n",
      "\r\n",
      "\r\n",
      "\r\n",
      "## Package Plan ##\r\n",
      "\r\n",
      "  environment location: /opt/conda\r\n",
      "\r\n",
      "  added / updated specs:\r\n",
      "    - gdown\r\n",
      "\r\n",
      "\r\n",
      "The following packages will be downloaded:\r\n",
      "\r\n",
      "    package                    |            build\r\n",
      "    ---------------------------|-----------------\r\n",
      "    ca-certificates-2024.6.2   |       hbcca054_0         152 KB  conda-forge\r\n",
      "    filelock-3.14.0            |     pyhd8ed1ab_0          16 KB  conda-forge\r\n",
      "    gdown-5.2.0                |     pyhd8ed1ab_0          21 KB  conda-forge\r\n",
      "    openssl-3.3.0              |       h4ab18f5_3         2.8 MB  conda-forge\r\n",
      "    ------------------------------------------------------------\r\n",
      "                                           Total:         2.9 MB\r\n",
      "\r\n",
      "The following NEW packages will be INSTALLED:\r\n",
      "\r\n",
      "  filelock           conda-forge/noarch::filelock-3.14.0-pyhd8ed1ab_0 \r\n",
      "  gdown              conda-forge/noarch::gdown-5.2.0-pyhd8ed1ab_0 \r\n",
      "\r\n",
      "The following packages will be UPDATED:\r\n",
      "\r\n",
      "  ca-certificates                       2024.2.2-hbcca054_0 --> 2024.6.2-hbcca054_0 \r\n",
      "  openssl                                  3.2.1-hd590300_1 --> 3.3.0-h4ab18f5_3 \r\n",
      "\r\n",
      "\r\n",
      "\r\n",
      "Downloading and Extracting Packages\r\n",
      "ca-certificates-2024 | 152 KB    |                                       |   0% \r\n",
      "openssl-3.3.0        | 2.8 MB    |                                       |   0% \u001b[A\r\n",
      "\r\n",
      "filelock-3.14.0      | 16 KB     |                                       |   0% \u001b[A\u001b[A\r\n",
      "\r\n",
      "\r\n",
      "gdown-5.2.0          | 21 KB     |                                       |   0% \u001b[A\u001b[A\u001b[A\r\n",
      "\r\n",
      "\r\n",
      "gdown-5.2.0          | 21 KB     | ###########################7          |  75% \u001b[A\u001b[A\u001b[A\r\n",
      "\r\n",
      "filelock-3.14.0      | 16 KB     | ##################################### | 100% \u001b[A\u001b[A\r\n",
      "ca-certificates-2024 | 152 KB    | ###8                                  |  11% \r\n",
      "\r\n",
      "filelock-3.14.0      | 16 KB     | ##################################### | 100% \u001b[A\u001b[A\r\n",
      "\r\n",
      "\r\n",
      "ca-certificates-2024 | 152 KB    | ##################################### | 100% \r\n",
      "openssl-3.3.0        | 2.8 MB    | ##################################### | 100% \u001b[A\r\n",
      "\r\n",
      "                                                                                \u001b[A\r\n",
      "\r\n",
      "                                                                                \u001b[A\u001b[A\r\n",
      "\r\n",
      "\r\n",
      "\r\n",
      "Preparing transaction: - \b\bdone\r\n",
      "Verifying transaction: | \b\b/ \b\b- \b\bdone\r\n",
      "Executing transaction: | \b\b/ \b\b- \b\b\\ \b\b| \b\b/ \b\b- \b\b\\ \b\b| \b\b/ \b\b- \b\b\\ \b\b| \b\b/ \b\b- \b\b\\ \b\b| \b\b/ \b\b- \b\b\\ \b\b| \b\b/ \b\b- \b\bdone\r\n"
     ]
    }
   ],
   "source": [
    "!conda install -y gdown"
   ]
  },
  {
   "cell_type": "code",
   "execution_count": 6,
   "id": "d229524e",
   "metadata": {
    "_cell_guid": "20ac4536-3b0a-4c28-9155-adacbe5e3fb1",
    "_uuid": "9177316f-0dfc-4f2c-9888-2bdd1b3f22a0",
    "collapsed": false,
    "execution": {
     "iopub.execute_input": "2024-06-02T18:15:50.805116Z",
     "iopub.status.busy": "2024-06-02T18:15:50.804221Z",
     "iopub.status.idle": "2024-06-02T18:17:59.514896Z",
     "shell.execute_reply": "2024-06-02T18:17:59.513693Z"
    },
    "jupyter": {
     "outputs_hidden": false
    },
    "papermill": {
     "duration": 128.858278,
     "end_time": "2024-06-02T18:17:59.517190",
     "exception": false,
     "start_time": "2024-06-02T18:15:50.658912",
     "status": "completed"
    },
    "tags": []
   },
   "outputs": [
    {
     "name": "stdout",
     "output_type": "stream",
     "text": [
      "/kaggle/working\n",
      "Downloading...\r\n",
      "From (original): https://drive.google.com/uc?id=1-Esam-6_haIP1nps3PPKq0icvEkX3QiV\r\n",
      "From (redirected): https://drive.google.com/uc?id=1-Esam-6_haIP1nps3PPKq0icvEkX3QiV&confirm=t&uuid=ebd21407-e0cc-4345-b9d1-da016f021789\r\n",
      "To: /kaggle/working/bdsl_final.zip\r\n",
      "100%|██████████████████████████████████████| 5.85G/5.85G [02:06<00:00, 46.1MB/s]\r\n"
     ]
    }
   ],
   "source": [
    "%cd /kaggle/working/\n",
    "# dataset link for bangla sign language zip\n",
    "# !gdown --id 1JQhewCk77RXOLryMsmDdc11q4YubHAhF\n",
    "# dataset for testing\n",
    "# !gdown 1-4MU6v0g_I-Lm8l4wrfeNFO9xEoVNYwO\n",
    "!gdown 1-Esam-6_haIP1nps3PPKq0icvEkX3QiV"
   ]
  },
  {
   "cell_type": "code",
   "execution_count": 7,
   "id": "8f8a5cec",
   "metadata": {
    "_cell_guid": "2cb7ef18-02f2-45cc-8611-238967327fb1",
    "_uuid": "d653f857-bd98-4afb-9a90-ae8894a6763c",
    "collapsed": false,
    "execution": {
     "iopub.execute_input": "2024-06-02T18:17:59.843851Z",
     "iopub.status.busy": "2024-06-02T18:17:59.842859Z",
     "iopub.status.idle": "2024-06-02T18:18:50.768940Z",
     "shell.execute_reply": "2024-06-02T18:18:50.764332Z"
    },
    "jupyter": {
     "outputs_hidden": false
    },
    "papermill": {
     "duration": 51.536523,
     "end_time": "2024-06-02T18:18:51.208453",
     "exception": false,
     "start_time": "2024-06-02T18:17:59.671930",
     "status": "completed"
    },
    "tags": []
   },
   "outputs": [
    {
     "name": "stdout",
     "output_type": "stream",
     "text": [
      "Folder successfully unzipped to /kaggle/working/yolov9/bdsl_final\n"
     ]
    }
   ],
   "source": [
    "import zipfile\n",
    "import os\n",
    "\n",
    "\n",
    "\n",
    "# Step 2: Define the path to the zip file\n",
    "zip_file_path = '/kaggle/working/bdsl_final.zip'\n",
    "\n",
    "# Step 3: Extract the name of the zip file (without extension) to create a folder\n",
    "zip_file_name = os.path.basename(zip_file_path)\n",
    "folder_name = os.path.splitext(zip_file_name)[0]\n",
    "extract_to_path = os.path.join('/kaggle/working/yolov9', folder_name)\n",
    "\n",
    "# Step 4: Create the output directory if it doesn't exist\n",
    "os.makedirs(extract_to_path, exist_ok=True)\n",
    "\n",
    "# Step 5: Unzip the file\n",
    "with zipfile.ZipFile(zip_file_path, 'r') as zip_ref:\n",
    "    zip_ref.extractall(extract_to_path)\n",
    "\n",
    "# Verify the extraction\n",
    "if os.path.exists(extract_to_path):\n",
    "    print(f\"Folder successfully unzipped to {extract_to_path}\")\n",
    "else:\n",
    "    print(\"Failed to unzip the folder.\")"
   ]
  },
  {
   "cell_type": "code",
   "execution_count": 8,
   "id": "4d263be3",
   "metadata": {
    "execution": {
     "iopub.execute_input": "2024-06-02T18:18:51.572661Z",
     "iopub.status.busy": "2024-06-02T18:18:51.571651Z",
     "iopub.status.idle": "2024-06-02T18:18:52.379266Z",
     "shell.execute_reply": "2024-06-02T18:18:52.378346Z"
    },
    "papermill": {
     "duration": 0.986487,
     "end_time": "2024-06-02T18:18:52.381500",
     "exception": false,
     "start_time": "2024-06-02T18:18:51.395013",
     "status": "completed"
    },
    "tags": []
   },
   "outputs": [
    {
     "name": "stdout",
     "output_type": "stream",
     "text": [
      "/kaggle/working/bdsl_final.zip has been deleted\n"
     ]
    }
   ],
   "source": [
    "import os\n",
    "\n",
    "file_path = '/kaggle/working/bdsl_final.zip'\n",
    "\n",
    "# Check if the file exists before trying to delete it\n",
    "if os.path.exists(file_path):\n",
    "    os.remove(file_path)\n",
    "    print(f\"{file_path} has been deleted\")\n",
    "else:\n",
    "    print(f\"{file_path} does not exist\")\n"
   ]
  },
  {
   "cell_type": "code",
   "execution_count": 9,
   "id": "30462e80",
   "metadata": {
    "_cell_guid": "fc2155ab-6458-4a43-949a-7433805743cb",
    "_uuid": "3a089677-efeb-44ba-8ff5-ea0c12227ee7",
    "collapsed": false,
    "execution": {
     "iopub.execute_input": "2024-06-02T18:18:52.684332Z",
     "iopub.status.busy": "2024-06-02T18:18:52.683982Z",
     "iopub.status.idle": "2024-06-02T18:18:52.687912Z",
     "shell.execute_reply": "2024-06-02T18:18:52.687064Z"
    },
    "jupyter": {
     "outputs_hidden": false
    },
    "papermill": {
     "duration": 0.157972,
     "end_time": "2024-06-02T18:18:52.689867",
     "exception": false,
     "start_time": "2024-06-02T18:18:52.531895",
     "status": "completed"
    },
    "tags": []
   },
   "outputs": [],
   "source": [
    "# %cd /kaggle/working/yolov9/models/detect\n",
    "# !gdown --id 1SHNpPjhxI11Cu3Lz8ZN5lhCDLe4okBCe"
   ]
  },
  {
   "cell_type": "code",
   "execution_count": 10,
   "id": "0e62e03f",
   "metadata": {
    "_cell_guid": "b34e9b11-eef8-434d-a104-609666fc9682",
    "_uuid": "c88b16ec-f4d5-4228-b640-8ba5e3c3c1fb",
    "collapsed": false,
    "execution": {
     "iopub.execute_input": "2024-06-02T18:18:52.987933Z",
     "iopub.status.busy": "2024-06-02T18:18:52.987383Z",
     "iopub.status.idle": "2024-06-02T18:18:55.160819Z",
     "shell.execute_reply": "2024-06-02T18:18:55.159849Z"
    },
    "jupyter": {
     "outputs_hidden": false
    },
    "papermill": {
     "duration": 2.325251,
     "end_time": "2024-06-02T18:18:55.163012",
     "exception": false,
     "start_time": "2024-06-02T18:18:52.837761",
     "status": "completed"
    },
    "tags": []
   },
   "outputs": [
    {
     "name": "stdout",
     "output_type": "stream",
     "text": [
      "/kaggle/working/yolov9\n",
      "Downloading...\r\n",
      "From: https://drive.google.com/uc?id=1LWWlVuwK6kQl9DVOAUK6kFVxhGKRFgMg\r\n",
      "To: /kaggle/working/yolov9/data.yaml\r\n",
      "100%|██████████████████████████████████████████| 527/527 [00:00<00:00, 2.98MB/s]\r\n"
     ]
    }
   ],
   "source": [
    "%cd /kaggle/working/yolov9\n",
    "# data.yml file\n",
    "# !gdown 1yRa2jbtUw74fhIr9o73hECeSPy86z52t\n",
    "# yml file for shoreo shoreya\n",
    "!gdown 1LWWlVuwK6kQl9DVOAUK6kFVxhGKRFgMg"
   ]
  },
  {
   "cell_type": "code",
   "execution_count": 11,
   "id": "5fb4fe97",
   "metadata": {
    "_cell_guid": "1b71b027-1a13-48ab-995e-6ebfc3939e8d",
    "_uuid": "a629435d-2cd5-4530-ac6b-a909b92e53de",
    "collapsed": false,
    "execution": {
     "iopub.execute_input": "2024-06-02T18:18:55.464073Z",
     "iopub.status.busy": "2024-06-02T18:18:55.463718Z",
     "iopub.status.idle": "2024-06-02T18:18:55.470063Z",
     "shell.execute_reply": "2024-06-02T18:18:55.469197Z"
    },
    "jupyter": {
     "outputs_hidden": false
    },
    "papermill": {
     "duration": 0.158673,
     "end_time": "2024-06-02T18:18:55.471929",
     "exception": false,
     "start_time": "2024-06-02T18:18:55.313256",
     "status": "completed"
    },
    "tags": []
   },
   "outputs": [
    {
     "name": "stdout",
     "output_type": "stream",
     "text": [
      "/kaggle/working/yolov9\n"
     ]
    }
   ],
   "source": [
    "%cd /kaggle/working/yolov9"
   ]
  },
  {
   "cell_type": "code",
   "execution_count": 12,
   "id": "c8c982a0",
   "metadata": {
    "_cell_guid": "b9088181-84d1-43bc-a628-8e63ef3fb825",
    "_uuid": "4a3ff935-70a0-4bf2-930d-a6ed556069eb",
    "collapsed": false,
    "execution": {
     "iopub.execute_input": "2024-06-02T18:18:55.773575Z",
     "iopub.status.busy": "2024-06-02T18:18:55.772692Z",
     "iopub.status.idle": "2024-06-02T18:18:55.777064Z",
     "shell.execute_reply": "2024-06-02T18:18:55.776205Z"
    },
    "jupyter": {
     "outputs_hidden": false
    },
    "papermill": {
     "duration": 0.156178,
     "end_time": "2024-06-02T18:18:55.779062",
     "exception": false,
     "start_time": "2024-06-02T18:18:55.622884",
     "status": "completed"
    },
    "tags": []
   },
   "outputs": [],
   "source": [
    "#!python train_dual.py --workers 16 --batch 8 --img 640 --epochs 20 --data /kaggle/working/yolov9/data.yaml --weights /kaggle/working/yolov9/yolov9-e.pt --device 0,1 --cfg /kaggle/working/yolov9/models/detect/yolov9_custom.yaml --hyp /kaggle/working/yolov9/data/hyps/hyp.scratch-high.yaml"
   ]
  },
  {
   "cell_type": "code",
   "execution_count": 13,
   "id": "aad93d2b",
   "metadata": {
    "_cell_guid": "e4914f95-fd27-4a74-9b15-ff20cb441f68",
    "_uuid": "3e2ca17f-4bf4-4c59-b03f-cf5b0afb0096",
    "collapsed": false,
    "execution": {
     "iopub.execute_input": "2024-06-02T18:18:56.084551Z",
     "iopub.status.busy": "2024-06-02T18:18:56.083539Z",
     "iopub.status.idle": "2024-06-02T18:18:56.088012Z",
     "shell.execute_reply": "2024-06-02T18:18:56.087167Z"
    },
    "jupyter": {
     "outputs_hidden": false
    },
    "papermill": {
     "duration": 0.160268,
     "end_time": "2024-06-02T18:18:56.090107",
     "exception": false,
     "start_time": "2024-06-02T18:18:55.929839",
     "status": "completed"
    },
    "tags": []
   },
   "outputs": [],
   "source": [
    "# !python train_dual.py \\\n",
    "# --workers 16 --batch 8 --img 512 --epochs 10 --verbose True \\\n",
    "# --resume true --data /kaggle/working/yolov9/data.yaml \\\n",
    "# --weights /kaggle/working/yolov9/yolov9-e.pt --device 0,1 \\\n",
    "# --cfg /kaggle/working/yolov9/models/detect/yolov9_custom.yaml \\\n",
    "# --hyp /kaggle/working/yolov9/data/hyps/hyp.scratch-high.yaml"
   ]
  },
  {
   "cell_type": "markdown",
   "id": "aa358baf",
   "metadata": {
    "_cell_guid": "5494688a-4a1a-45a6-9aba-19c4117d605b",
    "_uuid": "74b0020d-aac5-4bc9-89a1-0a77f1148b61",
    "papermill": {
     "duration": 0.157625,
     "end_time": "2024-06-02T18:18:56.405920",
     "exception": false,
     "start_time": "2024-06-02T18:18:56.248295",
     "status": "completed"
    },
    "tags": []
   },
   "source": [
    "### "
   ]
  },
  {
   "cell_type": "code",
   "execution_count": 14,
   "id": "b5e77457",
   "metadata": {
    "execution": {
     "iopub.execute_input": "2024-06-02T18:18:56.717736Z",
     "iopub.status.busy": "2024-06-02T18:18:56.716799Z",
     "iopub.status.idle": "2024-06-02T18:19:14.168289Z",
     "shell.execute_reply": "2024-06-02T18:19:14.167360Z"
    },
    "papermill": {
     "duration": 17.610178,
     "end_time": "2024-06-02T18:19:14.170573",
     "exception": false,
     "start_time": "2024-06-02T18:18:56.560395",
     "status": "completed"
    },
    "tags": []
   },
   "outputs": [
    {
     "name": "stdout",
     "output_type": "stream",
     "text": [
      "Collecting ultralytics\r\n",
      "  Downloading ultralytics-8.2.27-py3-none-any.whl.metadata (41 kB)\r\n",
      "\u001b[2K     \u001b[90m━━━━━━━━━━━━━━━━━━━━━━━━━━━━━━━━━━━━━━━\u001b[0m \u001b[32m41.2/41.2 kB\u001b[0m \u001b[31m570.3 kB/s\u001b[0m eta \u001b[36m0:00:00\u001b[0m\r\n",
      "\u001b[?25hRequirement already satisfied: matplotlib>=3.3.0 in /opt/conda/lib/python3.10/site-packages (from ultralytics) (3.7.5)\r\n",
      "Requirement already satisfied: opencv-python>=4.6.0 in /opt/conda/lib/python3.10/site-packages (from ultralytics) (4.9.0.80)\r\n",
      "Requirement already satisfied: pillow>=7.1.2 in /opt/conda/lib/python3.10/site-packages (from ultralytics) (9.5.0)\r\n",
      "Requirement already satisfied: pyyaml>=5.3.1 in /opt/conda/lib/python3.10/site-packages (from ultralytics) (6.0.1)\r\n",
      "Requirement already satisfied: requests>=2.23.0 in /opt/conda/lib/python3.10/site-packages (from ultralytics) (2.31.0)\r\n",
      "Requirement already satisfied: scipy>=1.4.1 in /opt/conda/lib/python3.10/site-packages (from ultralytics) (1.11.4)\r\n",
      "Requirement already satisfied: torch>=1.8.0 in /opt/conda/lib/python3.10/site-packages (from ultralytics) (2.1.2)\r\n",
      "Requirement already satisfied: torchvision>=0.9.0 in /opt/conda/lib/python3.10/site-packages (from ultralytics) (0.16.2)\r\n",
      "Requirement already satisfied: tqdm>=4.64.0 in /opt/conda/lib/python3.10/site-packages (from ultralytics) (4.66.1)\r\n",
      "Requirement already satisfied: psutil in /opt/conda/lib/python3.10/site-packages (from ultralytics) (5.9.3)\r\n",
      "Requirement already satisfied: py-cpuinfo in /opt/conda/lib/python3.10/site-packages (from ultralytics) (9.0.0)\r\n",
      "Collecting thop>=0.1.1 (from ultralytics)\r\n",
      "  Downloading thop-0.1.1.post2209072238-py3-none-any.whl.metadata (2.7 kB)\r\n",
      "Requirement already satisfied: pandas>=1.1.4 in /opt/conda/lib/python3.10/site-packages (from ultralytics) (2.1.4)\r\n",
      "Requirement already satisfied: seaborn>=0.11.0 in /opt/conda/lib/python3.10/site-packages (from ultralytics) (0.12.2)\r\n",
      "Requirement already satisfied: contourpy>=1.0.1 in /opt/conda/lib/python3.10/site-packages (from matplotlib>=3.3.0->ultralytics) (1.2.0)\r\n",
      "Requirement already satisfied: cycler>=0.10 in /opt/conda/lib/python3.10/site-packages (from matplotlib>=3.3.0->ultralytics) (0.12.1)\r\n",
      "Requirement already satisfied: fonttools>=4.22.0 in /opt/conda/lib/python3.10/site-packages (from matplotlib>=3.3.0->ultralytics) (4.47.0)\r\n",
      "Requirement already satisfied: kiwisolver>=1.0.1 in /opt/conda/lib/python3.10/site-packages (from matplotlib>=3.3.0->ultralytics) (1.4.5)\r\n",
      "Requirement already satisfied: numpy<2,>=1.20 in /opt/conda/lib/python3.10/site-packages (from matplotlib>=3.3.0->ultralytics) (1.26.4)\r\n",
      "Requirement already satisfied: packaging>=20.0 in /opt/conda/lib/python3.10/site-packages (from matplotlib>=3.3.0->ultralytics) (21.3)\r\n",
      "Requirement already satisfied: pyparsing>=2.3.1 in /opt/conda/lib/python3.10/site-packages (from matplotlib>=3.3.0->ultralytics) (3.1.1)\r\n",
      "Requirement already satisfied: python-dateutil>=2.7 in /opt/conda/lib/python3.10/site-packages (from matplotlib>=3.3.0->ultralytics) (2.9.0.post0)\r\n",
      "Requirement already satisfied: pytz>=2020.1 in /opt/conda/lib/python3.10/site-packages (from pandas>=1.1.4->ultralytics) (2023.3.post1)\r\n",
      "Requirement already satisfied: tzdata>=2022.1 in /opt/conda/lib/python3.10/site-packages (from pandas>=1.1.4->ultralytics) (2023.4)\r\n",
      "Requirement already satisfied: charset-normalizer<4,>=2 in /opt/conda/lib/python3.10/site-packages (from requests>=2.23.0->ultralytics) (3.3.2)\r\n",
      "Requirement already satisfied: idna<4,>=2.5 in /opt/conda/lib/python3.10/site-packages (from requests>=2.23.0->ultralytics) (3.6)\r\n",
      "Requirement already satisfied: urllib3<3,>=1.21.1 in /opt/conda/lib/python3.10/site-packages (from requests>=2.23.0->ultralytics) (1.26.18)\r\n",
      "Requirement already satisfied: certifi>=2017.4.17 in /opt/conda/lib/python3.10/site-packages (from requests>=2.23.0->ultralytics) (2024.2.2)\r\n",
      "Requirement already satisfied: filelock in /opt/conda/lib/python3.10/site-packages (from torch>=1.8.0->ultralytics) (3.13.1)\r\n",
      "Requirement already satisfied: typing-extensions in /opt/conda/lib/python3.10/site-packages (from torch>=1.8.0->ultralytics) (4.9.0)\r\n",
      "Requirement already satisfied: sympy in /opt/conda/lib/python3.10/site-packages (from torch>=1.8.0->ultralytics) (1.12)\r\n",
      "Requirement already satisfied: networkx in /opt/conda/lib/python3.10/site-packages (from torch>=1.8.0->ultralytics) (3.2.1)\r\n",
      "Requirement already satisfied: jinja2 in /opt/conda/lib/python3.10/site-packages (from torch>=1.8.0->ultralytics) (3.1.2)\r\n",
      "Requirement already satisfied: fsspec in /opt/conda/lib/python3.10/site-packages (from torch>=1.8.0->ultralytics) (2024.2.0)\r\n",
      "Requirement already satisfied: six>=1.5 in /opt/conda/lib/python3.10/site-packages (from python-dateutil>=2.7->matplotlib>=3.3.0->ultralytics) (1.16.0)\r\n",
      "Requirement already satisfied: MarkupSafe>=2.0 in /opt/conda/lib/python3.10/site-packages (from jinja2->torch>=1.8.0->ultralytics) (2.1.3)\r\n",
      "Requirement already satisfied: mpmath>=0.19 in /opt/conda/lib/python3.10/site-packages (from sympy->torch>=1.8.0->ultralytics) (1.3.0)\r\n",
      "Downloading ultralytics-8.2.27-py3-none-any.whl (779 kB)\r\n",
      "\u001b[2K   \u001b[90m━━━━━━━━━━━━━━━━━━━━━━━━━━━━━━━━━━━━━━━━\u001b[0m \u001b[32m779.6/779.6 kB\u001b[0m \u001b[31m5.3 MB/s\u001b[0m eta \u001b[36m0:00:00\u001b[0m\r\n",
      "\u001b[?25hDownloading thop-0.1.1.post2209072238-py3-none-any.whl (15 kB)\r\n",
      "Installing collected packages: thop, ultralytics\r\n",
      "Successfully installed thop-0.1.1.post2209072238 ultralytics-8.2.27\r\n"
     ]
    }
   ],
   "source": [
    "!pip install ultralytics \n"
   ]
  },
  {
   "cell_type": "code",
   "execution_count": 15,
   "id": "35180f03",
   "metadata": {
    "execution": {
     "iopub.execute_input": "2024-06-02T18:19:14.478720Z",
     "iopub.status.busy": "2024-06-02T18:19:14.477970Z",
     "iopub.status.idle": "2024-06-02T18:19:14.484369Z",
     "shell.execute_reply": "2024-06-02T18:19:14.483464Z"
    },
    "papermill": {
     "duration": 0.160525,
     "end_time": "2024-06-02T18:19:14.486330",
     "exception": false,
     "start_time": "2024-06-02T18:19:14.325805",
     "status": "completed"
    },
    "tags": []
   },
   "outputs": [
    {
     "name": "stdout",
     "output_type": "stream",
     "text": [
      "/kaggle/working/yolov9\n"
     ]
    }
   ],
   "source": [
    "%cd /kaggle/working/yolov9"
   ]
  },
  {
   "cell_type": "code",
   "execution_count": 16,
   "id": "74f39755",
   "metadata": {
    "execution": {
     "iopub.execute_input": "2024-06-02T18:19:14.831687Z",
     "iopub.status.busy": "2024-06-02T18:19:14.830832Z",
     "iopub.status.idle": "2024-06-02T18:19:14.834908Z",
     "shell.execute_reply": "2024-06-02T18:19:14.834205Z"
    },
    "papermill": {
     "duration": 0.19809,
     "end_time": "2024-06-02T18:19:14.836826",
     "exception": false,
     "start_time": "2024-06-02T18:19:14.638736",
     "status": "completed"
    },
    "tags": []
   },
   "outputs": [],
   "source": [
    "#best pt file \n",
    "# !gdown 1Pgf9D29jDo2RrY3EbjUWsBco0lbE0k4F"
   ]
  },
  {
   "cell_type": "code",
   "execution_count": 17,
   "id": "16c45ba6",
   "metadata": {
    "execution": {
     "iopub.execute_input": "2024-06-02T18:19:15.142269Z",
     "iopub.status.busy": "2024-06-02T18:19:15.141891Z",
     "iopub.status.idle": "2024-06-02T18:19:23.475852Z",
     "shell.execute_reply": "2024-06-02T18:19:23.474900Z"
    },
    "papermill": {
     "duration": 8.49036,
     "end_time": "2024-06-02T18:19:23.477759",
     "exception": false,
     "start_time": "2024-06-02T18:19:14.987399",
     "status": "completed"
    },
    "tags": []
   },
   "outputs": [
    {
     "name": "stdout",
     "output_type": "stream",
     "text": [
      "Downloading https://github.com/ultralytics/assets/releases/download/v8.2.0/yolov9c.pt to 'yolov9c.pt'...\n"
     ]
    },
    {
     "name": "stderr",
     "output_type": "stream",
     "text": [
      "100%|██████████| 49.4M/49.4M [00:00<00:00, 203MB/s]\n"
     ]
    },
    {
     "name": "stdout",
     "output_type": "stream",
     "text": [
      "YOLOv9c summary: 618 layers, 25590912 parameters, 0 gradients, 104.0 GFLOPs\n"
     ]
    },
    {
     "data": {
      "text/plain": [
       "(618, 25590912, 0, 104.02268160000003)"
      ]
     },
     "execution_count": 17,
     "metadata": {},
     "output_type": "execute_result"
    }
   ],
   "source": [
    "from ultralytics import YOLO\n",
    "\n",
    "\n",
    "# Build a YOLOv9c model from pretrained weight\n",
    "model = YOLO(\"yolov9c.pt\")\n",
    "\n",
    "# Display model information (optional)\n",
    "model.info()\n",
    "\n"
   ]
  },
  {
   "cell_type": "code",
   "execution_count": 18,
   "id": "592fbe4a",
   "metadata": {
    "execution": {
     "iopub.execute_input": "2024-06-02T18:19:23.790397Z",
     "iopub.status.busy": "2024-06-02T18:19:23.789589Z",
     "iopub.status.idle": "2024-06-02T18:19:23.796394Z",
     "shell.execute_reply": "2024-06-02T18:19:23.795536Z"
    },
    "papermill": {
     "duration": 0.163587,
     "end_time": "2024-06-02T18:19:23.798247",
     "exception": false,
     "start_time": "2024-06-02T18:19:23.634660",
     "status": "completed"
    },
    "tags": []
   },
   "outputs": [],
   "source": [
    "import torch\n",
    "import torch.nn as nn\n",
    "\n",
    "\n",
    "class DataParallelModel(nn.Module):\n",
    "\n",
    "    def __init__(self):\n",
    "        super().__init__()\n",
    "        self.block1 = nn.Linear(10, 20)\n",
    "\n",
    "        # wrap block2 in DataParallel\n",
    "        self.block2 = nn.Linear(20, 20)\n",
    "        self.block2 = nn.DataParallel(self.block2)\n",
    "\n",
    "        self.block3 = nn.Linear(20, 20)\n",
    "\n",
    "    def forward(self, x):\n",
    "        x = self.block1(x)\n",
    "        x = self.block2(x)\n",
    "        x = self.block3(x)\n",
    "        return x"
   ]
  },
  {
   "cell_type": "code",
   "execution_count": 19,
   "id": "a8c75e2b",
   "metadata": {
    "execution": {
     "iopub.execute_input": "2024-06-02T18:19:24.106793Z",
     "iopub.status.busy": "2024-06-02T18:19:24.106480Z",
     "iopub.status.idle": "2024-06-02T18:19:42.568926Z",
     "shell.execute_reply": "2024-06-02T18:19:42.567368Z"
    },
    "papermill": {
     "duration": 18.619313,
     "end_time": "2024-06-02T18:19:42.571814",
     "exception": false,
     "start_time": "2024-06-02T18:19:23.952501",
     "status": "completed"
    },
    "tags": []
   },
   "outputs": [
    {
     "name": "stderr",
     "output_type": "stream",
     "text": [
      "\u001b[34m\u001b[1mwandb\u001b[0m: W&B API key is configured. Use \u001b[1m`wandb login --relogin`\u001b[0m to force relogin\n",
      "\u001b[34m\u001b[1mwandb\u001b[0m: \u001b[33mWARNING\u001b[0m If you're specifying your api key in code, ensure this code is not shared publicly.\n",
      "\u001b[34m\u001b[1mwandb\u001b[0m: \u001b[33mWARNING\u001b[0m Consider setting the WANDB_API_KEY environment variable, or running `wandb login` from the command line.\n",
      "\u001b[34m\u001b[1mwandb\u001b[0m: Appending key for api.wandb.ai to your netrc file: /root/.netrc\n",
      "\u001b[34m\u001b[1mwandb\u001b[0m: Currently logged in as: \u001b[33mmahedi615\u001b[0m (\u001b[33mown-business615\u001b[0m). Use \u001b[1m`wandb login --relogin`\u001b[0m to force relogin\n",
      "\u001b[34m\u001b[1mwandb\u001b[0m: wandb version 0.17.0 is available!  To upgrade, please run:\n",
      "\u001b[34m\u001b[1mwandb\u001b[0m:  $ pip install wandb --upgrade\n",
      "\u001b[34m\u001b[1mwandb\u001b[0m: Tracking run with wandb version 0.16.6\n",
      "\u001b[34m\u001b[1mwandb\u001b[0m: Run data is saved locally in \u001b[35m\u001b[1m/kaggle/working/yolov9/wandb/run-20240602_181926-ioqpsihb\u001b[0m\n",
      "\u001b[34m\u001b[1mwandb\u001b[0m: Run \u001b[1m`wandb offline`\u001b[0m to turn off syncing.\n",
      "\u001b[34m\u001b[1mwandb\u001b[0m: Syncing run \u001b[33mbreezy-cloud-4\u001b[0m\n",
      "\u001b[34m\u001b[1mwandb\u001b[0m: ⭐️ View project at \u001b[34m\u001b[4mhttps://wandb.ai/own-business615/Bangla%20Sign%20Language%20Detection\u001b[0m\n",
      "\u001b[34m\u001b[1mwandb\u001b[0m: 🚀 View run at \u001b[34m\u001b[4mhttps://wandb.ai/own-business615/Bangla%20Sign%20Language%20Detection/runs/ioqpsihb\u001b[0m\n"
     ]
    }
   ],
   "source": [
    "# train.py\n",
    "import wandb\n",
    "import random  # for demo script\n",
    "WANDB_API_KEY='957d38e93afcd97d0286c494f525efdb6caf7707'\n",
    "\n",
    "wandb.login(key=WANDB_API_KEY)\n",
    "\n",
    "epochs = 15\n",
    "lr = 0.01\n",
    "\n",
    "run = wandb.init(\n",
    "    # Set the project where this run will be logged\n",
    "    project=\"Bangla Sign Language Detection\",\n",
    "    # Track hyperparameters and run metadata\n",
    "    config={\n",
    "        \"learning_rate\": lr,\n",
    "        \"epochs\": epochs,\n",
    "    },\n",
    ")\n",
    "# offset = random.random() / 5\n",
    "# print(f\"lr: {lr}\")\n",
    "\n",
    "# # simulating a training run\n",
    "# for epoch in range(2, epochs):\n",
    "#     acc = 1 - 2**-epoch - random.random() / epoch - offset\n",
    "#     loss = 2**-epoch + random.random() / epoch + offset\n",
    "#     print(f\"epoch={epoch}, accuracy={acc}, loss={loss}\")\n",
    "#     wandb.log({\"accuracy\": acc, \"loss\": loss})\n",
    "\n",
    "# run.log_code()"
   ]
  },
  {
   "cell_type": "code",
   "execution_count": 20,
   "id": "18bb880c",
   "metadata": {
    "execution": {
     "iopub.execute_input": "2024-06-02T18:19:42.881632Z",
     "iopub.status.busy": "2024-06-02T18:19:42.881006Z",
     "iopub.status.idle": "2024-06-02T21:37:00.271230Z",
     "shell.execute_reply": "2024-06-02T21:37:00.270357Z"
    },
    "papermill": {
     "duration": 11837.545291,
     "end_time": "2024-06-02T21:37:00.273534",
     "exception": false,
     "start_time": "2024-06-02T18:19:42.728243",
     "status": "completed"
    },
    "tags": []
   },
   "outputs": [
    {
     "name": "stdout",
     "output_type": "stream",
     "text": [
      "Ultralytics YOLOv8.2.27 🚀 Python-3.10.13 torch-2.1.2 CUDA:0 (Tesla T4, 15102MiB)\n",
      "                                                      CUDA:1 (Tesla T4, 15102MiB)\n",
      "\u001b[34m\u001b[1mengine/trainer: \u001b[0mtask=detect, mode=train, model=yolov9c.pt, data=/kaggle/working/yolov9/data.yaml, epochs=15, time=None, patience=100, batch=16, imgsz=640, save=True, save_period=1, cache=False, device=[0, 1], workers=8, project=None, name=train, exist_ok=False, pretrained=True, optimizer=auto, verbose=True, seed=0, deterministic=True, single_cls=False, rect=False, cos_lr=False, close_mosaic=10, resume=False, amp=True, fraction=1.0, profile=False, freeze=None, multi_scale=False, overlap_mask=True, mask_ratio=4, dropout=0.0, val=True, split=val, save_json=False, save_hybrid=False, conf=None, iou=0.7, max_det=300, half=False, dnn=False, plots=True, source=None, vid_stride=1, stream_buffer=False, visualize=False, augment=False, agnostic_nms=False, classes=None, retina_masks=False, embed=None, show=False, save_frames=False, save_txt=False, save_conf=False, save_crop=False, show_labels=True, show_conf=True, show_boxes=True, line_width=None, format=torchscript, keras=False, optimize=False, int8=False, dynamic=False, simplify=False, opset=None, workspace=4, nms=False, lr0=0.01, lrf=0.01, momentum=0.937, weight_decay=0.0005, warmup_epochs=3.0, warmup_momentum=0.8, warmup_bias_lr=0.1, box=7.5, cls=0.5, dfl=1.5, pose=12.0, kobj=1.0, label_smoothing=0.0, nbs=64, hsv_h=0.015, hsv_s=0.7, hsv_v=0.4, degrees=0.0, translate=0.1, scale=0.5, shear=0.0, perspective=0.0, flipud=0.0, fliplr=0.5, bgr=0.0, mosaic=1.0, mixup=0.0, copy_paste=0.0, auto_augment=randaugment, erasing=0.4, crop_fraction=1.0, cfg=None, tracker=botsort.yaml, save_dir=runs/detect/train\n",
      "Downloading https://ultralytics.com/assets/Arial.Unicode.ttf to '/root/.config/Ultralytics/Arial.Unicode.ttf'...\n"
     ]
    },
    {
     "name": "stderr",
     "output_type": "stream",
     "text": [
      "100%|██████████| 22.2M/22.2M [00:00<00:00, 117MB/s] \n",
      "2024-06-02 18:19:46,271\tINFO util.py:124 -- Outdated packages:\n",
      "  ipywidgets==7.7.1 found, needs ipywidgets>=8\n",
      "Run `pip install -U ipywidgets`, then restart the notebook server for rich notebook output.\n",
      "2024-06-02 18:19:48,164\tINFO util.py:124 -- Outdated packages:\n",
      "  ipywidgets==7.7.1 found, needs ipywidgets>=8\n",
      "Run `pip install -U ipywidgets`, then restart the notebook server for rich notebook output.\n"
     ]
    },
    {
     "name": "stdout",
     "output_type": "stream",
     "text": [
      "Overriding model.yaml nc=80 with nc=49\n",
      "\n",
      "                   from  n    params  module                                       arguments                     \n",
      "  0                  -1  1      1856  ultralytics.nn.modules.conv.Conv             [3, 64, 3, 2]                 \n",
      "  1                  -1  1     73984  ultralytics.nn.modules.conv.Conv             [64, 128, 3, 2]               \n",
      "  2                  -1  1    212864  ultralytics.nn.modules.block.RepNCSPELAN4    [128, 256, 128, 64, 1]        \n",
      "  3                  -1  1    164352  ultralytics.nn.modules.block.ADown           [256, 256]                    \n",
      "  4                  -1  1    847616  ultralytics.nn.modules.block.RepNCSPELAN4    [256, 512, 256, 128, 1]       \n",
      "  5                  -1  1    656384  ultralytics.nn.modules.block.ADown           [512, 512]                    \n",
      "  6                  -1  1   2857472  ultralytics.nn.modules.block.RepNCSPELAN4    [512, 512, 512, 256, 1]       \n",
      "  7                  -1  1    656384  ultralytics.nn.modules.block.ADown           [512, 512]                    \n",
      "  8                  -1  1   2857472  ultralytics.nn.modules.block.RepNCSPELAN4    [512, 512, 512, 256, 1]       \n",
      "  9                  -1  1    656896  ultralytics.nn.modules.block.SPPELAN         [512, 512, 256]               \n",
      " 10                  -1  1         0  torch.nn.modules.upsampling.Upsample         [None, 2, 'nearest']          \n",
      " 11             [-1, 6]  1         0  ultralytics.nn.modules.conv.Concat           [1]                           \n",
      " 12                  -1  1   3119616  ultralytics.nn.modules.block.RepNCSPELAN4    [1024, 512, 512, 256, 1]      \n",
      " 13                  -1  1         0  torch.nn.modules.upsampling.Upsample         [None, 2, 'nearest']          \n",
      " 14             [-1, 4]  1         0  ultralytics.nn.modules.conv.Concat           [1]                           \n",
      " 15                  -1  1    912640  ultralytics.nn.modules.block.RepNCSPELAN4    [1024, 256, 256, 128, 1]      \n",
      " 16                  -1  1    164352  ultralytics.nn.modules.block.ADown           [256, 256]                    \n",
      " 17            [-1, 12]  1         0  ultralytics.nn.modules.conv.Concat           [1]                           \n",
      " 18                  -1  1   2988544  ultralytics.nn.modules.block.RepNCSPELAN4    [768, 512, 512, 256, 1]       \n",
      " 19                  -1  1    656384  ultralytics.nn.modules.block.ADown           [512, 512]                    \n",
      " 20             [-1, 9]  1         0  ultralytics.nn.modules.conv.Concat           [1]                           \n",
      " 21                  -1  1   3119616  ultralytics.nn.modules.block.RepNCSPELAN4    [1024, 512, 512, 256, 1]      \n",
      " 22        [15, 18, 21]  1   5620579  ultralytics.nn.modules.head.Detect           [49, [256, 512, 512]]         \n",
      "YOLOv9c summary: 618 layers, 25567011 parameters, 25566995 gradients, 103.9 GFLOPs\n",
      "\n",
      "Transferred 931/937 items from pretrained weights\n",
      "\u001b[34m\u001b[1mDDP:\u001b[0m debug command /opt/conda/bin/python -m torch.distributed.run --nproc_per_node 2 --master_port 60687 /root/.config/Ultralytics/DDP/_temp_2ish3uck136799515475776.py\n",
      "Ultralytics YOLOv8.2.27 🚀 Python-3.10.13 torch-2.1.2 CUDA:0 (Tesla T4, 15102MiB)\n",
      "                                                      CUDA:1 (Tesla T4, 15102MiB)\n",
      "\u001b[34m\u001b[1mTensorBoard: \u001b[0mStart with 'tensorboard --logdir runs/detect/train', view at http://localhost:6006/\n"
     ]
    },
    {
     "name": "stderr",
     "output_type": "stream",
     "text": [
      "wandb: Currently logged in as: mahedi615 (own-business615). Use `wandb login --relogin` to force relogin\n",
      "wandb: wandb version 0.17.0 is available!  To upgrade, please run:\n",
      "wandb:  $ pip install wandb --upgrade\n",
      "wandb: Tracking run with wandb version 0.16.6\n",
      "wandb: Run data is saved locally in /kaggle/working/yolov9/wandb/run-20240602_182015-wrdbbgzo\n",
      "wandb: Run `wandb offline` to turn off syncing.\n",
      "wandb: Syncing run train\n",
      "wandb: ⭐️ View project at https://wandb.ai/own-business615/YOLOv8\n",
      "wandb: 🚀 View run at https://wandb.ai/own-business615/YOLOv8/runs/wrdbbgzo\n"
     ]
    },
    {
     "name": "stdout",
     "output_type": "stream",
     "text": [
      "Overriding model.yaml nc=80 with nc=49\n",
      "Transferred 931/937 items from pretrained weights\n",
      "Freezing layer 'model.22.dfl.conv.weight'\n",
      "\u001b[34m\u001b[1mAMP: \u001b[0mrunning Automatic Mixed Precision (AMP) checks with YOLOv8n...\n",
      "Downloading https://github.com/ultralytics/assets/releases/download/v8.2.0/yolov8n.pt to 'yolov8n.pt'...\n"
     ]
    },
    {
     "name": "stderr",
     "output_type": "stream",
     "text": [
      "100%|██████████| 6.23M/6.23M [00:00<00:00, 68.2MB/s]\n"
     ]
    },
    {
     "name": "stdout",
     "output_type": "stream",
     "text": [
      "\u001b[34m\u001b[1mAMP: \u001b[0mchecks passed ✅\n"
     ]
    },
    {
     "name": "stderr",
     "output_type": "stream",
     "text": [
      "\u001b[34m\u001b[1mtrain: \u001b[0mScanning /kaggle/working/yolov9/bdsl_final/train/labels... 9225 images, 5 backgrounds, 0 corrupt: 100%|██████████| 9230/9230 [00:07<00:00, 1214.97it/s]\n"
     ]
    },
    {
     "name": "stdout",
     "output_type": "stream",
     "text": [
      "\u001b[34m\u001b[1mtrain: \u001b[0mNew cache created: /kaggle/working/yolov9/bdsl_final/train/labels.cache\n",
      "\u001b[34m\u001b[1malbumentations: \u001b[0mBlur(p=0.01, blur_limit=(3, 7)), MedianBlur(p=0.01, blur_limit=(3, 7)), ToGray(p=0.01), CLAHE(p=0.01, clip_limit=(1, 4.0), tile_grid_size=(8, 8))\n"
     ]
    },
    {
     "name": "stderr",
     "output_type": "stream",
     "text": [
      "\u001b[34m\u001b[1mval: \u001b[0mScanning /kaggle/working/yolov9/bdsl_final/val/labels... 2307 images, 1 backgrounds, 0 corrupt: 100%|██████████| 2308/2308 [00:01<00:00, 1536.70it/s]\n"
     ]
    },
    {
     "name": "stdout",
     "output_type": "stream",
     "text": [
      "\u001b[34m\u001b[1mval: \u001b[0mNew cache created: /kaggle/working/yolov9/bdsl_final/val/labels.cache\n",
      "Plotting labels to runs/detect/train/labels.jpg... \n",
      "\u001b[34m\u001b[1moptimizer:\u001b[0m 'optimizer=auto' found, ignoring 'lr0=0.01' and 'momentum=0.937' and determining best 'optimizer', 'lr0' and 'momentum' automatically... \n",
      "\u001b[34m\u001b[1moptimizer:\u001b[0m AdamW(lr=0.000714, momentum=0.9) with parameter groups 154 weight(decay=0.0), 161 weight(decay=0.0005), 160 bias(decay=0.0)\n",
      "\u001b[34m\u001b[1mTensorBoard: \u001b[0mmodel graph visualization added ✅\n",
      "Image sizes 640 train, 640 val\n",
      "Using 4 dataloader workers\n",
      "Logging results to \u001b[1mruns/detect/train\u001b[0m\n",
      "Starting training for 15 epochs...\n",
      "\n",
      "      Epoch    GPU_mem   box_loss   cls_loss   dfl_loss  Instances       Size\n"
     ]
    },
    {
     "name": "stderr",
     "output_type": "stream",
     "text": [
      "       1/15      6.09G      1.907      6.701      2.149         16        640:   0%|          | 2/577 [00:03<13:52,  1.45s/it]"
     ]
    },
    {
     "name": "stdout",
     "output_type": "stream",
     "text": [
      "Downloading https://ultralytics.com/assets/Arial.ttf to '/root/.config/Ultralytics/Arial.ttf'...\n"
     ]
    },
    {
     "name": "stderr",
     "output_type": "stream",
     "text": [
      "       1/15      6.09G      1.858      6.366      2.091         24        640:   1%|          | 4/577 [00:04<08:49,  1.08it/s]\n",
      "100%|██████████| 755k/755k [00:00<00:00, 13.7MB/s]\n",
      "       1/15      6.19G       1.01      2.474      1.389         18        640: 100%|██████████| 577/577 [09:56<00:00,  1.03s/it]\n",
      "                 Class     Images  Instances      Box(P          R      mAP50  mAP50-95): 100%|██████████| 145/145 [03:16<00:00,  1.35s/it]\n"
     ]
    },
    {
     "name": "stdout",
     "output_type": "stream",
     "text": [
      "                   all       2308       2307      0.683      0.637      0.736      0.532\n",
      "\n",
      "      Epoch    GPU_mem   box_loss   cls_loss   dfl_loss  Instances       Size\n"
     ]
    },
    {
     "name": "stderr",
     "output_type": "stream",
     "text": [
      "       2/15      6.01G      1.035       1.72      1.406         11        640: 100%|██████████| 577/577 [09:42<00:00,  1.01s/it]\n",
      "                 Class     Images  Instances      Box(P          R      mAP50  mAP50-95): 100%|██████████| 145/145 [02:56<00:00,  1.22s/it]\n"
     ]
    },
    {
     "name": "stdout",
     "output_type": "stream",
     "text": [
      "                   all       2308       2307      0.728      0.762      0.831      0.643\n",
      "\n",
      "      Epoch    GPU_mem   box_loss   cls_loss   dfl_loss  Instances       Size\n"
     ]
    },
    {
     "name": "stderr",
     "output_type": "stream",
     "text": [
      "       3/15      6.08G      0.996        1.5      1.388         16        640: 100%|██████████| 577/577 [09:41<00:00,  1.01s/it]\n",
      "                 Class     Images  Instances      Box(P          R      mAP50  mAP50-95): 100%|██████████| 145/145 [03:03<00:00,  1.27s/it]\n"
     ]
    },
    {
     "name": "stdout",
     "output_type": "stream",
     "text": [
      "                   all       2308       2307      0.788      0.803      0.869      0.678\n",
      "\n",
      "      Epoch    GPU_mem   box_loss   cls_loss   dfl_loss  Instances       Size\n"
     ]
    },
    {
     "name": "stderr",
     "output_type": "stream",
     "text": [
      "       4/15      6.07G     0.9472      1.337       1.36         12        640: 100%|██████████| 577/577 [09:41<00:00,  1.01s/it]\n",
      "                 Class     Images  Instances      Box(P          R      mAP50  mAP50-95): 100%|██████████| 145/145 [03:04<00:00,  1.27s/it]\n"
     ]
    },
    {
     "name": "stdout",
     "output_type": "stream",
     "text": [
      "                   all       2308       2307      0.864      0.893      0.939      0.739\n",
      "\n",
      "      Epoch    GPU_mem   box_loss   cls_loss   dfl_loss  Instances       Size\n"
     ]
    },
    {
     "name": "stderr",
     "output_type": "stream",
     "text": [
      "       5/15      6.07G     0.8756      1.145      1.316         21        640: 100%|██████████| 577/577 [09:42<00:00,  1.01s/it]\n",
      "                 Class     Images  Instances      Box(P          R      mAP50  mAP50-95): 100%|██████████| 145/145 [03:04<00:00,  1.27s/it]\n"
     ]
    },
    {
     "name": "stdout",
     "output_type": "stream",
     "text": [
      "                   all       2308       2307      0.889      0.902      0.957      0.781\n",
      "Closing dataloader mosaic\n",
      "\u001b[34m\u001b[1malbumentations: \u001b[0mBlur(p=0.01, blur_limit=(3, 7)), MedianBlur(p=0.01, blur_limit=(3, 7)), ToGray(p=0.01), CLAHE(p=0.01, clip_limit=(1, 4.0), tile_grid_size=(8, 8))\n",
      "\n",
      "      Epoch    GPU_mem   box_loss   cls_loss   dfl_loss  Instances       Size\n"
     ]
    },
    {
     "name": "stderr",
     "output_type": "stream",
     "text": [
      "       6/15         6G     0.7443     0.6877      1.276          7        640: 100%|██████████| 577/577 [10:00<00:00,  1.04s/it]\n",
      "                 Class     Images  Instances      Box(P          R      mAP50  mAP50-95): 100%|██████████| 145/145 [03:06<00:00,  1.28s/it]\n"
     ]
    },
    {
     "name": "stdout",
     "output_type": "stream",
     "text": [
      "                   all       2308       2307      0.915      0.919      0.958       0.79\n",
      "\n",
      "      Epoch    GPU_mem   box_loss   cls_loss   dfl_loss  Instances       Size\n"
     ]
    },
    {
     "name": "stderr",
     "output_type": "stream",
     "text": [
      "       7/15      6.08G     0.6999      0.601      1.228          7        640: 100%|██████████| 577/577 [09:44<00:00,  1.01s/it]\n",
      "                 Class     Images  Instances      Box(P          R      mAP50  mAP50-95): 100%|██████████| 145/145 [03:03<00:00,  1.26s/it]\n"
     ]
    },
    {
     "name": "stdout",
     "output_type": "stream",
     "text": [
      "                   all       2308       2307       0.93      0.913      0.964      0.798\n",
      "\n",
      "      Epoch    GPU_mem   box_loss   cls_loss   dfl_loss  Instances       Size\n"
     ]
    },
    {
     "name": "stderr",
     "output_type": "stream",
     "text": [
      "       8/15      6.07G     0.6719     0.5452      1.209          7        640: 100%|██████████| 577/577 [09:48<00:00,  1.02s/it]\n",
      "                 Class     Images  Instances      Box(P          R      mAP50  mAP50-95): 100%|██████████| 145/145 [03:04<00:00,  1.27s/it]\n"
     ]
    },
    {
     "name": "stdout",
     "output_type": "stream",
     "text": [
      "                   all       2308       2307      0.954      0.951      0.974       0.83\n",
      "\n",
      "      Epoch    GPU_mem   box_loss   cls_loss   dfl_loss  Instances       Size\n"
     ]
    },
    {
     "name": "stderr",
     "output_type": "stream",
     "text": [
      "       9/15      6.06G     0.6385     0.4756      1.183          7        640: 100%|██████████| 577/577 [09:43<00:00,  1.01s/it]\n",
      "                 Class     Images  Instances      Box(P          R      mAP50  mAP50-95): 100%|██████████| 145/145 [03:02<00:00,  1.26s/it]\n"
     ]
    },
    {
     "name": "stdout",
     "output_type": "stream",
     "text": [
      "                   all       2308       2307      0.957      0.964      0.981      0.831\n",
      "\n",
      "      Epoch    GPU_mem   box_loss   cls_loss   dfl_loss  Instances       Size\n"
     ]
    },
    {
     "name": "stderr",
     "output_type": "stream",
     "text": [
      "      10/15      6.01G     0.6062     0.4249      1.151          7        640: 100%|██████████| 577/577 [09:41<00:00,  1.01s/it]\n",
      "                 Class     Images  Instances      Box(P          R      mAP50  mAP50-95): 100%|██████████| 145/145 [03:00<00:00,  1.24s/it]\n"
     ]
    },
    {
     "name": "stdout",
     "output_type": "stream",
     "text": [
      "                   all       2308       2307      0.973      0.971      0.984      0.846\n",
      "\n",
      "      Epoch    GPU_mem   box_loss   cls_loss   dfl_loss  Instances       Size\n"
     ]
    },
    {
     "name": "stderr",
     "output_type": "stream",
     "text": [
      "      11/15      6.08G     0.5868      0.397      1.136          7        640: 100%|██████████| 577/577 [09:45<00:00,  1.01s/it]\n",
      "                 Class     Images  Instances      Box(P          R      mAP50  mAP50-95): 100%|██████████| 145/145 [03:02<00:00,  1.26s/it]\n"
     ]
    },
    {
     "name": "stdout",
     "output_type": "stream",
     "text": [
      "                   all       2308       2307      0.975       0.97      0.986      0.853\n",
      "\n",
      "      Epoch    GPU_mem   box_loss   cls_loss   dfl_loss  Instances       Size\n"
     ]
    },
    {
     "name": "stderr",
     "output_type": "stream",
     "text": [
      "      12/15      6.07G     0.5617     0.3688      1.112          7        640: 100%|██████████| 577/577 [09:37<00:00,  1.00s/it]\n",
      "                 Class     Images  Instances      Box(P          R      mAP50  mAP50-95): 100%|██████████| 145/145 [03:01<00:00,  1.25s/it]\n"
     ]
    },
    {
     "name": "stdout",
     "output_type": "stream",
     "text": [
      "                   all       2308       2307      0.974      0.972      0.983      0.857\n",
      "\n",
      "      Epoch    GPU_mem   box_loss   cls_loss   dfl_loss  Instances       Size\n"
     ]
    },
    {
     "name": "stderr",
     "output_type": "stream",
     "text": [
      "      13/15      6.06G     0.5402     0.3337       1.09          7        640: 100%|██████████| 577/577 [09:43<00:00,  1.01s/it]\n",
      "                 Class     Images  Instances      Box(P          R      mAP50  mAP50-95): 100%|██████████| 145/145 [03:06<00:00,  1.29s/it]\n"
     ]
    },
    {
     "name": "stdout",
     "output_type": "stream",
     "text": [
      "                   all       2308       2307      0.976      0.976      0.986       0.87\n",
      "\n",
      "      Epoch    GPU_mem   box_loss   cls_loss   dfl_loss  Instances       Size\n"
     ]
    },
    {
     "name": "stderr",
     "output_type": "stream",
     "text": [
      "      14/15         6G     0.5089     0.2994      1.065          7        640: 100%|██████████| 577/577 [09:37<00:00,  1.00s/it]\n",
      "                 Class     Images  Instances      Box(P          R      mAP50  mAP50-95): 100%|██████████| 145/145 [03:07<00:00,  1.30s/it]\n"
     ]
    },
    {
     "name": "stdout",
     "output_type": "stream",
     "text": [
      "                   all       2308       2307      0.985      0.979      0.987      0.877\n",
      "\n",
      "      Epoch    GPU_mem   box_loss   cls_loss   dfl_loss  Instances       Size\n"
     ]
    },
    {
     "name": "stderr",
     "output_type": "stream",
     "text": [
      "      15/15      6.08G     0.4964     0.2823      1.054          7        640: 100%|██████████| 577/577 [09:43<00:00,  1.01s/it]\n",
      "                 Class     Images  Instances      Box(P          R      mAP50  mAP50-95): 100%|██████████| 145/145 [03:01<00:00,  1.25s/it]\n"
     ]
    },
    {
     "name": "stdout",
     "output_type": "stream",
     "text": [
      "                   all       2308       2307       0.99       0.98      0.989      0.884\n",
      "\n",
      "15 epochs completed in 3.219 hours.\n",
      "Optimizer stripped from runs/detect/train/weights/last.pt, 51.6MB\n",
      "Optimizer stripped from runs/detect/train/weights/best.pt, 51.6MB\n",
      "\n",
      "Validating runs/detect/train/weights/best.pt...\n",
      "Ultralytics YOLOv8.2.27 🚀 Python-3.10.13 torch-2.1.2 CUDA:0 (Tesla T4, 15102MiB)\n",
      "                                                      CUDA:1 (Tesla T4, 15102MiB)\n",
      "YOLOv9c summary (fused): 384 layers, 25357027 parameters, 0 gradients, 102.5 GFLOPs\n"
     ]
    },
    {
     "name": "stderr",
     "output_type": "stream",
     "text": [
      "                 Class     Images  Instances      Box(P          R      mAP50  mAP50-95): 100%|██████████| 145/145 [02:25<00:00,  1.00s/it]\n"
     ]
    },
    {
     "name": "stdout",
     "output_type": "stream",
     "text": [
      "                   all       2308       2307       0.99       0.98      0.989      0.885\n",
      "                     অ         57         57      0.991      0.965      0.987      0.885\n",
      "                     আ         55         55      0.944      0.945      0.937       0.84\n",
      "                     ঊ         45         45      0.961      0.978      0.993      0.904\n",
      "                     এ         47         47      0.979       0.98      0.991      0.933\n",
      "                     ও         47         47          1      0.965      0.995       0.91\n",
      "                     ক         37         37      0.995          1      0.995       0.94\n",
      "                     খ         53         53      0.981          1      0.995      0.845\n",
      "                     গ         50         50      0.996          1      0.995      0.875\n",
      "                     ঘ         48         48          1      0.986      0.995      0.898\n",
      "                     চ         59         59      0.997      0.983      0.995      0.846\n",
      "                     ছ         45         45      0.978      0.996      0.974      0.894\n",
      "                     জ         46         46      0.997          1      0.995      0.887\n",
      "                     ঝ         50         50      0.986       0.98      0.994       0.76\n",
      "                     ট         49         49      0.986       0.98      0.995      0.944\n",
      "                     ঠ         52         52          1      0.989      0.995      0.865\n",
      "                     ড         48         48          1      0.996      0.995      0.925\n",
      "                     ঢ         47         47      0.995          1      0.995      0.932\n",
      "                     ত         50         50      0.996          1      0.995      0.918\n",
      "                     থ         37         37      0.992          1      0.995      0.894\n",
      "                     দ         58         58          1      0.987      0.995      0.875\n",
      "                     ধ         39         39      0.956          1      0.995      0.866\n",
      "                     প         53         53      0.993      0.981      0.995      0.912\n",
      "                     ফ         37         37      0.999          1      0.995      0.778\n",
      "                     ব         45         45          1      0.976      0.995      0.908\n",
      "                     ভ         49         49      0.995          1      0.995      0.904\n",
      "                     ম         39         39      0.989      0.949      0.979       0.88\n",
      "                     য়         45         45          1      0.831      0.944      0.815\n",
      "                     র         49         49      0.979      0.965      0.993      0.848\n",
      "                     ল         46         46      0.956          1      0.994      0.874\n",
      "                     ন         44         44      0.998          1      0.995      0.868\n",
      "                     স         55         55       0.98          1      0.994      0.901\n",
      "                     হ         44         44      0.992          1      0.995      0.961\n",
      "                     ড়         41         41      0.995          1      0.995      0.859\n",
      "                     ং         46         46      0.995          1      0.995       0.89\n",
      "                     ঃ         57         57      0.983      0.992      0.994      0.904\n",
      "                     ০         42         42      0.971          1      0.986      0.867\n",
      "                     ১         54         54      0.996      0.981      0.995      0.907\n",
      "                     ২         51         51      0.994          1      0.995      0.924\n",
      "                     ৩         54         54      0.998      0.852       0.93       0.82\n",
      "                     ৪         49         49      0.995      0.918      0.962      0.901\n",
      "                     ৫         56         56          1       0.94      0.995      0.923\n",
      "                     ৬         41         41      0.992      0.976      0.979      0.898\n",
      "                     ৭         49         49      0.994          1      0.995      0.941\n",
      "                     ৮         52         52      0.995          1      0.995      0.945\n",
      "                     ৯         48         48      0.998      0.979       0.98      0.877\n",
      "                    ‍্         48         48      0.995      0.979      0.994      0.842\n",
      "                 space         50         50      0.997          1      0.995      0.858\n",
      "              fullstop         44         44      0.995          1      0.995      0.819\n"
     ]
    },
    {
     "name": "stderr",
     "output_type": "stream",
     "text": [
      "/opt/conda/lib/python3.10/site-packages/ultralytics/utils/metrics.py:427: UserWarning: Glyph 2437 (\\N{BENGALI LETTER A}) missing from current font.\n",
      "  fig.savefig(plot_fname, dpi=250)\n",
      "/opt/conda/lib/python3.10/site-packages/ultralytics/utils/metrics.py:427: UserWarning: Matplotlib currently does not support Bengali natively.\n",
      "  fig.savefig(plot_fname, dpi=250)\n",
      "/opt/conda/lib/python3.10/site-packages/ultralytics/utils/metrics.py:427: UserWarning: Glyph 2438 (\\N{BENGALI LETTER AA}) missing from current font.\n",
      "  fig.savefig(plot_fname, dpi=250)\n",
      "/opt/conda/lib/python3.10/site-packages/ultralytics/utils/metrics.py:427: UserWarning: Glyph 2439 (\\N{BENGALI LETTER I}) missing from current font.\n",
      "  fig.savefig(plot_fname, dpi=250)\n",
      "/opt/conda/lib/python3.10/site-packages/ultralytics/utils/metrics.py:427: UserWarning: Glyph 2442 (\\N{BENGALI LETTER UU}) missing from current font.\n",
      "  fig.savefig(plot_fname, dpi=250)\n",
      "/opt/conda/lib/python3.10/site-packages/ultralytics/utils/metrics.py:427: UserWarning: Glyph 2447 (\\N{BENGALI LETTER E}) missing from current font.\n",
      "  fig.savefig(plot_fname, dpi=250)\n",
      "/opt/conda/lib/python3.10/site-packages/ultralytics/utils/metrics.py:427: UserWarning: Glyph 2451 (\\N{BENGALI LETTER O}) missing from current font.\n",
      "  fig.savefig(plot_fname, dpi=250)\n",
      "/opt/conda/lib/python3.10/site-packages/ultralytics/utils/metrics.py:427: UserWarning: Glyph 2453 (\\N{BENGALI LETTER KA}) missing from current font.\n",
      "  fig.savefig(plot_fname, dpi=250)\n",
      "/opt/conda/lib/python3.10/site-packages/ultralytics/utils/metrics.py:427: UserWarning: Glyph 2454 (\\N{BENGALI LETTER KHA}) missing from current font.\n",
      "  fig.savefig(plot_fname, dpi=250)\n",
      "/opt/conda/lib/python3.10/site-packages/ultralytics/utils/metrics.py:427: UserWarning: Glyph 2455 (\\N{BENGALI LETTER GA}) missing from current font.\n",
      "  fig.savefig(plot_fname, dpi=250)\n",
      "/opt/conda/lib/python3.10/site-packages/ultralytics/utils/metrics.py:427: UserWarning: Glyph 2456 (\\N{BENGALI LETTER GHA}) missing from current font.\n",
      "  fig.savefig(plot_fname, dpi=250)\n",
      "/opt/conda/lib/python3.10/site-packages/ultralytics/utils/metrics.py:427: UserWarning: Glyph 2458 (\\N{BENGALI LETTER CA}) missing from current font.\n",
      "  fig.savefig(plot_fname, dpi=250)\n",
      "/opt/conda/lib/python3.10/site-packages/ultralytics/utils/metrics.py:427: UserWarning: Glyph 2459 (\\N{BENGALI LETTER CHA}) missing from current font.\n",
      "  fig.savefig(plot_fname, dpi=250)\n",
      "/opt/conda/lib/python3.10/site-packages/ultralytics/utils/metrics.py:427: UserWarning: Glyph 2460 (\\N{BENGALI LETTER JA}) missing from current font.\n",
      "  fig.savefig(plot_fname, dpi=250)\n",
      "/opt/conda/lib/python3.10/site-packages/ultralytics/utils/metrics.py:427: UserWarning: Glyph 2461 (\\N{BENGALI LETTER JHA}) missing from current font.\n",
      "  fig.savefig(plot_fname, dpi=250)\n",
      "/opt/conda/lib/python3.10/site-packages/ultralytics/utils/metrics.py:427: UserWarning: Glyph 2463 (\\N{BENGALI LETTER TTA}) missing from current font.\n",
      "  fig.savefig(plot_fname, dpi=250)\n",
      "/opt/conda/lib/python3.10/site-packages/ultralytics/utils/metrics.py:427: UserWarning: Glyph 2464 (\\N{BENGALI LETTER TTHA}) missing from current font.\n",
      "  fig.savefig(plot_fname, dpi=250)\n",
      "/opt/conda/lib/python3.10/site-packages/ultralytics/utils/metrics.py:427: UserWarning: Glyph 2465 (\\N{BENGALI LETTER DDA}) missing from current font.\n",
      "  fig.savefig(plot_fname, dpi=250)\n",
      "/opt/conda/lib/python3.10/site-packages/ultralytics/utils/metrics.py:427: UserWarning: Glyph 2466 (\\N{BENGALI LETTER DDHA}) missing from current font.\n",
      "  fig.savefig(plot_fname, dpi=250)\n",
      "/opt/conda/lib/python3.10/site-packages/ultralytics/utils/metrics.py:427: UserWarning: Glyph 2468 (\\N{BENGALI LETTER TA}) missing from current font.\n",
      "  fig.savefig(plot_fname, dpi=250)\n",
      "/opt/conda/lib/python3.10/site-packages/ultralytics/utils/metrics.py:427: UserWarning: Glyph 2469 (\\N{BENGALI LETTER THA}) missing from current font.\n",
      "  fig.savefig(plot_fname, dpi=250)\n",
      "/opt/conda/lib/python3.10/site-packages/ultralytics/utils/metrics.py:427: UserWarning: Glyph 2470 (\\N{BENGALI LETTER DA}) missing from current font.\n",
      "  fig.savefig(plot_fname, dpi=250)\n",
      "/opt/conda/lib/python3.10/site-packages/ultralytics/utils/metrics.py:427: UserWarning: Glyph 2471 (\\N{BENGALI LETTER DHA}) missing from current font.\n",
      "  fig.savefig(plot_fname, dpi=250)\n",
      "/opt/conda/lib/python3.10/site-packages/ultralytics/utils/metrics.py:427: UserWarning: Glyph 2474 (\\N{BENGALI LETTER PA}) missing from current font.\n",
      "  fig.savefig(plot_fname, dpi=250)\n",
      "/opt/conda/lib/python3.10/site-packages/ultralytics/utils/metrics.py:427: UserWarning: Glyph 2475 (\\N{BENGALI LETTER PHA}) missing from current font.\n",
      "  fig.savefig(plot_fname, dpi=250)\n",
      "/opt/conda/lib/python3.10/site-packages/ultralytics/utils/metrics.py:427: UserWarning: Glyph 2476 (\\N{BENGALI LETTER BA}) missing from current font.\n",
      "  fig.savefig(plot_fname, dpi=250)\n",
      "/opt/conda/lib/python3.10/site-packages/ultralytics/utils/metrics.py:427: UserWarning: Glyph 2477 (\\N{BENGALI LETTER BHA}) missing from current font.\n",
      "  fig.savefig(plot_fname, dpi=250)\n",
      "/opt/conda/lib/python3.10/site-packages/ultralytics/utils/metrics.py:427: UserWarning: Glyph 2478 (\\N{BENGALI LETTER MA}) missing from current font.\n",
      "  fig.savefig(plot_fname, dpi=250)\n",
      "/opt/conda/lib/python3.10/site-packages/ultralytics/utils/metrics.py:427: UserWarning: Glyph 2527 (\\N{BENGALI LETTER YYA}) missing from current font.\n",
      "  fig.savefig(plot_fname, dpi=250)\n",
      "/opt/conda/lib/python3.10/site-packages/ultralytics/utils/metrics.py:427: UserWarning: Glyph 2480 (\\N{BENGALI LETTER RA}) missing from current font.\n",
      "  fig.savefig(plot_fname, dpi=250)\n",
      "/opt/conda/lib/python3.10/site-packages/ultralytics/utils/metrics.py:427: UserWarning: Glyph 2482 (\\N{BENGALI LETTER LA}) missing from current font.\n",
      "  fig.savefig(plot_fname, dpi=250)\n",
      "/opt/conda/lib/python3.10/site-packages/ultralytics/utils/metrics.py:427: UserWarning: Glyph 2472 (\\N{BENGALI LETTER NA}) missing from current font.\n",
      "  fig.savefig(plot_fname, dpi=250)\n",
      "/opt/conda/lib/python3.10/site-packages/ultralytics/utils/metrics.py:427: UserWarning: Glyph 2488 (\\N{BENGALI LETTER SA}) missing from current font.\n",
      "  fig.savefig(plot_fname, dpi=250)\n",
      "/opt/conda/lib/python3.10/site-packages/ultralytics/utils/metrics.py:427: UserWarning: Glyph 2489 (\\N{BENGALI LETTER HA}) missing from current font.\n",
      "  fig.savefig(plot_fname, dpi=250)\n",
      "/opt/conda/lib/python3.10/site-packages/ultralytics/utils/metrics.py:427: UserWarning: Glyph 2524 (\\N{BENGALI LETTER RRA}) missing from current font.\n",
      "  fig.savefig(plot_fname, dpi=250)\n",
      "/opt/conda/lib/python3.10/site-packages/ultralytics/utils/metrics.py:427: UserWarning: Glyph 2434 (\\N{BENGALI SIGN ANUSVARA}) missing from current font.\n",
      "  fig.savefig(plot_fname, dpi=250)\n",
      "/opt/conda/lib/python3.10/site-packages/ultralytics/utils/metrics.py:427: UserWarning: Glyph 2435 (\\N{BENGALI SIGN VISARGA}) missing from current font.\n",
      "  fig.savefig(plot_fname, dpi=250)\n",
      "/opt/conda/lib/python3.10/site-packages/ultralytics/utils/metrics.py:427: UserWarning: Glyph 2534 (\\N{BENGALI DIGIT ZERO}) missing from current font.\n",
      "  fig.savefig(plot_fname, dpi=250)\n",
      "/opt/conda/lib/python3.10/site-packages/ultralytics/utils/metrics.py:427: UserWarning: Glyph 2535 (\\N{BENGALI DIGIT ONE}) missing from current font.\n",
      "  fig.savefig(plot_fname, dpi=250)\n",
      "/opt/conda/lib/python3.10/site-packages/ultralytics/utils/metrics.py:427: UserWarning: Glyph 2536 (\\N{BENGALI DIGIT TWO}) missing from current font.\n",
      "  fig.savefig(plot_fname, dpi=250)\n",
      "/opt/conda/lib/python3.10/site-packages/ultralytics/utils/metrics.py:427: UserWarning: Glyph 2537 (\\N{BENGALI DIGIT THREE}) missing from current font.\n",
      "  fig.savefig(plot_fname, dpi=250)\n",
      "/opt/conda/lib/python3.10/site-packages/ultralytics/utils/metrics.py:427: UserWarning: Glyph 2538 (\\N{BENGALI DIGIT FOUR}) missing from current font.\n",
      "  fig.savefig(plot_fname, dpi=250)\n",
      "/opt/conda/lib/python3.10/site-packages/ultralytics/utils/metrics.py:427: UserWarning: Glyph 2539 (\\N{BENGALI DIGIT FIVE}) missing from current font.\n",
      "  fig.savefig(plot_fname, dpi=250)\n",
      "/opt/conda/lib/python3.10/site-packages/ultralytics/utils/metrics.py:427: UserWarning: Glyph 2540 (\\N{BENGALI DIGIT SIX}) missing from current font.\n",
      "  fig.savefig(plot_fname, dpi=250)\n",
      "/opt/conda/lib/python3.10/site-packages/ultralytics/utils/metrics.py:427: UserWarning: Glyph 2541 (\\N{BENGALI DIGIT SEVEN}) missing from current font.\n",
      "  fig.savefig(plot_fname, dpi=250)\n",
      "/opt/conda/lib/python3.10/site-packages/ultralytics/utils/metrics.py:427: UserWarning: Glyph 2542 (\\N{BENGALI DIGIT EIGHT}) missing from current font.\n",
      "  fig.savefig(plot_fname, dpi=250)\n",
      "/opt/conda/lib/python3.10/site-packages/ultralytics/utils/metrics.py:427: UserWarning: Glyph 2543 (\\N{BENGALI DIGIT NINE}) missing from current font.\n",
      "  fig.savefig(plot_fname, dpi=250)\n",
      "/opt/conda/lib/python3.10/site-packages/ultralytics/utils/metrics.py:427: UserWarning: Glyph 2509 (\\N{BENGALI SIGN VIRAMA}) missing from current font.\n",
      "  fig.savefig(plot_fname, dpi=250)\n",
      "/opt/conda/lib/python3.10/site-packages/ultralytics/utils/metrics.py:427: UserWarning: Glyph 2437 (\\N{BENGALI LETTER A}) missing from current font.\n",
      "  fig.savefig(plot_fname, dpi=250)\n",
      "/opt/conda/lib/python3.10/site-packages/ultralytics/utils/metrics.py:427: UserWarning: Matplotlib currently does not support Bengali natively.\n",
      "  fig.savefig(plot_fname, dpi=250)\n",
      "/opt/conda/lib/python3.10/site-packages/ultralytics/utils/metrics.py:427: UserWarning: Glyph 2438 (\\N{BENGALI LETTER AA}) missing from current font.\n",
      "  fig.savefig(plot_fname, dpi=250)\n",
      "/opt/conda/lib/python3.10/site-packages/ultralytics/utils/metrics.py:427: UserWarning: Glyph 2439 (\\N{BENGALI LETTER I}) missing from current font.\n",
      "  fig.savefig(plot_fname, dpi=250)\n",
      "/opt/conda/lib/python3.10/site-packages/ultralytics/utils/metrics.py:427: UserWarning: Glyph 2442 (\\N{BENGALI LETTER UU}) missing from current font.\n",
      "  fig.savefig(plot_fname, dpi=250)\n",
      "/opt/conda/lib/python3.10/site-packages/ultralytics/utils/metrics.py:427: UserWarning: Glyph 2447 (\\N{BENGALI LETTER E}) missing from current font.\n",
      "  fig.savefig(plot_fname, dpi=250)\n",
      "/opt/conda/lib/python3.10/site-packages/ultralytics/utils/metrics.py:427: UserWarning: Glyph 2451 (\\N{BENGALI LETTER O}) missing from current font.\n",
      "  fig.savefig(plot_fname, dpi=250)\n",
      "/opt/conda/lib/python3.10/site-packages/ultralytics/utils/metrics.py:427: UserWarning: Glyph 2453 (\\N{BENGALI LETTER KA}) missing from current font.\n",
      "  fig.savefig(plot_fname, dpi=250)\n",
      "/opt/conda/lib/python3.10/site-packages/ultralytics/utils/metrics.py:427: UserWarning: Glyph 2454 (\\N{BENGALI LETTER KHA}) missing from current font.\n",
      "  fig.savefig(plot_fname, dpi=250)\n",
      "/opt/conda/lib/python3.10/site-packages/ultralytics/utils/metrics.py:427: UserWarning: Glyph 2455 (\\N{BENGALI LETTER GA}) missing from current font.\n",
      "  fig.savefig(plot_fname, dpi=250)\n",
      "/opt/conda/lib/python3.10/site-packages/ultralytics/utils/metrics.py:427: UserWarning: Glyph 2456 (\\N{BENGALI LETTER GHA}) missing from current font.\n",
      "  fig.savefig(plot_fname, dpi=250)\n",
      "/opt/conda/lib/python3.10/site-packages/ultralytics/utils/metrics.py:427: UserWarning: Glyph 2458 (\\N{BENGALI LETTER CA}) missing from current font.\n",
      "  fig.savefig(plot_fname, dpi=250)\n",
      "/opt/conda/lib/python3.10/site-packages/ultralytics/utils/metrics.py:427: UserWarning: Glyph 2459 (\\N{BENGALI LETTER CHA}) missing from current font.\n",
      "  fig.savefig(plot_fname, dpi=250)\n",
      "/opt/conda/lib/python3.10/site-packages/ultralytics/utils/metrics.py:427: UserWarning: Glyph 2460 (\\N{BENGALI LETTER JA}) missing from current font.\n",
      "  fig.savefig(plot_fname, dpi=250)\n",
      "/opt/conda/lib/python3.10/site-packages/ultralytics/utils/metrics.py:427: UserWarning: Glyph 2461 (\\N{BENGALI LETTER JHA}) missing from current font.\n",
      "  fig.savefig(plot_fname, dpi=250)\n",
      "/opt/conda/lib/python3.10/site-packages/ultralytics/utils/metrics.py:427: UserWarning: Glyph 2463 (\\N{BENGALI LETTER TTA}) missing from current font.\n",
      "  fig.savefig(plot_fname, dpi=250)\n",
      "/opt/conda/lib/python3.10/site-packages/ultralytics/utils/metrics.py:427: UserWarning: Glyph 2464 (\\N{BENGALI LETTER TTHA}) missing from current font.\n",
      "  fig.savefig(plot_fname, dpi=250)\n",
      "/opt/conda/lib/python3.10/site-packages/ultralytics/utils/metrics.py:427: UserWarning: Glyph 2465 (\\N{BENGALI LETTER DDA}) missing from current font.\n",
      "  fig.savefig(plot_fname, dpi=250)\n",
      "/opt/conda/lib/python3.10/site-packages/ultralytics/utils/metrics.py:427: UserWarning: Glyph 2466 (\\N{BENGALI LETTER DDHA}) missing from current font.\n",
      "  fig.savefig(plot_fname, dpi=250)\n",
      "/opt/conda/lib/python3.10/site-packages/ultralytics/utils/metrics.py:427: UserWarning: Glyph 2468 (\\N{BENGALI LETTER TA}) missing from current font.\n",
      "  fig.savefig(plot_fname, dpi=250)\n",
      "/opt/conda/lib/python3.10/site-packages/ultralytics/utils/metrics.py:427: UserWarning: Glyph 2469 (\\N{BENGALI LETTER THA}) missing from current font.\n",
      "  fig.savefig(plot_fname, dpi=250)\n",
      "/opt/conda/lib/python3.10/site-packages/ultralytics/utils/metrics.py:427: UserWarning: Glyph 2470 (\\N{BENGALI LETTER DA}) missing from current font.\n",
      "  fig.savefig(plot_fname, dpi=250)\n",
      "/opt/conda/lib/python3.10/site-packages/ultralytics/utils/metrics.py:427: UserWarning: Glyph 2471 (\\N{BENGALI LETTER DHA}) missing from current font.\n",
      "  fig.savefig(plot_fname, dpi=250)\n",
      "/opt/conda/lib/python3.10/site-packages/ultralytics/utils/metrics.py:427: UserWarning: Glyph 2474 (\\N{BENGALI LETTER PA}) missing from current font.\n",
      "  fig.savefig(plot_fname, dpi=250)\n",
      "/opt/conda/lib/python3.10/site-packages/ultralytics/utils/metrics.py:427: UserWarning: Glyph 2475 (\\N{BENGALI LETTER PHA}) missing from current font.\n",
      "  fig.savefig(plot_fname, dpi=250)\n",
      "/opt/conda/lib/python3.10/site-packages/ultralytics/utils/metrics.py:427: UserWarning: Glyph 2476 (\\N{BENGALI LETTER BA}) missing from current font.\n",
      "  fig.savefig(plot_fname, dpi=250)\n",
      "/opt/conda/lib/python3.10/site-packages/ultralytics/utils/metrics.py:427: UserWarning: Glyph 2477 (\\N{BENGALI LETTER BHA}) missing from current font.\n",
      "  fig.savefig(plot_fname, dpi=250)\n",
      "/opt/conda/lib/python3.10/site-packages/ultralytics/utils/metrics.py:427: UserWarning: Glyph 2478 (\\N{BENGALI LETTER MA}) missing from current font.\n",
      "  fig.savefig(plot_fname, dpi=250)\n",
      "/opt/conda/lib/python3.10/site-packages/ultralytics/utils/metrics.py:427: UserWarning: Glyph 2527 (\\N{BENGALI LETTER YYA}) missing from current font.\n",
      "  fig.savefig(plot_fname, dpi=250)\n",
      "/opt/conda/lib/python3.10/site-packages/ultralytics/utils/metrics.py:427: UserWarning: Glyph 2480 (\\N{BENGALI LETTER RA}) missing from current font.\n",
      "  fig.savefig(plot_fname, dpi=250)\n",
      "/opt/conda/lib/python3.10/site-packages/ultralytics/utils/metrics.py:427: UserWarning: Glyph 2482 (\\N{BENGALI LETTER LA}) missing from current font.\n",
      "  fig.savefig(plot_fname, dpi=250)\n",
      "/opt/conda/lib/python3.10/site-packages/ultralytics/utils/metrics.py:427: UserWarning: Glyph 2472 (\\N{BENGALI LETTER NA}) missing from current font.\n",
      "  fig.savefig(plot_fname, dpi=250)\n",
      "/opt/conda/lib/python3.10/site-packages/ultralytics/utils/metrics.py:427: UserWarning: Glyph 2488 (\\N{BENGALI LETTER SA}) missing from current font.\n",
      "  fig.savefig(plot_fname, dpi=250)\n",
      "/opt/conda/lib/python3.10/site-packages/ultralytics/utils/metrics.py:427: UserWarning: Glyph 2489 (\\N{BENGALI LETTER HA}) missing from current font.\n",
      "  fig.savefig(plot_fname, dpi=250)\n",
      "/opt/conda/lib/python3.10/site-packages/ultralytics/utils/metrics.py:427: UserWarning: Glyph 2524 (\\N{BENGALI LETTER RRA}) missing from current font.\n",
      "  fig.savefig(plot_fname, dpi=250)\n",
      "/opt/conda/lib/python3.10/site-packages/ultralytics/utils/metrics.py:427: UserWarning: Glyph 2434 (\\N{BENGALI SIGN ANUSVARA}) missing from current font.\n",
      "  fig.savefig(plot_fname, dpi=250)\n",
      "/opt/conda/lib/python3.10/site-packages/ultralytics/utils/metrics.py:427: UserWarning: Glyph 2435 (\\N{BENGALI SIGN VISARGA}) missing from current font.\n",
      "  fig.savefig(plot_fname, dpi=250)\n",
      "/opt/conda/lib/python3.10/site-packages/ultralytics/utils/metrics.py:427: UserWarning: Glyph 2534 (\\N{BENGALI DIGIT ZERO}) missing from current font.\n",
      "  fig.savefig(plot_fname, dpi=250)\n",
      "/opt/conda/lib/python3.10/site-packages/ultralytics/utils/metrics.py:427: UserWarning: Glyph 2535 (\\N{BENGALI DIGIT ONE}) missing from current font.\n",
      "  fig.savefig(plot_fname, dpi=250)\n",
      "/opt/conda/lib/python3.10/site-packages/ultralytics/utils/metrics.py:427: UserWarning: Glyph 2536 (\\N{BENGALI DIGIT TWO}) missing from current font.\n",
      "  fig.savefig(plot_fname, dpi=250)\n",
      "/opt/conda/lib/python3.10/site-packages/ultralytics/utils/metrics.py:427: UserWarning: Glyph 2537 (\\N{BENGALI DIGIT THREE}) missing from current font.\n",
      "  fig.savefig(plot_fname, dpi=250)\n",
      "/opt/conda/lib/python3.10/site-packages/ultralytics/utils/metrics.py:427: UserWarning: Glyph 2538 (\\N{BENGALI DIGIT FOUR}) missing from current font.\n",
      "  fig.savefig(plot_fname, dpi=250)\n",
      "/opt/conda/lib/python3.10/site-packages/ultralytics/utils/metrics.py:427: UserWarning: Glyph 2539 (\\N{BENGALI DIGIT FIVE}) missing from current font.\n",
      "  fig.savefig(plot_fname, dpi=250)\n",
      "/opt/conda/lib/python3.10/site-packages/ultralytics/utils/metrics.py:427: UserWarning: Glyph 2540 (\\N{BENGALI DIGIT SIX}) missing from current font.\n",
      "  fig.savefig(plot_fname, dpi=250)\n",
      "/opt/conda/lib/python3.10/site-packages/ultralytics/utils/metrics.py:427: UserWarning: Glyph 2541 (\\N{BENGALI DIGIT SEVEN}) missing from current font.\n",
      "  fig.savefig(plot_fname, dpi=250)\n",
      "/opt/conda/lib/python3.10/site-packages/ultralytics/utils/metrics.py:427: UserWarning: Glyph 2542 (\\N{BENGALI DIGIT EIGHT}) missing from current font.\n",
      "  fig.savefig(plot_fname, dpi=250)\n",
      "/opt/conda/lib/python3.10/site-packages/ultralytics/utils/metrics.py:427: UserWarning: Glyph 2543 (\\N{BENGALI DIGIT NINE}) missing from current font.\n",
      "  fig.savefig(plot_fname, dpi=250)\n",
      "/opt/conda/lib/python3.10/site-packages/ultralytics/utils/metrics.py:427: UserWarning: Glyph 2509 (\\N{BENGALI SIGN VIRAMA}) missing from current font.\n",
      "  fig.savefig(plot_fname, dpi=250)\n"
     ]
    },
    {
     "name": "stdout",
     "output_type": "stream",
     "text": [
      "Speed: 0.2ms preprocess, 11.9ms inference, 0.0ms loss, 1.0ms postprocess per image\n",
      "Results saved to \u001b[1mruns/detect/train\u001b[0m\n"
     ]
    },
    {
     "name": "stderr",
     "output_type": "stream",
     "text": [
      "wandb:                                                                                \n",
      "wandb: \n",
      "wandb: Run history:\n",
      "wandb:                  lr/pg0 ▃▆█▇▇▆▆▅▅▄▃▃▂▂▁\n",
      "wandb:                  lr/pg1 ▃▆█▇▇▆▆▅▅▄▃▃▂▂▁\n",
      "wandb:                  lr/pg2 ▃▆█▇▇▆▆▅▅▄▃▃▂▂▁\n",
      "wandb:        metrics/mAP50(B) ▁▄▅▇▇▇▇████████\n",
      "wandb:     metrics/mAP50-95(B) ▁▃▄▅▆▆▆▇▇▇▇▇███\n",
      "wandb:    metrics/precision(B) ▁▂▃▅▆▆▇▇▇██████\n",
      "wandb:       metrics/recall(B) ▁▄▄▆▆▇▇▇███████\n",
      "wandb:            model/GFLOPs ▁\n",
      "wandb:        model/parameters ▁\n",
      "wandb: model/speed_PyTorch(ms) ▁\n",
      "wandb:          train/box_loss ██▇▇▆▄▄▃▃▂▂▂▂▁▁\n",
      "wandb:          train/cls_loss █▆▅▄▄▂▂▂▂▁▁▁▁▁▁\n",
      "wandb:          train/dfl_loss ███▇▆▅▄▄▄▃▃▂▂▁▁\n",
      "wandb:            val/box_loss █▆▆▅▄▄▄▃▃▂▂▂▁▁▁\n",
      "wandb:            val/cls_loss █▆▅▄▃▃▃▂▂▂▁▁▁▁▁\n",
      "wandb:            val/dfl_loss █▆▅▅▄▄▄▃▃▂▂▂▂▁▁\n",
      "wandb: \n",
      "wandb: Run summary:\n",
      "wandb:                  lr/pg0 5e-05\n",
      "wandb:                  lr/pg1 5e-05\n",
      "wandb:                  lr/pg2 5e-05\n",
      "wandb:        metrics/mAP50(B) 0.98865\n",
      "wandb:     metrics/mAP50-95(B) 0.88451\n",
      "wandb:    metrics/precision(B) 0.98971\n",
      "wandb:       metrics/recall(B) 0.98017\n",
      "wandb:            model/GFLOPs 103.889\n",
      "wandb:        model/parameters 25567011\n",
      "wandb: model/speed_PyTorch(ms) 15.059\n",
      "wandb:          train/box_loss 0.49643\n",
      "wandb:          train/cls_loss 0.28226\n",
      "wandb:          train/dfl_loss 1.05448\n",
      "wandb:            val/box_loss 0.51036\n",
      "wandb:            val/cls_loss 0.27492\n",
      "wandb:            val/dfl_loss 1.0799\n",
      "wandb: \n",
      "wandb: 🚀 View run train at: https://wandb.ai/own-business615/YOLOv8/runs/wrdbbgzo\n",
      "wandb: ⭐️ View project at: https://wandb.ai/own-business615/YOLOv8\n",
      "wandb: Synced 5 W&B file(s), 24 media file(s), 5 artifact file(s) and 0 other file(s)\n",
      "wandb: Find logs at: ./wandb/run-20240602_182015-wrdbbgzo/logs\n"
     ]
    }
   ],
   "source": [
    "# Train the model on the COCO8 example dataset for 100 epochs\n",
    "results = model.train(data=\"/kaggle/working/yolov9/data.yaml\",  epochs=15, imgsz=640, verbose=True,save=True,save_period=1,device=[0,1])"
   ]
  },
  {
   "cell_type": "code",
   "execution_count": 21,
   "id": "5535455b",
   "metadata": {
    "execution": {
     "iopub.execute_input": "2024-06-02T21:37:02.526414Z",
     "iopub.status.busy": "2024-06-02T21:37:02.525564Z",
     "iopub.status.idle": "2024-06-02T21:37:02.533041Z",
     "shell.execute_reply": "2024-06-02T21:37:02.532065Z"
    },
    "papermill": {
     "duration": 1.094811,
     "end_time": "2024-06-02T21:37:02.535004",
     "exception": false,
     "start_time": "2024-06-02T21:37:01.440193",
     "status": "completed"
    },
    "tags": []
   },
   "outputs": [
    {
     "name": "stdout",
     "output_type": "stream",
     "text": [
      "/kaggle/working\n"
     ]
    }
   ],
   "source": [
    "%cd /kaggle/working/"
   ]
  },
  {
   "cell_type": "code",
   "execution_count": 22,
   "id": "56ae75e9",
   "metadata": {
    "execution": {
     "iopub.execute_input": "2024-06-02T21:37:04.797901Z",
     "iopub.status.busy": "2024-06-02T21:37:04.797022Z",
     "iopub.status.idle": "2024-06-02T21:37:05.679172Z",
     "shell.execute_reply": "2024-06-02T21:37:05.678223Z"
    },
    "papermill": {
     "duration": 2.049389,
     "end_time": "2024-06-02T21:37:05.681330",
     "exception": false,
     "start_time": "2024-06-02T21:37:03.631941",
     "status": "completed"
    },
    "tags": []
   },
   "outputs": [
    {
     "name": "stdout",
     "output_type": "stream",
     "text": [
      "lr: 0.01\n",
      "epoch=2, accuracy=0.20213842822483913, loss=0.6291701607204321\n",
      "epoch=3, accuracy=0.6198100462640026, loss=0.46430927742787914\n",
      "epoch=4, accuracy=0.6673820953323868, loss=0.42733401756370276\n",
      "epoch=5, accuracy=0.7392030844792048, loss=0.29545376113548083\n",
      "epoch=6, accuracy=0.7182602897858186, loss=0.33586151783756546\n",
      "epoch=7, accuracy=0.7512050074353631, loss=0.21695941950496733\n",
      "epoch=8, accuracy=0.7327338541753374, loss=0.25008674488942606\n",
      "epoch=9, accuracy=0.8013284667658302, loss=0.2719204126348141\n",
      "epoch=10, accuracy=0.7318605195912251, loss=0.25088265640466856\n",
      "epoch=11, accuracy=0.748612262041392, loss=0.1975678851294944\n",
      "epoch=12, accuracy=0.7700521767149797, loss=0.2440317015940091\n",
      "epoch=13, accuracy=0.7783794107736102, loss=0.20532511103694912\n",
      "epoch=14, accuracy=0.8238616511052856, loss=0.19995767942224418\n"
     ]
    },
    {
     "data": {
      "text/plain": [
       "<Artifact source-Bangla_Sign_Language_Detection-None>"
      ]
     },
     "execution_count": 22,
     "metadata": {},
     "output_type": "execute_result"
    }
   ],
   "source": [
    "offset = random.random() / 5\n",
    "print(f\"lr: {lr}\")\n",
    "\n",
    "# simulating a training run\n",
    "for epoch in range(2, epochs):\n",
    "    acc = 1 - 2**-epoch - random.random() / epoch - offset\n",
    "    loss = 2**-epoch + random.random() / epoch + offset\n",
    "    print(f\"epoch={epoch}, accuracy={acc}, loss={loss}\")\n",
    "    wandb.log({\"accuracy\": acc, \"loss\": loss})\n",
    "\n",
    "run.log_code()"
   ]
  },
  {
   "cell_type": "code",
   "execution_count": 23,
   "id": "181e2851",
   "metadata": {
    "execution": {
     "iopub.execute_input": "2024-06-02T21:37:07.858935Z",
     "iopub.status.busy": "2024-06-02T21:37:07.858589Z",
     "iopub.status.idle": "2024-06-02T21:37:07.864972Z",
     "shell.execute_reply": "2024-06-02T21:37:07.864133Z"
    },
    "papermill": {
     "duration": 1.089011,
     "end_time": "2024-06-02T21:37:07.866844",
     "exception": false,
     "start_time": "2024-06-02T21:37:06.777833",
     "status": "completed"
    },
    "tags": []
   },
   "outputs": [
    {
     "name": "stdout",
     "output_type": "stream",
     "text": [
      "The file /kaggle/working/yolov9/bdsl_final.zip does not exist.\n"
     ]
    }
   ],
   "source": [
    "import os\n",
    "\n",
    "# Define the path of the file to be deleted\n",
    "file_path = \"/kaggle/working/yolov9/bdsl_final.zip\"\n",
    "\n",
    "# Check if the file exists\n",
    "if os.path.exists(file_path):\n",
    "    # Delete the file\n",
    "    os.remove(file_path)\n",
    "    print(f\"File {file_path} has been deleted.\")\n",
    "else:\n",
    "    print(f\"The file {file_path} does not exist.\")\n"
   ]
  },
  {
   "cell_type": "code",
   "execution_count": null,
   "id": "fd8683b0",
   "metadata": {
    "papermill": {
     "duration": 1.113332,
     "end_time": "2024-06-02T21:37:10.146583",
     "exception": false,
     "start_time": "2024-06-02T21:37:09.033251",
     "status": "completed"
    },
    "tags": []
   },
   "outputs": [],
   "source": []
  },
  {
   "cell_type": "code",
   "execution_count": 24,
   "id": "9d1357c4",
   "metadata": {
    "_kg_hide-output": true,
    "execution": {
     "iopub.execute_input": "2024-06-02T21:37:12.442796Z",
     "iopub.status.busy": "2024-06-02T21:37:12.442372Z",
     "iopub.status.idle": "2024-06-02T21:37:12.447199Z",
     "shell.execute_reply": "2024-06-02T21:37:12.446424Z"
    },
    "papermill": {
     "duration": 1.142074,
     "end_time": "2024-06-02T21:37:12.449095",
     "exception": false,
     "start_time": "2024-06-02T21:37:11.307021",
     "status": "completed"
    },
    "tags": []
   },
   "outputs": [],
   "source": [
    "# !zip -r file.zip /kaggle/working/yolov9/runs"
   ]
  },
  {
   "cell_type": "code",
   "execution_count": 25,
   "id": "04e4560f",
   "metadata": {
    "execution": {
     "iopub.execute_input": "2024-06-02T21:37:14.717419Z",
     "iopub.status.busy": "2024-06-02T21:37:14.717042Z",
     "iopub.status.idle": "2024-06-02T21:37:14.721258Z",
     "shell.execute_reply": "2024-06-02T21:37:14.720361Z"
    },
    "papermill": {
     "duration": 1.168921,
     "end_time": "2024-06-02T21:37:14.723198",
     "exception": false,
     "start_time": "2024-06-02T21:37:13.554277",
     "status": "completed"
    },
    "tags": []
   },
   "outputs": [],
   "source": [
    "# !ls"
   ]
  },
  {
   "cell_type": "code",
   "execution_count": null,
   "id": "2b941546",
   "metadata": {
    "papermill": {
     "duration": 1.089546,
     "end_time": "2024-06-02T21:37:16.900259",
     "exception": false,
     "start_time": "2024-06-02T21:37:15.810713",
     "status": "completed"
    },
    "tags": []
   },
   "outputs": [],
   "source": []
  },
  {
   "cell_type": "code",
   "execution_count": 26,
   "id": "7bf50eca",
   "metadata": {
    "execution": {
     "iopub.execute_input": "2024-06-02T21:37:19.173890Z",
     "iopub.status.busy": "2024-06-02T21:37:19.173040Z",
     "iopub.status.idle": "2024-06-02T21:37:19.177180Z",
     "shell.execute_reply": "2024-06-02T21:37:19.176307Z"
    },
    "papermill": {
     "duration": 1.112173,
     "end_time": "2024-06-02T21:37:19.179081",
     "exception": false,
     "start_time": "2024-06-02T21:37:18.066908",
     "status": "completed"
    },
    "tags": []
   },
   "outputs": [],
   "source": [
    "# %cd /kaggle/working/\n",
    "# from IPython.display import FileLink\n",
    "# FileLink('/kaggle/working/yolov9/file.zip')"
   ]
  },
  {
   "cell_type": "code",
   "execution_count": 27,
   "id": "b3cd3b5d",
   "metadata": {
    "execution": {
     "iopub.execute_input": "2024-06-02T21:37:21.471280Z",
     "iopub.status.busy": "2024-06-02T21:37:21.470879Z",
     "iopub.status.idle": "2024-06-02T21:40:01.255578Z",
     "shell.execute_reply": "2024-06-02T21:40:01.254418Z"
    },
    "papermill": {
     "duration": 160.941325,
     "end_time": "2024-06-02T21:40:01.257889",
     "exception": false,
     "start_time": "2024-06-02T21:37:20.316564",
     "status": "completed"
    },
    "tags": []
   },
   "outputs": [
    {
     "name": "stdout",
     "output_type": "stream",
     "text": [
      "  adding: kaggle/working/yolov9/runs/ (stored 0%)\r\n",
      "  adding: kaggle/working/yolov9/runs/detect/ (stored 0%)\r\n",
      "  adding: kaggle/working/yolov9/runs/detect/train/ (stored 0%)\r\n",
      "  adding: kaggle/working/yolov9/runs/detect/train/train_batch0.jpg (deflated 5%)\r\n",
      "  adding: kaggle/working/yolov9/runs/detect/train/R_curve.png (deflated 12%)\r\n",
      "  adding: kaggle/working/yolov9/runs/detect/train/train_batch2885.jpg (deflated 18%)\r\n",
      "  adding: kaggle/working/yolov9/runs/detect/train/results.png (deflated 8%)\r\n",
      "  adding: kaggle/working/yolov9/runs/detect/train/confusion_matrix.png (deflated 38%)\r\n",
      "  adding: kaggle/working/yolov9/runs/detect/train/train_batch2.jpg (deflated 6%)\r\n",
      "  adding: kaggle/working/yolov9/runs/detect/train/labels_correlogram.jpg (deflated 34%)\r\n",
      "  adding: kaggle/working/yolov9/runs/detect/train/F1_curve.png (deflated 11%)\r\n",
      "  adding: kaggle/working/yolov9/runs/detect/train/labels.jpg (deflated 34%)\r\n",
      "  adding: kaggle/working/yolov9/runs/detect/train/val_batch0_labels.jpg (deflated 9%)\r\n",
      "  adding: kaggle/working/yolov9/runs/detect/train/confusion_matrix_normalized.png (deflated 36%)\r\n",
      "  adding: kaggle/working/yolov9/runs/detect/train/P_curve.png (deflated 14%)\r\n",
      "  adding: kaggle/working/yolov9/runs/detect/train/val_batch1_pred.jpg (deflated 9%)\r\n",
      "  adding: kaggle/working/yolov9/runs/detect/train/results.csv (deflated 83%)\r\n",
      "  adding: kaggle/working/yolov9/runs/detect/train/events.out.tfevents.1717352415.8d5eedb2f766.5721.0 (deflated 94%)\r\n",
      "  adding: kaggle/working/yolov9/runs/detect/train/val_batch2_labels.jpg (deflated 7%)\r\n",
      "  adding: kaggle/working/yolov9/runs/detect/train/train_batch2887.jpg (deflated 8%)\r\n",
      "  adding: kaggle/working/yolov9/runs/detect/train/val_batch2_pred.jpg (deflated 7%)\r\n",
      "  adding: kaggle/working/yolov9/runs/detect/train/args.yaml (deflated 52%)\r\n",
      "  adding: kaggle/working/yolov9/runs/detect/train/train_batch2886.jpg (deflated 10%)\r\n",
      "  adding: kaggle/working/yolov9/runs/detect/train/val_batch0_pred.jpg (deflated 8%)\r\n",
      "  adding: kaggle/working/yolov9/runs/detect/train/weights/ (stored 0%)\r\n",
      "  adding: kaggle/working/yolov9/runs/detect/train/weights/epoch11.pt (deflated 30%)\r\n",
      "  adding: kaggle/working/yolov9/runs/detect/train/weights/epoch7.pt (deflated 29%)\r\n",
      "  adding: kaggle/working/yolov9/runs/detect/train/weights/best.pt (deflated 8%)\r\n",
      "  adding: kaggle/working/yolov9/runs/detect/train/weights/epoch8.pt (deflated 29%)\r\n",
      "  adding: kaggle/working/yolov9/runs/detect/train/weights/epoch1.pt (deflated 27%)\r\n",
      "  adding: kaggle/working/yolov9/runs/detect/train/weights/epoch10.pt (deflated 30%)\r\n",
      "  adding: kaggle/working/yolov9/runs/detect/train/weights/epoch4.pt (deflated 28%)\r\n",
      "  adding: kaggle/working/yolov9/runs/detect/train/weights/last.pt (deflated 8%)\r\n",
      "  adding: kaggle/working/yolov9/runs/detect/train/weights/epoch2.pt (deflated 27%)\r\n",
      "  adding: kaggle/working/yolov9/runs/detect/train/weights/epoch5.pt (deflated 29%)\r\n",
      "  adding: kaggle/working/yolov9/runs/detect/train/weights/epoch14.pt (deflated 30%)\r\n",
      "  adding: kaggle/working/yolov9/runs/detect/train/weights/epoch13.pt (deflated 30%)\r\n",
      "  adding: kaggle/working/yolov9/runs/detect/train/weights/epoch12.pt (deflated 30%)\r\n",
      "  adding: kaggle/working/yolov9/runs/detect/train/weights/epoch9.pt (deflated 30%)\r\n",
      "  adding: kaggle/working/yolov9/runs/detect/train/weights/epoch6.pt (deflated 29%)\r\n",
      "  adding: kaggle/working/yolov9/runs/detect/train/weights/epoch3.pt (deflated 28%)\r\n",
      "  adding: kaggle/working/yolov9/runs/detect/train/val_batch1_labels.jpg (deflated 9%)\r\n",
      "  adding: kaggle/working/yolov9/runs/detect/train/train_batch1.jpg (deflated 5%)\r\n",
      "  adding: kaggle/working/yolov9/runs/detect/train/PR_curve.png (deflated 18%)\r\n"
     ]
    }
   ],
   "source": [
    "!zip -r file.zip /kaggle/working/yolov9/runs"
   ]
  },
  {
   "cell_type": "code",
   "execution_count": 28,
   "id": "0e8fe7ac",
   "metadata": {
    "execution": {
     "iopub.execute_input": "2024-06-02T21:40:03.591453Z",
     "iopub.status.busy": "2024-06-02T21:40:03.590533Z",
     "iopub.status.idle": "2024-06-02T21:40:03.595303Z",
     "shell.execute_reply": "2024-06-02T21:40:03.594393Z"
    },
    "papermill": {
     "duration": 1.114291,
     "end_time": "2024-06-02T21:40:03.597611",
     "exception": false,
     "start_time": "2024-06-02T21:40:02.483320",
     "status": "completed"
    },
    "tags": []
   },
   "outputs": [],
   "source": [
    "# from ultralytics import YOLO\n",
    "\n",
    "# # Load a pretrained YOLOv8n model\n",
    "# model = YOLO(\"/kaggle/working/yolov9/runs/detect/train2/weights/best.pt\")\n",
    "\n",
    "# # Run inference on 'bus.jpg' with arguments\n",
    "# model.predict(\"/kaggle/working/yolov9/bdsl_test/test/images\", save=True, imgsz=320, conf=0.5)"
   ]
  },
  {
   "cell_type": "code",
   "execution_count": 29,
   "id": "386d97c0",
   "metadata": {
    "execution": {
     "iopub.execute_input": "2024-06-02T21:40:05.855260Z",
     "iopub.status.busy": "2024-06-02T21:40:05.854395Z",
     "iopub.status.idle": "2024-06-02T21:40:05.858791Z",
     "shell.execute_reply": "2024-06-02T21:40:05.857852Z"
    },
    "papermill": {
     "duration": 1.169736,
     "end_time": "2024-06-02T21:40:05.860710",
     "exception": false,
     "start_time": "2024-06-02T21:40:04.690974",
     "status": "completed"
    },
    "tags": []
   },
   "outputs": [],
   "source": [
    "# from IPython.display import Image\n",
    "\n",
    "# # Define the path to the image file\n",
    "# image_path = \"/kaggle/working/yolov9/runs/detect/predict2/এ_243.jpg\"\n",
    "\n",
    "# # Display the image\n",
    "# Image(filename=image_path)\n"
   ]
  },
  {
   "cell_type": "code",
   "execution_count": 30,
   "id": "cb5540b5",
   "metadata": {
    "execution": {
     "iopub.execute_input": "2024-06-02T21:40:08.051725Z",
     "iopub.status.busy": "2024-06-02T21:40:08.051355Z",
     "iopub.status.idle": "2024-06-02T21:40:08.056133Z",
     "shell.execute_reply": "2024-06-02T21:40:08.055208Z"
    },
    "papermill": {
     "duration": 1.110242,
     "end_time": "2024-06-02T21:40:08.058312",
     "exception": false,
     "start_time": "2024-06-02T21:40:06.948070",
     "status": "completed"
    },
    "tags": []
   },
   "outputs": [],
   "source": [
    "# import os\n",
    "# from IPython.display import display, Image\n",
    "# from PIL import Image as PILImage\n",
    "\n",
    "# # Specify the directory containing the images\n",
    "# directory = '/kaggle/working/yolov9/runs/detect/predict3'\n",
    "\n",
    "# # List all files in the directory\n",
    "# files = os.listdir(directory)\n",
    "\n",
    "# # Filter out only the image files (you can add more extensions if needed)\n",
    "# image_files = [file for file in files if file.lower().endswith(('.png', '.jpg', '.jpeg', '.gif', '.bmp', '.tiff'))]\n",
    "\n",
    "# # Loop through the list of image files and display each one\n",
    "# for image_file in image_files:\n",
    "#     image_path = os.path.join(directory, image_file)\n",
    "#     display(PILImage.open(image_path))\n",
    "\n",
    "# # Alternatively, using IPython.display.Image to directly display from the path\n",
    "# for image_file in image_files:\n",
    "#     image_path = os.path.join(directory, image_file)\n",
    "#     display(Image(filename=image_path))\n"
   ]
  },
  {
   "cell_type": "code",
   "execution_count": null,
   "id": "0344edef",
   "metadata": {
    "papermill": {
     "duration": 1.098584,
     "end_time": "2024-06-02T21:40:10.346133",
     "exception": false,
     "start_time": "2024-06-02T21:40:09.247549",
     "status": "completed"
    },
    "tags": []
   },
   "outputs": [],
   "source": []
  }
 ],
 "metadata": {
  "kaggle": {
   "accelerator": "nvidiaTeslaT4",
   "dataSources": [],
   "dockerImageVersionId": 30699,
   "isGpuEnabled": true,
   "isInternetEnabled": true,
   "language": "python",
   "sourceType": "notebook"
  },
  "kernelspec": {
   "display_name": "Python 3",
   "language": "python",
   "name": "python3"
  },
  "language_info": {
   "codemirror_mode": {
    "name": "ipython",
    "version": 3
   },
   "file_extension": ".py",
   "mimetype": "text/x-python",
   "name": "python",
   "nbconvert_exporter": "python",
   "pygments_lexer": "ipython3",
   "version": "3.10.13"
  },
  "papermill": {
   "default_parameters": {},
   "duration": 12479.145976,
   "end_time": "2024-06-02T21:40:14.227822",
   "environment_variables": {},
   "exception": null,
   "input_path": "__notebook__.ipynb",
   "output_path": "__notebook__.ipynb",
   "parameters": {},
   "start_time": "2024-06-02T18:12:15.081846",
   "version": "2.5.0"
  }
 },
 "nbformat": 4,
 "nbformat_minor": 5
}
