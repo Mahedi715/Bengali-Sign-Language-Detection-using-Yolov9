{
 "cells": [
  {
   "cell_type": "code",
   "execution_count": 1,
   "id": "f94d4eec",
   "metadata": {
    "_cell_guid": "270d6c7c-a5bb-45a4-b1fe-1bb127ce0502",
    "_uuid": "37156e2f-b957-4a90-9ad8-da020fe9b1e2",
    "execution": {
     "iopub.execute_input": "2024-06-01T19:49:43.509130Z",
     "iopub.status.busy": "2024-06-01T19:49:43.508793Z",
     "iopub.status.idle": "2024-06-01T19:49:43.520976Z",
     "shell.execute_reply": "2024-06-01T19:49:43.520063Z"
    },
    "papermill": {
     "duration": 0.024946,
     "end_time": "2024-06-01T19:49:43.522796",
     "exception": false,
     "start_time": "2024-06-01T19:49:43.497850",
     "status": "completed"
    },
    "tags": []
   },
   "outputs": [
    {
     "name": "stdout",
     "output_type": "stream",
     "text": [
      "/kaggle/working\n"
     ]
    }
   ],
   "source": [
    "%cd /kaggle/working"
   ]
  },
  {
   "cell_type": "code",
   "execution_count": 2,
   "id": "59e677b8",
   "metadata": {
    "execution": {
     "iopub.execute_input": "2024-06-01T19:49:43.542140Z",
     "iopub.status.busy": "2024-06-01T19:49:43.541888Z",
     "iopub.status.idle": "2024-06-01T19:49:43.545765Z",
     "shell.execute_reply": "2024-06-01T19:49:43.544918Z"
    },
    "papermill": {
     "duration": 0.015556,
     "end_time": "2024-06-01T19:49:43.547691",
     "exception": false,
     "start_time": "2024-06-01T19:49:43.532135",
     "status": "completed"
    },
    "tags": []
   },
   "outputs": [],
   "source": [
    "import os\n",
    "os.environ['WANDB_MODE'] = 'disabled'"
   ]
  },
  {
   "cell_type": "code",
   "execution_count": 3,
   "id": "0ad81a45",
   "metadata": {
    "_cell_guid": "506c6140-e45e-4e9d-8dc1-e2a43eaad201",
    "_uuid": "a1d06416-bb05-4615-a945-bf3aea508be6",
    "collapsed": false,
    "execution": {
     "iopub.execute_input": "2024-06-01T19:49:43.566850Z",
     "iopub.status.busy": "2024-06-01T19:49:43.566551Z",
     "iopub.status.idle": "2024-06-01T19:49:45.231369Z",
     "shell.execute_reply": "2024-06-01T19:49:45.230467Z"
    },
    "jupyter": {
     "outputs_hidden": false
    },
    "papermill": {
     "duration": 1.676626,
     "end_time": "2024-06-01T19:49:45.233392",
     "exception": false,
     "start_time": "2024-06-01T19:49:43.556766",
     "status": "completed"
    },
    "tags": []
   },
   "outputs": [
    {
     "name": "stdout",
     "output_type": "stream",
     "text": [
      "Cloning into 'yolov9'...\r\n",
      "remote: Enumerating objects: 704, done.\u001b[K\r\n",
      "remote: Counting objects: 100% (330/330), done.\u001b[K\r\n",
      "remote: Compressing objects: 100% (124/124), done.\u001b[K\r\n",
      "remote: Total 704 (delta 246), reused 202 (delta 201), pack-reused 374\u001b[K\r\n",
      "Receiving objects: 100% (704/704), 3.23 MiB | 17.06 MiB/s, done.\r\n",
      "Resolving deltas: 100% (291/291), done.\r\n"
     ]
    }
   ],
   "source": [
    "!git clone https://github.com/WongKinYiu/yolov9.git"
   ]
  },
  {
   "cell_type": "code",
   "execution_count": 4,
   "id": "6762aea5",
   "metadata": {
    "_cell_guid": "a8bcb7ad-9b9a-4bd5-8063-b435721e4f6b",
    "_uuid": "a439be80-638c-47e4-8783-d23d9759ecdb",
    "execution": {
     "iopub.execute_input": "2024-06-01T19:49:45.254930Z",
     "iopub.status.busy": "2024-06-01T19:49:45.254608Z",
     "iopub.status.idle": "2024-06-01T19:49:45.260831Z",
     "shell.execute_reply": "2024-06-01T19:49:45.259970Z"
    },
    "papermill": {
     "duration": 0.019277,
     "end_time": "2024-06-01T19:49:45.262743",
     "exception": false,
     "start_time": "2024-06-01T19:49:45.243466",
     "status": "completed"
    },
    "tags": []
   },
   "outputs": [
    {
     "name": "stdout",
     "output_type": "stream",
     "text": [
      "/kaggle/working/yolov9\n"
     ]
    }
   ],
   "source": [
    "%cd /kaggle/working/yolov9"
   ]
  },
  {
   "cell_type": "code",
   "execution_count": 5,
   "id": "c031a2ec",
   "metadata": {
    "_cell_guid": "0907a780-6d33-4c09-82de-ce0d5f7a10b7",
    "_uuid": "92d1b6a4-96e1-43d1-8746-325b18c4960c",
    "collapsed": false,
    "execution": {
     "iopub.execute_input": "2024-06-01T19:49:45.284567Z",
     "iopub.status.busy": "2024-06-01T19:49:45.284091Z",
     "iopub.status.idle": "2024-06-01T19:49:45.287641Z",
     "shell.execute_reply": "2024-06-01T19:49:45.286852Z"
    },
    "jupyter": {
     "outputs_hidden": false
    },
    "papermill": {
     "duration": 0.016618,
     "end_time": "2024-06-01T19:49:45.289537",
     "exception": false,
     "start_time": "2024-06-01T19:49:45.272919",
     "status": "completed"
    },
    "tags": []
   },
   "outputs": [],
   "source": [
    "# !wget -P /kaggle/working/yolov9 https://github.com/WongKinYiu/yolov9/releases/download/v0.1/yolov9-c.pt\n",
    "\n",
    "# !wget -P /kaggle/working/yolov9 https://github.com/WongKinYiu/yolov9/releases/download/v0.1/yolov9-e.pt"
   ]
  },
  {
   "cell_type": "code",
   "execution_count": 6,
   "id": "0f3bd3cf",
   "metadata": {
    "_cell_guid": "2a8d9427-d8a9-4365-957c-cb7edb88f799",
    "_uuid": "3ed60242-0f59-4c09-9ba5-85df0325929d",
    "collapsed": false,
    "execution": {
     "iopub.execute_input": "2024-06-01T19:49:45.310949Z",
     "iopub.status.busy": "2024-06-01T19:49:45.310457Z",
     "iopub.status.idle": "2024-06-01T19:52:50.151205Z",
     "shell.execute_reply": "2024-06-01T19:52:50.150253Z"
    },
    "jupyter": {
     "outputs_hidden": false
    },
    "papermill": {
     "duration": 184.85412,
     "end_time": "2024-06-01T19:52:50.153531",
     "exception": false,
     "start_time": "2024-06-01T19:49:45.299411",
     "status": "completed"
    },
    "tags": []
   },
   "outputs": [
    {
     "name": "stdout",
     "output_type": "stream",
     "text": [
      "Retrieving notices: ...working... done\r\n",
      "Collecting package metadata (current_repodata.json): \\ \b\b| \b\b/ \b\b- \b\b\\ \b\b| \b\b/ \b\b- \b\b\\ \b\b| \b\b/ \b\b- \b\b\\ \b\b| \b\b/ \b\b- \b\b\\ \b\b| \b\b/ \b\b- \b\b\\ \b\b| \b\b/ \b\b- \b\b\\ \b\b| \b\b/ \b\b- \b\b\\ \b\b| \b\b/ \b\b- \b\b\\ \b\b| \b\b/ \b\b- \b\b\\ \b\b| \b\b/ \b\b- \b\b\\ \b\b| \b\b/ \b\b- \b\b\\ \b\b| \b\b/ \b\b- \b\b\\ \b\b| \b\b/ \b\b- \b\b\\ \b\b| \b\b/ \b\b- \b\b\\ \b\b| \b\b/ \b\b- \b\b\\ \b\b| \b\b/ \b\b- \b\b\\ \b\b| \b\b/ \b\b- \b\b\\ \b\b| \b\b/ \b\b- \b\b\\ \b\b| \b\b/ \b\b- \b\b\\ \b\b| \b\b/ \b\b- \b\b\\ \b\b| \b\b/ \b\b- \b\b\\ \b\b| \b\b/ \b\b- \b\b\\ \b\b| \b\b/ \b\b- \b\b\\ \b\b| \b\b/ \b\b- \b\b\\ \b\b| \b\b/ \b\b- \b\b\\ \b\b| \b\b/ \b\b- \b\b\\ \b\b| \b\b/ \b\b- \b\b\\ \b\b| \b\b/ \b\b- \b\b\\ \b\b| \b\b/ \b\b- \b\b\\ \b\b| \b\b/ \b\b- \b\b\\ \b\b| \b\b/ \b\b- \b\b\\ \b\b| \b\b/ \b\b- \b\b\\ \b\b| \b\b/ \b\b- \b\b\\ \b\b| \b\b/ \b\b- \b\b\\ \b\b| \b\b/ \b\b- \b\b\\ \b\b| \b\b/ \b\b- \b\b\\ \b\b| \b\b/ \b\b- \b\b\\ \b\b| \b\b/ \b\b- \b\b\\ \b\b| \b\b/ \b\b- \b\b\\ \b\b| \b\b/ \b\b- \b\b\\ \b\b| \b\b/ \b\b- \b\b\\ \b\b| \b\b/ \b\b- \b\b\\ \b\b| \b\b/ WARNING conda.models.version:get_matcher(556): Using .* with relational operator is superfluous and deprecated and will be removed in a future version of conda. Your spec was 1.7.1.*, but conda is ignoring the .* and treating it as 1.7.1\r\n",
      "\b\b- \b\b\\ \b\b| \b\b/ \b\b- \b\b\\ \b\b| \b\b/ \b\b- \b\b\\ \b\b| \b\b/ \b\b- \b\b\\ \b\b| \b\b/ \b\b- \b\b\\ \b\b| \b\b/ \b\b- \b\b\\ \b\b| \b\b/ \b\b- \b\b\\ \b\b| \b\b/ \b\b- \b\b\\ \b\b| \b\b/ \b\b- \b\b\\ \b\b| \b\b/ \b\b- \b\b\\ \b\b| \b\b/ \b\b- \b\b\\ \b\b| \b\b/ \b\b- \b\b\\ \b\b| \b\b/ \b\b- \b\b\\ \b\b| \b\b/ \b\b- \b\b\\ \b\b| \b\b/ \b\b- \b\b\\ \b\b| \b\b/ \b\b- \b\b\\ \b\b| \b\b/ \b\b- \b\b\\ \b\b| \b\b/ \b\b- \b\b\\ \b\b| \b\b/ \b\b- \b\b\\ \b\b| \b\b/ \b\b- \b\b\\ \b\b| \b\b/ \b\b- \b\b\\ \b\b| \b\b/ \b\b- \b\b\\ \b\b| \b\b/ \b\b- \b\b\\ \b\b| \b\b/ \b\b- \b\b\\ \b\b| \b\b/ \b\b- \b\b\\ \b\b| \b\b/ \b\b- \b\b\\ \b\b| \b\b/ \b\b- \b\b\\ \b\b| \b\b/ \b\b- \b\b\\ \b\b| \b\b/ \b\b- \b\b\\ \b\b| \b\b/ \b\b- \b\b\\ \b\b| \b\b/ \b\b- \b\b\\ \b\b| \b\b/ \b\b- \b\b\\ \b\b| \b\b/ \b\b- \b\b\\ \b\b| \b\b/ \b\b- \b\b\\ \b\b| \b\b/ \b\b- \b\b\\ \b\b| \b\b/ \b\b- \b\b\\ \b\b| \b\b/ \b\b- \b\b\\ \b\b| \b\b/ \b\b- \b\b\\ \b\b| \b\b/ \b\b- \b\b\\ \b\b| \b\b/ \b\b- \b\b\\ \b\b| \b\b/ \b\b- \b\b\\ \b\b| \b\b/ \b\b- \b\b\\ \b\b| \b\b/ \b\b- \b\b\\ \b\b| \b\b/ \b\b- \b\b\\ \b\b| \b\b/ \b\b- \b\b\\ \b\b| \b\b/ \b\b- \b\b\\ \b\b| \b\b/ \b\b- \b\b\\ \b\b| \b\b/ \b\b- \b\b\\ \b\b| \b\b/ \b\b- \b\b\\ \b\b| \b\b/ \b\b- \b\b\\ \b\b| \b\b/ \b\b- \b\b\\ \b\b| \b\b/ \b\b- \b\b\\ \b\b| \b\b/ \b\b- \b\b\\ \b\b| \b\b/ \b\b- \b\b\\ \b\b| \b\b/ \b\b- \b\b\\ \b\b| \b\b/ \b\b- \b\b\\ \b\b| \b\b/ \b\b- \b\b\\ \b\b| \b\b/ \b\b- \b\b\\ \b\b| \b\b/ \b\b- \b\b\\ \b\b| \b\b/ \b\b- \b\b\\ \b\b| \b\b/ \b\b- \b\b\\ \b\b| \b\b/ \b\b- \b\b\\ \b\b| \b\b/ \b\b- \b\b\\ \b\b| \b\b/ \b\b- \b\b\\ \b\b| \b\b/ \b\b- \b\b\\ \b\b| \b\b/ \b\b- \b\b\\ \b\b| \b\b/ \b\b- \b\b\\ \b\b| \b\b/ \b\b- \b\b\\ \b\b| \b\b/ \b\b- \b\b\\ \b\b| \b\b/ \b\b- \b\b\\ \b\b| \b\b/ \b\b- \b\b\\ \b\b| \b\b/ \b\b- \b\b\\ \b\b| \b\b/ \b\b- \b\b\\ \b\b| \b\b/ \b\b- \b\b\\ \b\b| \b\b/ \b\b- \b\b\\ \b\b| \b\b/ \b\b- \b\b\\ \b\b| \b\b/ \b\b- \b\b\\ \b\b| \b\b/ \b\b- \b\b\\ \b\b| \b\b/ \b\b- \b\b\\ \b\bdone\r\n",
      "Solving environment: / \b\b- \b\b\\ \b\b| \b\b/ \b\b- \b\b\\ \b\b| \b\b/ \b\b- \b\b\\ \b\b| \b\b/ \b\b- \b\b\\ \b\b| \b\b/ \b\b- \b\b\\ \b\b| \b\b/ \b\b- \b\b\\ \b\b| \b\b/ \b\b- \b\b\\ \b\b| \b\b/ \b\b- \b\b\\ \b\b| \b\b/ \b\b- \b\b\\ \b\b| \b\b/ \b\b- \b\b\\ \b\b| \b\b/ \b\b- \b\b\\ \b\b| \b\b/ \b\b- \b\b\\ \b\b| \b\b/ \b\b- \b\b\\ \b\b| \b\b/ \b\b- \b\b\\ \b\b| \b\b/ \b\b- \b\b\\ \b\b| \b\b/ \b\b- \b\b\\ \b\b| \b\b/ \b\b- \b\b\\ \b\b| \b\b/ \b\b- \b\b\\ \b\b| \b\b/ \b\b- \b\b\\ \b\b| \b\b/ \b\b- \b\b\\ \b\b| \b\b/ \b\b- \b\b\\ \b\b| \b\b/ \b\b- \b\b\\ \b\b| \b\b/ \b\b- \b\b\\ \b\b| \b\b/ \b\b- \b\b\\ \b\b| \b\b/ \b\b- \b\b\\ \b\b| \b\b/ \b\b- \b\b\\ \b\b| \b\b/ \b\b- \b\b\\ \b\b| \b\b/ \b\b- \b\b\\ \b\b| \b\b/ \b\b- \b\b\\ \b\b| \b\b/ \b\b- \b\b\\ \b\b| \b\b/ \b\b- \b\b\\ \b\b| \b\b/ \b\b- \b\b\\ \b\b| \b\b/ \b\b- \b\b\\ \b\b| \b\b/ \b\b- \b\b\\ \b\b| \b\b/ \b\b- \b\b\\ \b\b| \b\b/ \b\b- \b\b\\ \b\b| \b\b/ \b\b- \b\b\\ \b\b| \b\b/ \b\b- \b\b\\ \b\b| \b\b/ \b\b- \b\b\\ \b\b| \b\b/ \b\b- \b\b\\ \b\b| \b\b/ \b\b- \b\b\\ \b\b| \b\b/ \b\b- \b\b\\ \b\b| \b\b/ \b\b- \b\b\\ \b\b| \b\b/ \b\b- \b\b\\ \b\b| \b\b/ \b\b- \b\b\\ \b\b| \b\b/ \b\b- \b\b\\ \b\b| \b\b/ \b\b- \b\b\\ \b\b| \b\b/ \b\b- \b\b\\ \b\b| \b\b/ \b\b- \b\b\\ \b\b| \b\b/ \b\b- \b\b\\ \b\b| \b\b/ \b\b- \b\b\\ \b\b| \b\b/ \b\b- \b\b\\ \b\b| \b\b/ \b\b- \b\b\\ \b\b| \b\b/ \b\b- \b\b\\ \b\b| \b\b/ \b\b- \b\b\\ \b\b| \b\b/ \b\b- \b\b\\ \b\b| \b\b/ \b\b- \b\b\\ \b\b| \b\b/ \b\b- \b\b\\ \b\b| \b\b/ \b\b- \b\b\\ \b\b| \b\b/ \b\b- \b\b\\ \b\b| \b\b/ \b\b- \b\b\\ \b\b| \b\b/ \b\b- \b\b\\ \b\b| \b\b/ \b\b- \b\b\\ \b\b| \b\b/ \b\b- \b\b\\ \b\b| \b\b/ \b\b- \b\b\\ \b\b| \b\b/ \b\b- \b\b\\ \b\b| \b\b/ \b\b- \b\b\\ \b\b| \b\b/ \b\b- \b\b\\ \b\b| \b\b/ \b\b- \b\b\\ \b\b| \b\b/ \b\b- \b\b\\ \b\b| \b\b/ \b\b- \b\b\\ \b\b| \b\b/ \b\b- \b\b\\ \b\b| \b\b/ \b\b- \b\b\\ \b\b| \b\b/ \b\b- \b\b\\ \b\b| \b\b/ \b\b- \b\b\\ \b\b| \b\b/ \b\b- \b\b\\ \b\b| \b\b/ \b\b- \b\b\\ \b\b| \b\b/ \b\b- \b\b\\ \b\b| \b\b/ \b\b- \b\b\\ \b\b| \b\b/ \b\b- \b\b\\ \b\b| \b\b/ \b\b- \b\b\\ \b\b| \b\b/ \b\b- \b\b\\ \b\b| \b\b/ \b\b- \b\b\\ \b\b| \b\b/ \b\b- \b\b\\ \b\b| \b\b/ \b\b- \b\b\\ \b\b| \b\b/ \b\b- \b\b\\ \b\b| \b\b/ \b\b- \b\b\\ \b\b| \b\b/ \b\b- \b\b\\ \b\b| \b\b/ \b\b- \b\b\\ \b\b| \b\b/ \b\b- \b\b\\ \b\b| \b\b/ \b\b- \b\b\\ \b\b| \b\b/ \b\b- \b\b\\ \b\b| \b\b/ \b\b- \b\b\\ \b\b| \b\b/ \b\b- \b\b\\ \b\b| \b\b/ \b\b- \b\b\\ \b\b| \b\b/ \b\b- \b\b\\ \b\b| \b\b/ \b\b- \b\b\\ \b\b| \b\b/ \b\b- \b\b\\ \b\b| \b\b/ \b\b- \b\b\\ \b\b| \b\b/ \b\b- \b\b\\ \b\b| \b\b/ \b\b- \b\b\\ \b\b| \b\b/ \b\b- \b\b\\ \b\b| \b\b/ \b\b- \b\b\\ \b\b| \b\b/ \b\b- \b\b\\ \b\b| \b\b/ \b\b- \b\b\\ \b\b| \b\b/ \b\b- \b\b\\ \b\b| \b\b/ \b\b- \b\b\\ \b\b| \b\b/ \b\b- \b\b\\ \b\b| \b\b/ \b\b- \b\b\\ \b\b| \b\b/ \b\b- \b\b\\ \b\b| \b\b/ \b\b- \b\b\\ \b\b| \b\b/ \b\b- \b\b\\ \b\b| \b\b/ \b\b- \b\b\\ \b\b| \b\b/ \b\b- \b\b\\ \b\b| \b\b/ \b\b- \b\b\\ \b\b| \b\b/ \b\b- \b\b\\ \b\b| \b\b/ \b\b- \b\b\\ \b\b| \b\b/ \b\b- \b\b\\ \b\b| \b\b/ \b\b- \b\b\\ \b\b| \b\b/ \b\b- \b\b\\ \b\b| \b\b/ \b\b- \b\b\\ \b\b| \b\b/ \b\b- \b\b\\ \b\b| \b\b/ \b\b- \b\b\\ \b\b| \b\b/ \b\b- \b\b\\ \b\b| \b\b/ \b\b- \b\b\\ \b\b| \b\b/ \b\b- \b\b\\ \b\b| \b\b/ \b\b- \b\b\\ \b\b| \b\b/ \b\b- \b\b\\ \b\b| \b\b/ \b\b- \b\b\\ \b\b| \b\b/ \b\b- \b\b\\ \b\b| \b\b/ \b\b- \b\b\\ \b\b| \b\b/ \b\b- \b\b\\ \b\b| \b\b/ \b\b- \b\b\\ \b\b| \b\b/ \b\b- \b\b\\ \b\b| \b\b/ \b\b- \b\b\\ \b\b| \b\b/ \b\b- \b\b\\ \b\b| \b\b/ \b\b- \b\b\\ \b\b| \b\b/ \b\b- \b\b\\ \b\b| \b\b/ \b\b- \b\b\\ \b\b| \b\b/ \b\b- \b\b\\ \b\b| \b\b/ \b\b- \b\b\\ \b\b| \b\b/ \b\b- \b\b\\ \b\b| \b\b/ \b\b- \b\b\\ \b\b| \b\b/ \b\b- \b\b\\ \b\b| \b\b/ \b\b- \b\b\\ \b\b| \b\b/ \b\b- \b\b\\ \b\b| \b\b/ \b\b- \b\b\\ \b\b| \b\b/ \b\b- \b\b\\ \b\b| \b\b/ \b\b- \b\b\\ \b\b| \b\b/ \b\b- \b\b\\ \b\b| \b\b/ \b\b- \b\b\\ \b\b| \b\b/ \b\b- \b\b\\ \b\b| \b\b/ \b\b- \b\b\\ \b\b| \b\b/ \b\b- \b\b\\ \b\b| \b\b/ \b\b- \b\b\\ \b\b| \b\b/ \b\b- \b\b\\ \b\b| \b\b/ \b\b- \b\b\\ \b\b| \b\b/ \b\b- \b\b\\ \b\b| \b\b/ \b\b- \b\b\\ \b\b| \b\b/ \b\b- \b\b\\ \b\b| \b\b/ \b\b- \b\b\\ \b\b| \b\b/ \b\b- \b\b\\ \b\b| \b\b/ \b\b- \b\b\\ \b\b| \b\b/ \b\b- \b\b\\ \b\b| \b\b/ \b\b- \b\b\\ \b\b| \b\b/ \b\b- \b\b\\ \b\b| \b\b/ \b\b- \b\b\\ \b\b| \b\b/ \b\b- \b\bdone\r\n",
      "\r\n",
      "\r\n",
      "==> WARNING: A newer version of conda exists. <==\r\n",
      "  current version: 23.7.4\r\n",
      "  latest version: 24.5.0\r\n",
      "\r\n",
      "Please update conda by running\r\n",
      "\r\n",
      "    $ conda update -n base -c conda-forge conda\r\n",
      "\r\n",
      "Or to minimize the number of packages updated during conda update use\r\n",
      "\r\n",
      "     conda install conda=24.5.0\r\n",
      "\r\n",
      "\r\n",
      "\r\n",
      "## Package Plan ##\r\n",
      "\r\n",
      "  environment location: /opt/conda\r\n",
      "\r\n",
      "  added / updated specs:\r\n",
      "    - gdown\r\n",
      "\r\n",
      "\r\n",
      "The following packages will be downloaded:\r\n",
      "\r\n",
      "    package                    |            build\r\n",
      "    ---------------------------|-----------------\r\n",
      "    filelock-3.14.0            |     pyhd8ed1ab_0          16 KB  conda-forge\r\n",
      "    gdown-5.2.0                |     pyhd8ed1ab_0          21 KB  conda-forge\r\n",
      "    openssl-3.3.0              |       h4ab18f5_3         2.8 MB  conda-forge\r\n",
      "    ------------------------------------------------------------\r\n",
      "                                           Total:         2.8 MB\r\n",
      "\r\n",
      "The following NEW packages will be INSTALLED:\r\n",
      "\r\n",
      "  filelock           conda-forge/noarch::filelock-3.14.0-pyhd8ed1ab_0 \r\n",
      "  gdown              conda-forge/noarch::gdown-5.2.0-pyhd8ed1ab_0 \r\n",
      "\r\n",
      "The following packages will be UPDATED:\r\n",
      "\r\n",
      "  openssl                                  3.2.1-hd590300_1 --> 3.3.0-h4ab18f5_3 \r\n",
      "\r\n",
      "\r\n",
      "\r\n",
      "Downloading and Extracting Packages\r\n",
      "gdown-5.2.0          | 21 KB     |                                       |   0% \r\n",
      "filelock-3.14.0      | 16 KB     |                                       |   0% \u001b[A\r\n",
      "\r\n",
      "openssl-3.3.0        | 2.8 MB    |                                       |   0% \u001b[A\u001b[A\r\n",
      "filelock-3.14.0      | 16 KB     | ##################################### | 100% \u001b[A\r\n",
      "filelock-3.14.0      | 16 KB     | ##################################### | 100% \u001b[A\r\n",
      "\r\n",
      "gdown-5.2.0          | 21 KB     | ##################################### | 100% \r\n",
      "\r\n",
      "openssl-3.3.0        | 2.8 MB    | ##################################### | 100% \u001b[A\u001b[A\r\n",
      "\r\n",
      "\r\n",
      "                                                                                \u001b[A\r\n",
      "\r\n",
      "\r\n",
      "Preparing transaction: | \b\bdone\r\n",
      "Verifying transaction: - \b\b\\ \b\bdone\r\n",
      "Executing transaction: / \b\b- \b\b\\ \b\b| \b\b/ \b\b- \b\b\\ \b\b| \b\b/ \b\b- \b\b\\ \b\b| \b\b/ \b\b- \b\b\\ \b\b| \b\bdone\r\n"
     ]
    }
   ],
   "source": [
    "!conda install -y gdown"
   ]
  },
  {
   "cell_type": "code",
   "execution_count": 7,
   "id": "46876c8b",
   "metadata": {
    "_cell_guid": "20ac4536-3b0a-4c28-9155-adacbe5e3fb1",
    "_uuid": "9177316f-0dfc-4f2c-9888-2bdd1b3f22a0",
    "collapsed": false,
    "execution": {
     "iopub.execute_input": "2024-06-01T19:52:50.393040Z",
     "iopub.status.busy": "2024-06-01T19:52:50.392194Z",
     "iopub.status.idle": "2024-06-01T19:53:05.877027Z",
     "shell.execute_reply": "2024-06-01T19:53:05.875833Z"
    },
    "jupyter": {
     "outputs_hidden": false
    },
    "papermill": {
     "duration": 15.627262,
     "end_time": "2024-06-01T19:53:05.879358",
     "exception": false,
     "start_time": "2024-06-01T19:52:50.252096",
     "status": "completed"
    },
    "tags": []
   },
   "outputs": [
    {
     "name": "stdout",
     "output_type": "stream",
     "text": [
      "/kaggle/working\n",
      "Downloading...\r\n",
      "From (original): https://drive.google.com/uc?id=1-4MU6v0g_I-Lm8l4wrfeNFO9xEoVNYwO\r\n",
      "From (redirected): https://drive.google.com/uc?id=1-4MU6v0g_I-Lm8l4wrfeNFO9xEoVNYwO&confirm=t&uuid=fe7a2280-849a-498f-80c5-3cb4cad98823\r\n",
      "To: /kaggle/working/bdsl_test.zip\r\n",
      "100%|████████████████████████████████████████| 880M/880M [00:13<00:00, 64.5MB/s]\r\n"
     ]
    }
   ],
   "source": [
    "%cd /kaggle/working/\n",
    "# dataset link for bangla sign language zip\n",
    "# !gdown --id 1JQhewCk77RXOLryMsmDdc11q4YubHAhF\n",
    "# dataset for testing\n",
    "!gdown 1-4MU6v0g_I-Lm8l4wrfeNFO9xEoVNYwO"
   ]
  },
  {
   "cell_type": "code",
   "execution_count": 8,
   "id": "d527596a",
   "metadata": {
    "_cell_guid": "2cb7ef18-02f2-45cc-8611-238967327fb1",
    "_uuid": "d653f857-bd98-4afb-9a90-ae8894a6763c",
    "collapsed": false,
    "execution": {
     "iopub.execute_input": "2024-06-01T19:53:06.098319Z",
     "iopub.status.busy": "2024-06-01T19:53:06.097526Z",
     "iopub.status.idle": "2024-06-01T19:53:13.691581Z",
     "shell.execute_reply": "2024-06-01T19:53:13.690629Z"
    },
    "jupyter": {
     "outputs_hidden": false
    },
    "papermill": {
     "duration": 7.701572,
     "end_time": "2024-06-01T19:53:13.694653",
     "exception": false,
     "start_time": "2024-06-01T19:53:05.993081",
     "status": "completed"
    },
    "tags": []
   },
   "outputs": [
    {
     "name": "stdout",
     "output_type": "stream",
     "text": [
      "Folder successfully unzipped to /kaggle/working/yolov9/bdsl_test\n"
     ]
    }
   ],
   "source": [
    "import zipfile\n",
    "import os\n",
    "\n",
    "\n",
    "\n",
    "# Step 2: Define the path to the zip file\n",
    "zip_file_path = '/kaggle/working/bdsl_test.zip'\n",
    "\n",
    "# Step 3: Extract the name of the zip file (without extension) to create a folder\n",
    "zip_file_name = os.path.basename(zip_file_path)\n",
    "folder_name = os.path.splitext(zip_file_name)[0]\n",
    "extract_to_path = os.path.join('/kaggle/working/yolov9', folder_name)\n",
    "\n",
    "# Step 4: Create the output directory if it doesn't exist\n",
    "os.makedirs(extract_to_path, exist_ok=True)\n",
    "\n",
    "# Step 5: Unzip the file\n",
    "with zipfile.ZipFile(zip_file_path, 'r') as zip_ref:\n",
    "    zip_ref.extractall(extract_to_path)\n",
    "\n",
    "# Verify the extraction\n",
    "if os.path.exists(extract_to_path):\n",
    "    print(f\"Folder successfully unzipped to {extract_to_path}\")\n",
    "else:\n",
    "    print(\"Failed to unzip the folder.\")"
   ]
  },
  {
   "cell_type": "code",
   "execution_count": 9,
   "id": "9d9f33fa",
   "metadata": {
    "execution": {
     "iopub.execute_input": "2024-06-01T19:53:13.919313Z",
     "iopub.status.busy": "2024-06-01T19:53:13.918975Z",
     "iopub.status.idle": "2024-06-01T19:53:14.042823Z",
     "shell.execute_reply": "2024-06-01T19:53:14.041916Z"
    },
    "papermill": {
     "duration": 0.23007,
     "end_time": "2024-06-01T19:53:14.044660",
     "exception": false,
     "start_time": "2024-06-01T19:53:13.814590",
     "status": "completed"
    },
    "tags": []
   },
   "outputs": [
    {
     "name": "stdout",
     "output_type": "stream",
     "text": [
      "/kaggle/working/bdsl_test.zip has been deleted\n"
     ]
    }
   ],
   "source": [
    "import os\n",
    "\n",
    "file_path = '/kaggle/working/bdsl_test.zip'\n",
    "\n",
    "# Check if the file exists before trying to delete it\n",
    "if os.path.exists(file_path):\n",
    "    os.remove(file_path)\n",
    "    print(f\"{file_path} has been deleted\")\n",
    "else:\n",
    "    print(f\"{file_path} does not exist\")\n"
   ]
  },
  {
   "cell_type": "code",
   "execution_count": 10,
   "id": "d48ae87f",
   "metadata": {
    "_cell_guid": "fc2155ab-6458-4a43-949a-7433805743cb",
    "_uuid": "3a089677-efeb-44ba-8ff5-ea0c12227ee7",
    "collapsed": false,
    "execution": {
     "iopub.execute_input": "2024-06-01T19:53:14.251431Z",
     "iopub.status.busy": "2024-06-01T19:53:14.251131Z",
     "iopub.status.idle": "2024-06-01T19:53:14.254825Z",
     "shell.execute_reply": "2024-06-01T19:53:14.253997Z"
    },
    "jupyter": {
     "outputs_hidden": false
    },
    "papermill": {
     "duration": 0.109465,
     "end_time": "2024-06-01T19:53:14.256765",
     "exception": false,
     "start_time": "2024-06-01T19:53:14.147300",
     "status": "completed"
    },
    "tags": []
   },
   "outputs": [],
   "source": [
    "# %cd /kaggle/working/yolov9/models/detect\n",
    "# !gdown --id 1SHNpPjhxI11Cu3Lz8ZN5lhCDLe4okBCe"
   ]
  },
  {
   "cell_type": "code",
   "execution_count": 11,
   "id": "43e06a45",
   "metadata": {
    "_cell_guid": "b34e9b11-eef8-434d-a104-609666fc9682",
    "_uuid": "c88b16ec-f4d5-4228-b640-8ba5e3c3c1fb",
    "collapsed": false,
    "execution": {
     "iopub.execute_input": "2024-06-01T19:53:14.463187Z",
     "iopub.status.busy": "2024-06-01T19:53:14.462922Z",
     "iopub.status.idle": "2024-06-01T19:53:16.776180Z",
     "shell.execute_reply": "2024-06-01T19:53:16.775134Z"
    },
    "jupyter": {
     "outputs_hidden": false
    },
    "papermill": {
     "duration": 2.418923,
     "end_time": "2024-06-01T19:53:16.778325",
     "exception": false,
     "start_time": "2024-06-01T19:53:14.359402",
     "status": "completed"
    },
    "tags": []
   },
   "outputs": [
    {
     "name": "stdout",
     "output_type": "stream",
     "text": [
      "/kaggle/working/yolov9\n",
      "Downloading...\r\n",
      "From: https://drive.google.com/uc?id=14tHwlpaRImLNcEuo8JqW5SFnuXcTsCA1\r\n",
      "To: /kaggle/working/yolov9/data.yaml\r\n",
      "100%|██████████████████████████████████████████| 222/222 [00:00<00:00, 1.01MB/s]\r\n"
     ]
    }
   ],
   "source": [
    "%cd /kaggle/working/yolov9\n",
    "# data.yml file\n",
    "# !gdown 1yRa2jbtUw74fhIr9o73hECeSPy86z52t\n",
    "# yml file for shoreo shoreya\n",
    "!gdown 14tHwlpaRImLNcEuo8JqW5SFnuXcTsCA1"
   ]
  },
  {
   "cell_type": "code",
   "execution_count": 12,
   "id": "8c515c70",
   "metadata": {
    "_cell_guid": "1b71b027-1a13-48ab-995e-6ebfc3939e8d",
    "_uuid": "a629435d-2cd5-4530-ac6b-a909b92e53de",
    "collapsed": false,
    "execution": {
     "iopub.execute_input": "2024-06-01T19:53:16.990159Z",
     "iopub.status.busy": "2024-06-01T19:53:16.989797Z",
     "iopub.status.idle": "2024-06-01T19:53:16.996020Z",
     "shell.execute_reply": "2024-06-01T19:53:16.995130Z"
    },
    "jupyter": {
     "outputs_hidden": false
    },
    "papermill": {
     "duration": 0.112493,
     "end_time": "2024-06-01T19:53:16.997890",
     "exception": false,
     "start_time": "2024-06-01T19:53:16.885397",
     "status": "completed"
    },
    "tags": []
   },
   "outputs": [
    {
     "name": "stdout",
     "output_type": "stream",
     "text": [
      "/kaggle/working/yolov9\n"
     ]
    }
   ],
   "source": [
    "%cd /kaggle/working/yolov9"
   ]
  },
  {
   "cell_type": "code",
   "execution_count": 13,
   "id": "6c545e11",
   "metadata": {
    "_cell_guid": "b9088181-84d1-43bc-a628-8e63ef3fb825",
    "_uuid": "4a3ff935-70a0-4bf2-930d-a6ed556069eb",
    "collapsed": false,
    "execution": {
     "iopub.execute_input": "2024-06-01T19:53:17.206962Z",
     "iopub.status.busy": "2024-06-01T19:53:17.206124Z",
     "iopub.status.idle": "2024-06-01T19:53:17.210460Z",
     "shell.execute_reply": "2024-06-01T19:53:17.209534Z"
    },
    "jupyter": {
     "outputs_hidden": false
    },
    "papermill": {
     "duration": 0.110561,
     "end_time": "2024-06-01T19:53:17.212325",
     "exception": false,
     "start_time": "2024-06-01T19:53:17.101764",
     "status": "completed"
    },
    "tags": []
   },
   "outputs": [],
   "source": [
    "#!python train_dual.py --workers 16 --batch 8 --img 640 --epochs 20 --data /kaggle/working/yolov9/data.yaml --weights /kaggle/working/yolov9/yolov9-e.pt --device 0,1 --cfg /kaggle/working/yolov9/models/detect/yolov9_custom.yaml --hyp /kaggle/working/yolov9/data/hyps/hyp.scratch-high.yaml"
   ]
  },
  {
   "cell_type": "code",
   "execution_count": 14,
   "id": "73483abd",
   "metadata": {
    "_cell_guid": "e4914f95-fd27-4a74-9b15-ff20cb441f68",
    "_uuid": "3e2ca17f-4bf4-4c59-b03f-cf5b0afb0096",
    "collapsed": false,
    "execution": {
     "iopub.execute_input": "2024-06-01T19:53:17.431827Z",
     "iopub.status.busy": "2024-06-01T19:53:17.431473Z",
     "iopub.status.idle": "2024-06-01T19:53:17.435669Z",
     "shell.execute_reply": "2024-06-01T19:53:17.434818Z"
    },
    "jupyter": {
     "outputs_hidden": false
    },
    "papermill": {
     "duration": 0.117334,
     "end_time": "2024-06-01T19:53:17.438096",
     "exception": false,
     "start_time": "2024-06-01T19:53:17.320762",
     "status": "completed"
    },
    "tags": []
   },
   "outputs": [],
   "source": [
    "# !python train_dual.py \\\n",
    "# --workers 16 --batch 8 --img 512 --epochs 10 --verbose True \\\n",
    "# --resume true --data /kaggle/working/yolov9/data.yaml \\\n",
    "# --weights /kaggle/working/yolov9/yolov9-e.pt --device 0,1 \\\n",
    "# --cfg /kaggle/working/yolov9/models/detect/yolov9_custom.yaml \\\n",
    "# --hyp /kaggle/working/yolov9/data/hyps/hyp.scratch-high.yaml"
   ]
  },
  {
   "cell_type": "markdown",
   "id": "898a0f56",
   "metadata": {
    "_cell_guid": "5494688a-4a1a-45a6-9aba-19c4117d605b",
    "_uuid": "74b0020d-aac5-4bc9-89a1-0a77f1148b61",
    "papermill": {
     "duration": 0.106744,
     "end_time": "2024-06-01T19:53:17.651931",
     "exception": false,
     "start_time": "2024-06-01T19:53:17.545187",
     "status": "completed"
    },
    "tags": []
   },
   "source": [
    "### "
   ]
  },
  {
   "cell_type": "code",
   "execution_count": 15,
   "id": "54d41b22",
   "metadata": {
    "execution": {
     "iopub.execute_input": "2024-06-01T19:53:17.868061Z",
     "iopub.status.busy": "2024-06-01T19:53:17.867753Z",
     "iopub.status.idle": "2024-06-01T19:53:32.374167Z",
     "shell.execute_reply": "2024-06-01T19:53:32.373077Z"
    },
    "papermill": {
     "duration": 14.619062,
     "end_time": "2024-06-01T19:53:32.376502",
     "exception": false,
     "start_time": "2024-06-01T19:53:17.757440",
     "status": "completed"
    },
    "tags": []
   },
   "outputs": [
    {
     "name": "stdout",
     "output_type": "stream",
     "text": [
      "Collecting ultralytics\r\n",
      "  Downloading ultralytics-8.2.27-py3-none-any.whl.metadata (41 kB)\r\n",
      "\u001b[2K     \u001b[90m━━━━━━━━━━━━━━━━━━━━━━━━━━━━━━━━━━━━━━━\u001b[0m \u001b[32m41.2/41.2 kB\u001b[0m \u001b[31m745.9 kB/s\u001b[0m eta \u001b[36m0:00:00\u001b[0m\r\n",
      "\u001b[?25hRequirement already satisfied: matplotlib>=3.3.0 in /opt/conda/lib/python3.10/site-packages (from ultralytics) (3.7.5)\r\n",
      "Requirement already satisfied: opencv-python>=4.6.0 in /opt/conda/lib/python3.10/site-packages (from ultralytics) (4.9.0.80)\r\n",
      "Requirement already satisfied: pillow>=7.1.2 in /opt/conda/lib/python3.10/site-packages (from ultralytics) (9.5.0)\r\n",
      "Requirement already satisfied: pyyaml>=5.3.1 in /opt/conda/lib/python3.10/site-packages (from ultralytics) (6.0.1)\r\n",
      "Requirement already satisfied: requests>=2.23.0 in /opt/conda/lib/python3.10/site-packages (from ultralytics) (2.31.0)\r\n",
      "Requirement already satisfied: scipy>=1.4.1 in /opt/conda/lib/python3.10/site-packages (from ultralytics) (1.11.4)\r\n",
      "Requirement already satisfied: torch>=1.8.0 in /opt/conda/lib/python3.10/site-packages (from ultralytics) (2.1.2)\r\n",
      "Requirement already satisfied: torchvision>=0.9.0 in /opt/conda/lib/python3.10/site-packages (from ultralytics) (0.16.2)\r\n",
      "Requirement already satisfied: tqdm>=4.64.0 in /opt/conda/lib/python3.10/site-packages (from ultralytics) (4.66.1)\r\n",
      "Requirement already satisfied: psutil in /opt/conda/lib/python3.10/site-packages (from ultralytics) (5.9.3)\r\n",
      "Requirement already satisfied: py-cpuinfo in /opt/conda/lib/python3.10/site-packages (from ultralytics) (9.0.0)\r\n",
      "Collecting thop>=0.1.1 (from ultralytics)\r\n",
      "  Downloading thop-0.1.1.post2209072238-py3-none-any.whl.metadata (2.7 kB)\r\n",
      "Requirement already satisfied: pandas>=1.1.4 in /opt/conda/lib/python3.10/site-packages (from ultralytics) (2.1.4)\r\n",
      "Requirement already satisfied: seaborn>=0.11.0 in /opt/conda/lib/python3.10/site-packages (from ultralytics) (0.12.2)\r\n",
      "Requirement already satisfied: contourpy>=1.0.1 in /opt/conda/lib/python3.10/site-packages (from matplotlib>=3.3.0->ultralytics) (1.2.0)\r\n",
      "Requirement already satisfied: cycler>=0.10 in /opt/conda/lib/python3.10/site-packages (from matplotlib>=3.3.0->ultralytics) (0.12.1)\r\n",
      "Requirement already satisfied: fonttools>=4.22.0 in /opt/conda/lib/python3.10/site-packages (from matplotlib>=3.3.0->ultralytics) (4.47.0)\r\n",
      "Requirement already satisfied: kiwisolver>=1.0.1 in /opt/conda/lib/python3.10/site-packages (from matplotlib>=3.3.0->ultralytics) (1.4.5)\r\n",
      "Requirement already satisfied: numpy<2,>=1.20 in /opt/conda/lib/python3.10/site-packages (from matplotlib>=3.3.0->ultralytics) (1.26.4)\r\n",
      "Requirement already satisfied: packaging>=20.0 in /opt/conda/lib/python3.10/site-packages (from matplotlib>=3.3.0->ultralytics) (21.3)\r\n",
      "Requirement already satisfied: pyparsing>=2.3.1 in /opt/conda/lib/python3.10/site-packages (from matplotlib>=3.3.0->ultralytics) (3.1.1)\r\n",
      "Requirement already satisfied: python-dateutil>=2.7 in /opt/conda/lib/python3.10/site-packages (from matplotlib>=3.3.0->ultralytics) (2.9.0.post0)\r\n",
      "Requirement already satisfied: pytz>=2020.1 in /opt/conda/lib/python3.10/site-packages (from pandas>=1.1.4->ultralytics) (2023.3.post1)\r\n",
      "Requirement already satisfied: tzdata>=2022.1 in /opt/conda/lib/python3.10/site-packages (from pandas>=1.1.4->ultralytics) (2023.4)\r\n",
      "Requirement already satisfied: charset-normalizer<4,>=2 in /opt/conda/lib/python3.10/site-packages (from requests>=2.23.0->ultralytics) (3.3.2)\r\n",
      "Requirement already satisfied: idna<4,>=2.5 in /opt/conda/lib/python3.10/site-packages (from requests>=2.23.0->ultralytics) (3.6)\r\n",
      "Requirement already satisfied: urllib3<3,>=1.21.1 in /opt/conda/lib/python3.10/site-packages (from requests>=2.23.0->ultralytics) (1.26.18)\r\n",
      "Requirement already satisfied: certifi>=2017.4.17 in /opt/conda/lib/python3.10/site-packages (from requests>=2.23.0->ultralytics) (2024.2.2)\r\n",
      "Requirement already satisfied: filelock in /opt/conda/lib/python3.10/site-packages (from torch>=1.8.0->ultralytics) (3.13.1)\r\n",
      "Requirement already satisfied: typing-extensions in /opt/conda/lib/python3.10/site-packages (from torch>=1.8.0->ultralytics) (4.9.0)\r\n",
      "Requirement already satisfied: sympy in /opt/conda/lib/python3.10/site-packages (from torch>=1.8.0->ultralytics) (1.12)\r\n",
      "Requirement already satisfied: networkx in /opt/conda/lib/python3.10/site-packages (from torch>=1.8.0->ultralytics) (3.2.1)\r\n",
      "Requirement already satisfied: jinja2 in /opt/conda/lib/python3.10/site-packages (from torch>=1.8.0->ultralytics) (3.1.2)\r\n",
      "Requirement already satisfied: fsspec in /opt/conda/lib/python3.10/site-packages (from torch>=1.8.0->ultralytics) (2024.2.0)\r\n",
      "Requirement already satisfied: six>=1.5 in /opt/conda/lib/python3.10/site-packages (from python-dateutil>=2.7->matplotlib>=3.3.0->ultralytics) (1.16.0)\r\n",
      "Requirement already satisfied: MarkupSafe>=2.0 in /opt/conda/lib/python3.10/site-packages (from jinja2->torch>=1.8.0->ultralytics) (2.1.3)\r\n",
      "Requirement already satisfied: mpmath>=0.19 in /opt/conda/lib/python3.10/site-packages (from sympy->torch>=1.8.0->ultralytics) (1.3.0)\r\n",
      "Downloading ultralytics-8.2.27-py3-none-any.whl (779 kB)\r\n",
      "\u001b[2K   \u001b[90m━━━━━━━━━━━━━━━━━━━━━━━━━━━━━━━━━━━━━━━━\u001b[0m \u001b[32m779.6/779.6 kB\u001b[0m \u001b[31m6.3 MB/s\u001b[0m eta \u001b[36m0:00:00\u001b[0m\r\n",
      "\u001b[?25hDownloading thop-0.1.1.post2209072238-py3-none-any.whl (15 kB)\r\n",
      "Installing collected packages: thop, ultralytics\r\n",
      "Successfully installed thop-0.1.1.post2209072238 ultralytics-8.2.27\r\n"
     ]
    }
   ],
   "source": [
    "!pip install ultralytics \n"
   ]
  },
  {
   "cell_type": "code",
   "execution_count": 16,
   "id": "998e7a8a",
   "metadata": {
    "execution": {
     "iopub.execute_input": "2024-06-01T19:53:32.610035Z",
     "iopub.status.busy": "2024-06-01T19:53:32.609199Z",
     "iopub.status.idle": "2024-06-01T19:53:32.616499Z",
     "shell.execute_reply": "2024-06-01T19:53:32.615628Z"
    },
    "papermill": {
     "duration": 0.136211,
     "end_time": "2024-06-01T19:53:32.618456",
     "exception": false,
     "start_time": "2024-06-01T19:53:32.482245",
     "status": "completed"
    },
    "tags": []
   },
   "outputs": [
    {
     "name": "stdout",
     "output_type": "stream",
     "text": [
      "/kaggle/working/yolov9\n"
     ]
    }
   ],
   "source": [
    "%cd /kaggle/working/yolov9"
   ]
  },
  {
   "cell_type": "code",
   "execution_count": 17,
   "id": "8e32a03a",
   "metadata": {
    "execution": {
     "iopub.execute_input": "2024-06-01T19:53:32.848239Z",
     "iopub.status.busy": "2024-06-01T19:53:32.847330Z",
     "iopub.status.idle": "2024-06-01T19:53:32.851869Z",
     "shell.execute_reply": "2024-06-01T19:53:32.850991Z"
    },
    "papermill": {
     "duration": 0.124351,
     "end_time": "2024-06-01T19:53:32.853776",
     "exception": false,
     "start_time": "2024-06-01T19:53:32.729425",
     "status": "completed"
    },
    "tags": []
   },
   "outputs": [],
   "source": [
    "#best pt file \n",
    "# !gdown 1Pgf9D29jDo2RrY3EbjUWsBco0lbE0k4F"
   ]
  },
  {
   "cell_type": "code",
   "execution_count": 18,
   "id": "2ebc0c00",
   "metadata": {
    "execution": {
     "iopub.execute_input": "2024-06-01T19:53:33.072480Z",
     "iopub.status.busy": "2024-06-01T19:53:33.072098Z",
     "iopub.status.idle": "2024-06-01T19:53:38.210925Z",
     "shell.execute_reply": "2024-06-01T19:53:38.209808Z"
    },
    "papermill": {
     "duration": 5.249404,
     "end_time": "2024-06-01T19:53:38.213594",
     "exception": false,
     "start_time": "2024-06-01T19:53:32.964190",
     "status": "completed"
    },
    "tags": []
   },
   "outputs": [
    {
     "name": "stdout",
     "output_type": "stream",
     "text": [
      "Downloading https://github.com/ultralytics/assets/releases/download/v8.2.0/yolov9c.pt to 'yolov9c.pt'...\n"
     ]
    },
    {
     "name": "stderr",
     "output_type": "stream",
     "text": [
      "100%|██████████| 49.4M/49.4M [00:00<00:00, 223MB/s]\n"
     ]
    },
    {
     "name": "stdout",
     "output_type": "stream",
     "text": [
      "YOLOv9c summary: 618 layers, 25590912 parameters, 0 gradients, 104.0 GFLOPs\n"
     ]
    },
    {
     "data": {
      "text/plain": [
       "(618, 25590912, 0, 104.02268160000003)"
      ]
     },
     "execution_count": 18,
     "metadata": {},
     "output_type": "execute_result"
    }
   ],
   "source": [
    "from ultralytics import YOLO\n",
    "\n",
    "\n",
    "# Build a YOLOv9c model from pretrained weight\n",
    "model = YOLO(\"yolov9c.pt\")\n",
    "\n",
    "# Display model information (optional)\n",
    "model.info()\n",
    "\n"
   ]
  },
  {
   "cell_type": "code",
   "execution_count": 19,
   "id": "7ea56ca4",
   "metadata": {
    "execution": {
     "iopub.execute_input": "2024-06-01T19:53:38.458554Z",
     "iopub.status.busy": "2024-06-01T19:53:38.457345Z",
     "iopub.status.idle": "2024-06-01T19:53:38.465080Z",
     "shell.execute_reply": "2024-06-01T19:53:38.464330Z"
    },
    "papermill": {
     "duration": 0.123242,
     "end_time": "2024-06-01T19:53:38.467047",
     "exception": false,
     "start_time": "2024-06-01T19:53:38.343805",
     "status": "completed"
    },
    "tags": []
   },
   "outputs": [],
   "source": [
    "import torch\n",
    "import torch.nn as nn\n",
    "\n",
    "\n",
    "class DataParallelModel(nn.Module):\n",
    "\n",
    "    def __init__(self):\n",
    "        super().__init__()\n",
    "        self.block1 = nn.Linear(10, 20)\n",
    "\n",
    "        # wrap block2 in DataParallel\n",
    "        self.block2 = nn.Linear(20, 20)\n",
    "        self.block2 = nn.DataParallel(self.block2)\n",
    "\n",
    "        self.block3 = nn.Linear(20, 20)\n",
    "\n",
    "    def forward(self, x):\n",
    "        x = self.block1(x)\n",
    "        x = self.block2(x)\n",
    "        x = self.block3(x)\n",
    "        return x"
   ]
  },
  {
   "cell_type": "code",
   "execution_count": 20,
   "id": "63fd88a9",
   "metadata": {
    "execution": {
     "iopub.execute_input": "2024-06-01T19:53:38.680992Z",
     "iopub.status.busy": "2024-06-01T19:53:38.680335Z",
     "iopub.status.idle": "2024-06-01T19:53:40.262568Z",
     "shell.execute_reply": "2024-06-01T19:53:40.261644Z"
    },
    "papermill": {
     "duration": 1.691745,
     "end_time": "2024-06-01T19:53:40.264884",
     "exception": false,
     "start_time": "2024-06-01T19:53:38.573139",
     "status": "completed"
    },
    "tags": []
   },
   "outputs": [],
   "source": [
    "# train.py\n",
    "import wandb\n",
    "import random  # for demo script\n",
    "\n",
    "wandb.login('957d38e93afcd97d0286c494f525efdb6caf7707')\n",
    "\n",
    "epochs = 10\n",
    "lr = 0.01\n",
    "\n",
    "run = wandb.init(\n",
    "    # Set the project where this run will be logged\n",
    "    project=\"my-awesome-project\",\n",
    "    # Track hyperparameters and run metadata\n",
    "    config={\n",
    "        \"learning_rate\": lr,\n",
    "        \"epochs\": epochs,\n",
    "    },\n",
    ")\n"
   ]
  },
  {
   "cell_type": "code",
   "execution_count": 21,
   "id": "c7e61766",
   "metadata": {
    "execution": {
     "iopub.execute_input": "2024-06-01T19:53:40.478685Z",
     "iopub.status.busy": "2024-06-01T19:53:40.478034Z",
     "iopub.status.idle": "2024-06-01T20:15:15.097076Z",
     "shell.execute_reply": "2024-06-01T20:15:15.095974Z"
    },
    "papermill": {
     "duration": 1294.72813,
     "end_time": "2024-06-01T20:15:15.099362",
     "exception": false,
     "start_time": "2024-06-01T19:53:40.371232",
     "status": "completed"
    },
    "tags": []
   },
   "outputs": [
    {
     "name": "stdout",
     "output_type": "stream",
     "text": [
      "Ultralytics YOLOv8.2.27 🚀 Python-3.10.13 torch-2.1.2 CUDA:0 (Tesla T4, 15102MiB)\n",
      "                                                      CUDA:1 (Tesla T4, 15102MiB)\n",
      "\u001b[34m\u001b[1mengine/trainer: \u001b[0mtask=detect, mode=train, model=yolov9c.pt, data=/kaggle/working/yolov9/data.yaml, epochs=10, time=None, patience=100, batch=16, imgsz=640, save=True, save_period=1, cache=False, device=[0, 1], workers=8, project=None, name=train, exist_ok=False, pretrained=True, optimizer=auto, verbose=True, seed=0, deterministic=True, single_cls=False, rect=False, cos_lr=False, close_mosaic=10, resume=False, amp=True, fraction=1.0, profile=False, freeze=None, multi_scale=False, overlap_mask=True, mask_ratio=4, dropout=0.0, val=True, split=val, save_json=False, save_hybrid=False, conf=None, iou=0.7, max_det=300, half=False, dnn=False, plots=True, source=None, vid_stride=1, stream_buffer=False, visualize=False, augment=False, agnostic_nms=False, classes=None, retina_masks=False, embed=None, show=False, save_frames=False, save_txt=False, save_conf=False, save_crop=False, show_labels=True, show_conf=True, show_boxes=True, line_width=None, format=torchscript, keras=False, optimize=False, int8=False, dynamic=False, simplify=False, opset=None, workspace=4, nms=False, lr0=0.01, lrf=0.01, momentum=0.937, weight_decay=0.0005, warmup_epochs=3.0, warmup_momentum=0.8, warmup_bias_lr=0.1, box=7.5, cls=0.5, dfl=1.5, pose=12.0, kobj=1.0, label_smoothing=0.0, nbs=64, hsv_h=0.015, hsv_s=0.7, hsv_v=0.4, degrees=0.0, translate=0.1, scale=0.5, shear=0.0, perspective=0.0, flipud=0.0, fliplr=0.5, bgr=0.0, mosaic=1.0, mixup=0.0, copy_paste=0.0, auto_augment=randaugment, erasing=0.4, crop_fraction=1.0, cfg=None, tracker=botsort.yaml, save_dir=runs/detect/train\n",
      "Downloading https://ultralytics.com/assets/Arial.Unicode.ttf to '/root/.config/Ultralytics/Arial.Unicode.ttf'...\n"
     ]
    },
    {
     "name": "stderr",
     "output_type": "stream",
     "text": [
      "100%|██████████| 22.2M/22.2M [00:00<00:00, 137MB/s] \n",
      "2024-06-01 19:53:43,299\tINFO util.py:124 -- Outdated packages:\n",
      "  ipywidgets==7.7.1 found, needs ipywidgets>=8\n",
      "Run `pip install -U ipywidgets`, then restart the notebook server for rich notebook output.\n",
      "2024-06-01 19:53:44,869\tINFO util.py:124 -- Outdated packages:\n",
      "  ipywidgets==7.7.1 found, needs ipywidgets>=8\n",
      "Run `pip install -U ipywidgets`, then restart the notebook server for rich notebook output.\n"
     ]
    },
    {
     "name": "stdout",
     "output_type": "stream",
     "text": [
      "Overriding model.yaml nc=80 with nc=7\n",
      "\n",
      "                   from  n    params  module                                       arguments                     \n",
      "  0                  -1  1      1856  ultralytics.nn.modules.conv.Conv             [3, 64, 3, 2]                 \n",
      "  1                  -1  1     73984  ultralytics.nn.modules.conv.Conv             [64, 128, 3, 2]               \n",
      "  2                  -1  1    212864  ultralytics.nn.modules.block.RepNCSPELAN4    [128, 256, 128, 64, 1]        \n",
      "  3                  -1  1    164352  ultralytics.nn.modules.block.ADown           [256, 256]                    \n",
      "  4                  -1  1    847616  ultralytics.nn.modules.block.RepNCSPELAN4    [256, 512, 256, 128, 1]       \n",
      "  5                  -1  1    656384  ultralytics.nn.modules.block.ADown           [512, 512]                    \n",
      "  6                  -1  1   2857472  ultralytics.nn.modules.block.RepNCSPELAN4    [512, 512, 512, 256, 1]       \n",
      "  7                  -1  1    656384  ultralytics.nn.modules.block.ADown           [512, 512]                    \n",
      "  8                  -1  1   2857472  ultralytics.nn.modules.block.RepNCSPELAN4    [512, 512, 512, 256, 1]       \n",
      "  9                  -1  1    656896  ultralytics.nn.modules.block.SPPELAN         [512, 512, 256]               \n",
      " 10                  -1  1         0  torch.nn.modules.upsampling.Upsample         [None, 2, 'nearest']          \n",
      " 11             [-1, 6]  1         0  ultralytics.nn.modules.conv.Concat           [1]                           \n",
      " 12                  -1  1   3119616  ultralytics.nn.modules.block.RepNCSPELAN4    [1024, 512, 512, 256, 1]      \n",
      " 13                  -1  1         0  torch.nn.modules.upsampling.Upsample         [None, 2, 'nearest']          \n",
      " 14             [-1, 4]  1         0  ultralytics.nn.modules.conv.Concat           [1]                           \n",
      " 15                  -1  1    912640  ultralytics.nn.modules.block.RepNCSPELAN4    [1024, 256, 256, 128, 1]      \n",
      " 16                  -1  1    164352  ultralytics.nn.modules.block.ADown           [256, 256]                    \n",
      " 17            [-1, 12]  1         0  ultralytics.nn.modules.conv.Concat           [1]                           \n",
      " 18                  -1  1   2988544  ultralytics.nn.modules.block.RepNCSPELAN4    [768, 512, 512, 256, 1]       \n",
      " 19                  -1  1    656384  ultralytics.nn.modules.block.ADown           [512, 512]                    \n",
      " 20             [-1, 9]  1         0  ultralytics.nn.modules.conv.Concat           [1]                           \n",
      " 21                  -1  1   3119616  ultralytics.nn.modules.block.RepNCSPELAN4    [1024, 512, 512, 256, 1]      \n",
      " 22        [15, 18, 21]  1   5588197  ultralytics.nn.modules.head.Detect           [7, [256, 512, 512]]          \n",
      "YOLOv9c summary: 618 layers, 25534629 parameters, 25534613 gradients, 103.7 GFLOPs\n",
      "\n",
      "Transferred 931/937 items from pretrained weights\n",
      "\u001b[34m\u001b[1mDDP:\u001b[0m debug command /opt/conda/bin/python -m torch.distributed.run --nproc_per_node 2 --master_port 50249 /root/.config/Ultralytics/DDP/_temp_5y_p836n135639179243392.py\n",
      "Ultralytics YOLOv8.2.27 🚀 Python-3.10.13 torch-2.1.2 CUDA:0 (Tesla T4, 15102MiB)\n",
      "                                                      CUDA:1 (Tesla T4, 15102MiB)\n",
      "\u001b[34m\u001b[1mTensorBoard: \u001b[0mStart with 'tensorboard --logdir runs/detect/train', view at http://localhost:6006/\n",
      "Overriding model.yaml nc=80 with nc=7\n",
      "Transferred 931/937 items from pretrained weights\n",
      "Freezing layer 'model.22.dfl.conv.weight'\n",
      "\u001b[34m\u001b[1mAMP: \u001b[0mrunning Automatic Mixed Precision (AMP) checks with YOLOv8n...\n",
      "Downloading https://github.com/ultralytics/assets/releases/download/v8.2.0/yolov8n.pt to 'yolov8n.pt'...\n"
     ]
    },
    {
     "name": "stderr",
     "output_type": "stream",
     "text": [
      "100%|██████████| 6.23M/6.23M [00:00<00:00, 73.5MB/s]\n"
     ]
    },
    {
     "name": "stdout",
     "output_type": "stream",
     "text": [
      "\u001b[34m\u001b[1mAMP: \u001b[0mchecks passed ✅\n"
     ]
    },
    {
     "name": "stderr",
     "output_type": "stream",
     "text": [
      "\u001b[34m\u001b[1mtrain: \u001b[0mScanning /kaggle/working/yolov9/bdsl_test/train/labels... 1693 images, 1 backgrounds, 0 corrupt: 100%|██████████| 1694/1694 [00:01<00:00, 1214.61it/s]\n"
     ]
    },
    {
     "name": "stdout",
     "output_type": "stream",
     "text": [
      "\u001b[34m\u001b[1mtrain: \u001b[0mNew cache created: /kaggle/working/yolov9/bdsl_test/train/labels.cache\n",
      "\u001b[34m\u001b[1malbumentations: \u001b[0mBlur(p=0.01, blur_limit=(3, 7)), MedianBlur(p=0.01, blur_limit=(3, 7)), ToGray(p=0.01), CLAHE(p=0.01, clip_limit=(1, 4.0), tile_grid_size=(8, 8))\n"
     ]
    },
    {
     "name": "stderr",
     "output_type": "stream",
     "text": [
      "\u001b[34m\u001b[1mval: \u001b[0mScanning /kaggle/working/yolov9/bdsl_test/valid/labels... 390 images, 0 backgrounds, 0 corrupt: 100%|██████████| 390/390 [00:00<00:00, 1428.96it/s]\n"
     ]
    },
    {
     "name": "stdout",
     "output_type": "stream",
     "text": [
      "\u001b[34m\u001b[1mval: \u001b[0mNew cache created: /kaggle/working/yolov9/bdsl_test/valid/labels.cache\n",
      "Plotting labels to runs/detect/train/labels.jpg... \n"
     ]
    },
    {
     "name": "stderr",
     "output_type": "stream",
     "text": [
      "/opt/conda/lib/python3.10/site-packages/ultralytics/utils/plotting.py:725: UserWarning: Glyph 2437 (\\N{BENGALI LETTER A}) missing from current font.\n",
      "  plt.savefig(fname, dpi=200)\n",
      "/opt/conda/lib/python3.10/site-packages/ultralytics/utils/plotting.py:725: UserWarning: Matplotlib currently does not support Bengali natively.\n",
      "  plt.savefig(fname, dpi=200)\n",
      "/opt/conda/lib/python3.10/site-packages/ultralytics/utils/plotting.py:725: UserWarning: Glyph 2438 (\\N{BENGALI LETTER AA}) missing from current font.\n",
      "  plt.savefig(fname, dpi=200)\n",
      "/opt/conda/lib/python3.10/site-packages/ultralytics/utils/plotting.py:725: UserWarning: Glyph 2439 (\\N{BENGALI LETTER I}) missing from current font.\n",
      "  plt.savefig(fname, dpi=200)\n",
      "/opt/conda/lib/python3.10/site-packages/ultralytics/utils/plotting.py:725: UserWarning: Glyph 2442 (\\N{BENGALI LETTER UU}) missing from current font.\n",
      "  plt.savefig(fname, dpi=200)\n",
      "/opt/conda/lib/python3.10/site-packages/ultralytics/utils/plotting.py:725: UserWarning: Glyph 2447 (\\N{BENGALI LETTER E}) missing from current font.\n",
      "  plt.savefig(fname, dpi=200)\n",
      "/opt/conda/lib/python3.10/site-packages/ultralytics/utils/plotting.py:725: UserWarning: Glyph 2451 (\\N{BENGALI LETTER O}) missing from current font.\n",
      "  plt.savefig(fname, dpi=200)\n",
      "/opt/conda/lib/python3.10/site-packages/ultralytics/utils/plotting.py:725: UserWarning: Glyph 2453 (\\N{BENGALI LETTER KA}) missing from current font.\n",
      "  plt.savefig(fname, dpi=200)\n",
      "/opt/conda/lib/python3.10/site-packages/ultralytics/utils/plotting.py:725: UserWarning: Glyph 2437 (\\N{BENGALI LETTER A}) missing from current font.\n",
      "  plt.savefig(fname, dpi=200)\n",
      "/opt/conda/lib/python3.10/site-packages/ultralytics/utils/plotting.py:725: UserWarning: Matplotlib currently does not support Bengali natively.\n",
      "  plt.savefig(fname, dpi=200)\n",
      "/opt/conda/lib/python3.10/site-packages/ultralytics/utils/plotting.py:725: UserWarning: Glyph 2438 (\\N{BENGALI LETTER AA}) missing from current font.\n",
      "  plt.savefig(fname, dpi=200)\n",
      "/opt/conda/lib/python3.10/site-packages/ultralytics/utils/plotting.py:725: UserWarning: Glyph 2439 (\\N{BENGALI LETTER I}) missing from current font.\n",
      "  plt.savefig(fname, dpi=200)\n",
      "/opt/conda/lib/python3.10/site-packages/ultralytics/utils/plotting.py:725: UserWarning: Glyph 2442 (\\N{BENGALI LETTER UU}) missing from current font.\n",
      "  plt.savefig(fname, dpi=200)\n",
      "/opt/conda/lib/python3.10/site-packages/ultralytics/utils/plotting.py:725: UserWarning: Glyph 2447 (\\N{BENGALI LETTER E}) missing from current font.\n",
      "  plt.savefig(fname, dpi=200)\n",
      "/opt/conda/lib/python3.10/site-packages/ultralytics/utils/plotting.py:725: UserWarning: Glyph 2451 (\\N{BENGALI LETTER O}) missing from current font.\n",
      "  plt.savefig(fname, dpi=200)\n",
      "/opt/conda/lib/python3.10/site-packages/ultralytics/utils/plotting.py:725: UserWarning: Glyph 2453 (\\N{BENGALI LETTER KA}) missing from current font.\n",
      "  plt.savefig(fname, dpi=200)\n"
     ]
    },
    {
     "name": "stdout",
     "output_type": "stream",
     "text": [
      "\u001b[34m\u001b[1moptimizer:\u001b[0m 'optimizer=auto' found, ignoring 'lr0=0.01' and 'momentum=0.937' and determining best 'optimizer', 'lr0' and 'momentum' automatically... \n",
      "\u001b[34m\u001b[1moptimizer:\u001b[0m AdamW(lr=0.000714, momentum=0.9) with parameter groups 154 weight(decay=0.0), 161 weight(decay=0.0005), 160 bias(decay=0.0)\n",
      "\u001b[34m\u001b[1mTensorBoard: \u001b[0mmodel graph visualization added ✅\n",
      "Image sizes 640 train, 640 val\n",
      "Using 4 dataloader workers\n",
      "Logging results to \u001b[1mruns/detect/train\u001b[0m\n",
      "Starting training for 10 epochs...\n",
      "Closing dataloader mosaic\n",
      "\u001b[34m\u001b[1malbumentations: \u001b[0mBlur(p=0.01, blur_limit=(3, 7)), MedianBlur(p=0.01, blur_limit=(3, 7)), ToGray(p=0.01), CLAHE(p=0.01, clip_limit=(1, 4.0), tile_grid_size=(8, 8))\n",
      "\n",
      "      Epoch    GPU_mem   box_loss   cls_loss   dfl_loss  Instances       Size\n"
     ]
    },
    {
     "name": "stderr",
     "output_type": "stream",
     "text": [
      "       1/10      5.99G      1.947      6.365      2.406          8        640:   2%|▏         | 2/106 [00:05<03:54,  2.26s/it]"
     ]
    },
    {
     "name": "stdout",
     "output_type": "stream",
     "text": [
      "Downloading https://ultralytics.com/assets/Arial.ttf to '/root/.config/Ultralytics/Arial.ttf'...\n"
     ]
    },
    {
     "name": "stderr",
     "output_type": "stream",
     "text": [
      "       1/10      5.99G      1.929      6.523      2.363          8        640:   4%|▍         | 4/106 [00:06<01:57,  1.15s/it]\n",
      "100%|██████████| 755k/755k [00:00<00:00, 12.7MB/s]\n",
      "       1/10      6.09G      0.897      2.863      1.383          7        640: 100%|██████████| 106/106 [01:57<00:00,  1.11s/it]\n",
      "                 Class     Images  Instances      Box(P          R      mAP50  mAP50-95): 100%|██████████| 25/25 [00:10<00:00,  2.41it/s]\n"
     ]
    },
    {
     "name": "stdout",
     "output_type": "stream",
     "text": [
      "                   all        390        390      0.426      0.596      0.503      0.337\n",
      "\n",
      "      Epoch    GPU_mem   box_loss   cls_loss   dfl_loss  Instances       Size\n"
     ]
    },
    {
     "name": "stderr",
     "output_type": "stream",
     "text": [
      "       2/10      5.98G     0.8612      1.436      1.211          7        640: 100%|██████████| 106/106 [01:50<00:00,  1.04s/it]\n",
      "                 Class     Images  Instances      Box(P          R      mAP50  mAP50-95): 100%|██████████| 25/25 [00:08<00:00,  2.93it/s]\n"
     ]
    },
    {
     "name": "stdout",
     "output_type": "stream",
     "text": [
      "                   all        390        390      0.375      0.586      0.533      0.354\n",
      "\n",
      "      Epoch    GPU_mem   box_loss   cls_loss   dfl_loss  Instances       Size\n"
     ]
    },
    {
     "name": "stderr",
     "output_type": "stream",
     "text": [
      "       3/10      5.97G      0.899      1.304       1.24          7        640: 100%|██████████| 106/106 [01:49<00:00,  1.03s/it]\n",
      "                 Class     Images  Instances      Box(P          R      mAP50  mAP50-95): 100%|██████████| 25/25 [00:08<00:00,  2.82it/s]\n"
     ]
    },
    {
     "name": "stdout",
     "output_type": "stream",
     "text": [
      "                   all        390        390      0.564      0.652      0.635      0.427\n",
      "\n",
      "      Epoch    GPU_mem   box_loss   cls_loss   dfl_loss  Instances       Size\n"
     ]
    },
    {
     "name": "stderr",
     "output_type": "stream",
     "text": [
      "       4/10      5.97G     0.8483      1.058      1.189          7        640: 100%|██████████| 106/106 [01:53<00:00,  1.07s/it]\n",
      "                 Class     Images  Instances      Box(P          R      mAP50  mAP50-95): 100%|██████████| 25/25 [00:08<00:00,  2.93it/s]\n"
     ]
    },
    {
     "name": "stdout",
     "output_type": "stream",
     "text": [
      "                   all        390        390      0.834      0.681      0.824      0.599\n",
      "\n",
      "      Epoch    GPU_mem   box_loss   cls_loss   dfl_loss  Instances       Size\n"
     ]
    },
    {
     "name": "stderr",
     "output_type": "stream",
     "text": [
      "       5/10      5.91G     0.7732     0.8503      1.111          7        640: 100%|██████████| 106/106 [01:46<00:00,  1.01s/it]\n",
      "                 Class     Images  Instances      Box(P          R      mAP50  mAP50-95): 100%|██████████| 25/25 [00:08<00:00,  3.01it/s]\n"
     ]
    },
    {
     "name": "stdout",
     "output_type": "stream",
     "text": [
      "                   all        390        390      0.677      0.688      0.762      0.481\n",
      "\n",
      "      Epoch    GPU_mem   box_loss   cls_loss   dfl_loss  Instances       Size\n"
     ]
    },
    {
     "name": "stderr",
     "output_type": "stream",
     "text": [
      "       6/10      5.98G     0.7175     0.6763      1.061          7        640: 100%|██████████| 106/106 [01:46<00:00,  1.00s/it]\n",
      "                 Class     Images  Instances      Box(P          R      mAP50  mAP50-95): 100%|██████████| 25/25 [00:08<00:00,  3.04it/s]\n"
     ]
    },
    {
     "name": "stdout",
     "output_type": "stream",
     "text": [
      "                   all        390        390      0.831      0.792      0.862      0.679\n",
      "\n",
      "      Epoch    GPU_mem   box_loss   cls_loss   dfl_loss  Instances       Size\n"
     ]
    },
    {
     "name": "stderr",
     "output_type": "stream",
     "text": [
      "       7/10      5.91G      0.676     0.6092      1.057          7        640: 100%|██████████| 106/106 [01:50<00:00,  1.04s/it]\n",
      "                 Class     Images  Instances      Box(P          R      mAP50  mAP50-95): 100%|██████████| 25/25 [00:08<00:00,  3.08it/s]\n"
     ]
    },
    {
     "name": "stdout",
     "output_type": "stream",
     "text": [
      "                   all        390        390      0.878      0.859       0.94      0.756\n",
      "\n",
      "      Epoch    GPU_mem   box_loss   cls_loss   dfl_loss  Instances       Size\n"
     ]
    },
    {
     "name": "stderr",
     "output_type": "stream",
     "text": [
      "       8/10      5.97G     0.5995       0.51      1.012          7        640: 100%|██████████| 106/106 [01:51<00:00,  1.05s/it]\n",
      "                 Class     Images  Instances      Box(P          R      mAP50  mAP50-95): 100%|██████████| 25/25 [00:08<00:00,  2.97it/s]\n"
     ]
    },
    {
     "name": "stdout",
     "output_type": "stream",
     "text": [
      "                   all        390        390      0.863        0.9      0.938      0.774\n",
      "\n",
      "      Epoch    GPU_mem   box_loss   cls_loss   dfl_loss  Instances       Size\n"
     ]
    },
    {
     "name": "stderr",
     "output_type": "stream",
     "text": [
      "       9/10      5.91G     0.5462     0.4448     0.9757          7        640: 100%|██████████| 106/106 [01:50<00:00,  1.04s/it]\n",
      "                 Class     Images  Instances      Box(P          R      mAP50  mAP50-95): 100%|██████████| 25/25 [00:08<00:00,  3.07it/s]\n"
     ]
    },
    {
     "name": "stdout",
     "output_type": "stream",
     "text": [
      "                   all        390        390      0.953      0.954      0.974      0.839\n",
      "\n",
      "      Epoch    GPU_mem   box_loss   cls_loss   dfl_loss  Instances       Size\n"
     ]
    },
    {
     "name": "stderr",
     "output_type": "stream",
     "text": [
      "      10/10      5.97G     0.5013     0.3523     0.9457          7        640: 100%|██████████| 106/106 [01:48<00:00,  1.03s/it]\n",
      "                 Class     Images  Instances      Box(P          R      mAP50  mAP50-95): 100%|██████████| 25/25 [00:08<00:00,  2.99it/s]\n"
     ]
    },
    {
     "name": "stdout",
     "output_type": "stream",
     "text": [
      "                   all        390        390      0.896      0.951      0.969      0.844\n",
      "\n",
      "10 epochs completed in 0.341 hours.\n",
      "Optimizer stripped from runs/detect/train/weights/last.pt, 51.6MB\n",
      "Optimizer stripped from runs/detect/train/weights/best.pt, 51.6MB\n",
      "\n",
      "Validating runs/detect/train/weights/best.pt...\n",
      "Ultralytics YOLOv8.2.27 🚀 Python-3.10.13 torch-2.1.2 CUDA:0 (Tesla T4, 15102MiB)\n",
      "                                                      CUDA:1 (Tesla T4, 15102MiB)\n",
      "YOLOv9c summary (fused): 384 layers, 25324645 parameters, 0 gradients, 102.3 GFLOPs\n"
     ]
    },
    {
     "name": "stderr",
     "output_type": "stream",
     "text": [
      "                 Class     Images  Instances      Box(P          R      mAP50  mAP50-95): 100%|██████████| 25/25 [00:08<00:00,  2.95it/s]\n",
      "/opt/conda/lib/python3.10/site-packages/ultralytics/utils/metrics.py:465: UserWarning: Glyph 2437 (\\N{BENGALI LETTER A}) missing from current font.\n",
      "  fig.savefig(save_dir, dpi=250)\n",
      "/opt/conda/lib/python3.10/site-packages/ultralytics/utils/metrics.py:465: UserWarning: Matplotlib currently does not support Bengali natively.\n",
      "  fig.savefig(save_dir, dpi=250)\n",
      "/opt/conda/lib/python3.10/site-packages/ultralytics/utils/metrics.py:465: UserWarning: Glyph 2438 (\\N{BENGALI LETTER AA}) missing from current font.\n",
      "  fig.savefig(save_dir, dpi=250)\n",
      "/opt/conda/lib/python3.10/site-packages/ultralytics/utils/metrics.py:465: UserWarning: Glyph 2439 (\\N{BENGALI LETTER I}) missing from current font.\n",
      "  fig.savefig(save_dir, dpi=250)\n",
      "/opt/conda/lib/python3.10/site-packages/ultralytics/utils/metrics.py:465: UserWarning: Glyph 2442 (\\N{BENGALI LETTER UU}) missing from current font.\n",
      "  fig.savefig(save_dir, dpi=250)\n",
      "/opt/conda/lib/python3.10/site-packages/ultralytics/utils/metrics.py:465: UserWarning: Glyph 2447 (\\N{BENGALI LETTER E}) missing from current font.\n",
      "  fig.savefig(save_dir, dpi=250)\n",
      "/opt/conda/lib/python3.10/site-packages/ultralytics/utils/metrics.py:465: UserWarning: Glyph 2451 (\\N{BENGALI LETTER O}) missing from current font.\n",
      "  fig.savefig(save_dir, dpi=250)\n",
      "/opt/conda/lib/python3.10/site-packages/ultralytics/utils/metrics.py:465: UserWarning: Glyph 2453 (\\N{BENGALI LETTER KA}) missing from current font.\n",
      "  fig.savefig(save_dir, dpi=250)\n",
      "/opt/conda/lib/python3.10/site-packages/ultralytics/utils/metrics.py:490: UserWarning: Glyph 2437 (\\N{BENGALI LETTER A}) missing from current font.\n",
      "  fig.savefig(save_dir, dpi=250)\n",
      "/opt/conda/lib/python3.10/site-packages/ultralytics/utils/metrics.py:490: UserWarning: Matplotlib currently does not support Bengali natively.\n",
      "  fig.savefig(save_dir, dpi=250)\n",
      "/opt/conda/lib/python3.10/site-packages/ultralytics/utils/metrics.py:490: UserWarning: Glyph 2438 (\\N{BENGALI LETTER AA}) missing from current font.\n",
      "  fig.savefig(save_dir, dpi=250)\n",
      "/opt/conda/lib/python3.10/site-packages/ultralytics/utils/metrics.py:490: UserWarning: Glyph 2439 (\\N{BENGALI LETTER I}) missing from current font.\n",
      "  fig.savefig(save_dir, dpi=250)\n",
      "/opt/conda/lib/python3.10/site-packages/ultralytics/utils/metrics.py:490: UserWarning: Glyph 2442 (\\N{BENGALI LETTER UU}) missing from current font.\n",
      "  fig.savefig(save_dir, dpi=250)\n",
      "/opt/conda/lib/python3.10/site-packages/ultralytics/utils/metrics.py:490: UserWarning: Glyph 2447 (\\N{BENGALI LETTER E}) missing from current font.\n",
      "  fig.savefig(save_dir, dpi=250)\n",
      "/opt/conda/lib/python3.10/site-packages/ultralytics/utils/metrics.py:490: UserWarning: Glyph 2451 (\\N{BENGALI LETTER O}) missing from current font.\n",
      "  fig.savefig(save_dir, dpi=250)\n",
      "/opt/conda/lib/python3.10/site-packages/ultralytics/utils/metrics.py:490: UserWarning: Glyph 2453 (\\N{BENGALI LETTER KA}) missing from current font.\n",
      "  fig.savefig(save_dir, dpi=250)\n",
      "/opt/conda/lib/python3.10/site-packages/ultralytics/utils/metrics.py:490: UserWarning: Glyph 2437 (\\N{BENGALI LETTER A}) missing from current font.\n",
      "  fig.savefig(save_dir, dpi=250)\n",
      "/opt/conda/lib/python3.10/site-packages/ultralytics/utils/metrics.py:490: UserWarning: Matplotlib currently does not support Bengali natively.\n",
      "  fig.savefig(save_dir, dpi=250)\n",
      "/opt/conda/lib/python3.10/site-packages/ultralytics/utils/metrics.py:490: UserWarning: Glyph 2438 (\\N{BENGALI LETTER AA}) missing from current font.\n",
      "  fig.savefig(save_dir, dpi=250)\n",
      "/opt/conda/lib/python3.10/site-packages/ultralytics/utils/metrics.py:490: UserWarning: Glyph 2439 (\\N{BENGALI LETTER I}) missing from current font.\n",
      "  fig.savefig(save_dir, dpi=250)\n",
      "/opt/conda/lib/python3.10/site-packages/ultralytics/utils/metrics.py:490: UserWarning: Glyph 2442 (\\N{BENGALI LETTER UU}) missing from current font.\n",
      "  fig.savefig(save_dir, dpi=250)\n",
      "/opt/conda/lib/python3.10/site-packages/ultralytics/utils/metrics.py:490: UserWarning: Glyph 2447 (\\N{BENGALI LETTER E}) missing from current font.\n",
      "  fig.savefig(save_dir, dpi=250)\n",
      "/opt/conda/lib/python3.10/site-packages/ultralytics/utils/metrics.py:490: UserWarning: Glyph 2451 (\\N{BENGALI LETTER O}) missing from current font.\n",
      "  fig.savefig(save_dir, dpi=250)\n",
      "/opt/conda/lib/python3.10/site-packages/ultralytics/utils/metrics.py:490: UserWarning: Glyph 2453 (\\N{BENGALI LETTER KA}) missing from current font.\n",
      "  fig.savefig(save_dir, dpi=250)\n",
      "/opt/conda/lib/python3.10/site-packages/ultralytics/utils/metrics.py:490: UserWarning: Glyph 2437 (\\N{BENGALI LETTER A}) missing from current font.\n",
      "  fig.savefig(save_dir, dpi=250)\n",
      "/opt/conda/lib/python3.10/site-packages/ultralytics/utils/metrics.py:490: UserWarning: Matplotlib currently does not support Bengali natively.\n",
      "  fig.savefig(save_dir, dpi=250)\n",
      "/opt/conda/lib/python3.10/site-packages/ultralytics/utils/metrics.py:490: UserWarning: Glyph 2438 (\\N{BENGALI LETTER AA}) missing from current font.\n",
      "  fig.savefig(save_dir, dpi=250)\n",
      "/opt/conda/lib/python3.10/site-packages/ultralytics/utils/metrics.py:490: UserWarning: Glyph 2439 (\\N{BENGALI LETTER I}) missing from current font.\n",
      "  fig.savefig(save_dir, dpi=250)\n",
      "/opt/conda/lib/python3.10/site-packages/ultralytics/utils/metrics.py:490: UserWarning: Glyph 2442 (\\N{BENGALI LETTER UU}) missing from current font.\n",
      "  fig.savefig(save_dir, dpi=250)\n",
      "/opt/conda/lib/python3.10/site-packages/ultralytics/utils/metrics.py:490: UserWarning: Glyph 2447 (\\N{BENGALI LETTER E}) missing from current font.\n",
      "  fig.savefig(save_dir, dpi=250)\n",
      "/opt/conda/lib/python3.10/site-packages/ultralytics/utils/metrics.py:490: UserWarning: Glyph 2451 (\\N{BENGALI LETTER O}) missing from current font.\n",
      "  fig.savefig(save_dir, dpi=250)\n",
      "/opt/conda/lib/python3.10/site-packages/ultralytics/utils/metrics.py:490: UserWarning: Glyph 2453 (\\N{BENGALI LETTER KA}) missing from current font.\n",
      "  fig.savefig(save_dir, dpi=250)\n"
     ]
    },
    {
     "name": "stdout",
     "output_type": "stream",
     "text": [
      "                   all        390        390      0.896       0.95      0.969      0.844\n",
      "                     অ         31         31      0.969      0.999       0.98      0.788\n",
      "                     আ         59         59       0.86      0.935      0.962      0.778\n",
      "                     ই         60         60      0.983      0.945      0.983      0.909\n",
      "                     ঊ         60         60      0.665      0.958      0.939      0.826\n",
      "                     এ         60         60      0.927      0.867      0.942      0.876\n",
      "                     ও         60         60      0.869      0.983      0.981      0.843\n",
      "                     ক         60         60          1      0.965      0.995       0.89\n"
     ]
    },
    {
     "name": "stderr",
     "output_type": "stream",
     "text": [
      "/opt/conda/lib/python3.10/site-packages/ultralytics/utils/metrics.py:427: UserWarning: Glyph 2437 (\\N{BENGALI LETTER A}) missing from current font.\n",
      "  fig.savefig(plot_fname, dpi=250)\n",
      "/opt/conda/lib/python3.10/site-packages/ultralytics/utils/metrics.py:427: UserWarning: Matplotlib currently does not support Bengali natively.\n",
      "  fig.savefig(plot_fname, dpi=250)\n",
      "/opt/conda/lib/python3.10/site-packages/ultralytics/utils/metrics.py:427: UserWarning: Glyph 2438 (\\N{BENGALI LETTER AA}) missing from current font.\n",
      "  fig.savefig(plot_fname, dpi=250)\n",
      "/opt/conda/lib/python3.10/site-packages/ultralytics/utils/metrics.py:427: UserWarning: Glyph 2439 (\\N{BENGALI LETTER I}) missing from current font.\n",
      "  fig.savefig(plot_fname, dpi=250)\n",
      "/opt/conda/lib/python3.10/site-packages/ultralytics/utils/metrics.py:427: UserWarning: Glyph 2442 (\\N{BENGALI LETTER UU}) missing from current font.\n",
      "  fig.savefig(plot_fname, dpi=250)\n",
      "/opt/conda/lib/python3.10/site-packages/ultralytics/utils/metrics.py:427: UserWarning: Glyph 2447 (\\N{BENGALI LETTER E}) missing from current font.\n",
      "  fig.savefig(plot_fname, dpi=250)\n",
      "/opt/conda/lib/python3.10/site-packages/ultralytics/utils/metrics.py:427: UserWarning: Glyph 2451 (\\N{BENGALI LETTER O}) missing from current font.\n",
      "  fig.savefig(plot_fname, dpi=250)\n",
      "/opt/conda/lib/python3.10/site-packages/ultralytics/utils/metrics.py:427: UserWarning: Glyph 2453 (\\N{BENGALI LETTER KA}) missing from current font.\n",
      "  fig.savefig(plot_fname, dpi=250)\n",
      "/opt/conda/lib/python3.10/site-packages/ultralytics/utils/metrics.py:427: UserWarning: Glyph 2437 (\\N{BENGALI LETTER A}) missing from current font.\n",
      "  fig.savefig(plot_fname, dpi=250)\n",
      "/opt/conda/lib/python3.10/site-packages/ultralytics/utils/metrics.py:427: UserWarning: Matplotlib currently does not support Bengali natively.\n",
      "  fig.savefig(plot_fname, dpi=250)\n",
      "/opt/conda/lib/python3.10/site-packages/ultralytics/utils/metrics.py:427: UserWarning: Glyph 2438 (\\N{BENGALI LETTER AA}) missing from current font.\n",
      "  fig.savefig(plot_fname, dpi=250)\n",
      "/opt/conda/lib/python3.10/site-packages/ultralytics/utils/metrics.py:427: UserWarning: Glyph 2439 (\\N{BENGALI LETTER I}) missing from current font.\n",
      "  fig.savefig(plot_fname, dpi=250)\n",
      "/opt/conda/lib/python3.10/site-packages/ultralytics/utils/metrics.py:427: UserWarning: Glyph 2442 (\\N{BENGALI LETTER UU}) missing from current font.\n",
      "  fig.savefig(plot_fname, dpi=250)\n",
      "/opt/conda/lib/python3.10/site-packages/ultralytics/utils/metrics.py:427: UserWarning: Glyph 2447 (\\N{BENGALI LETTER E}) missing from current font.\n",
      "  fig.savefig(plot_fname, dpi=250)\n",
      "/opt/conda/lib/python3.10/site-packages/ultralytics/utils/metrics.py:427: UserWarning: Glyph 2451 (\\N{BENGALI LETTER O}) missing from current font.\n",
      "  fig.savefig(plot_fname, dpi=250)\n",
      "/opt/conda/lib/python3.10/site-packages/ultralytics/utils/metrics.py:427: UserWarning: Glyph 2453 (\\N{BENGALI LETTER KA}) missing from current font.\n",
      "  fig.savefig(plot_fname, dpi=250)\n"
     ]
    },
    {
     "name": "stdout",
     "output_type": "stream",
     "text": [
      "Speed: 0.2ms preprocess, 15.8ms inference, 0.0ms loss, 2.1ms postprocess per image\n",
      "Results saved to \u001b[1mruns/detect/train\u001b[0m\n"
     ]
    }
   ],
   "source": [
    "# Train the model on the COCO8 example dataset for 100 epochs\n",
    "results = model.train(data=\"/kaggle/working/yolov9/data.yaml\",  epochs=10, imgsz=640, verbose=True,save=True,save_period=1,device=[0,1])"
   ]
  },
  {
   "cell_type": "code",
   "execution_count": 22,
   "id": "40ae21d5",
   "metadata": {
    "execution": {
     "iopub.execute_input": "2024-06-01T20:15:15.547095Z",
     "iopub.status.busy": "2024-06-01T20:15:15.546342Z",
     "iopub.status.idle": "2024-06-01T20:15:15.552944Z",
     "shell.execute_reply": "2024-06-01T20:15:15.552121Z"
    },
    "jupyter": {
     "source_hidden": true
    },
    "papermill": {
     "duration": 0.232875,
     "end_time": "2024-06-01T20:15:15.554783",
     "exception": false,
     "start_time": "2024-06-01T20:15:15.321908",
     "status": "completed"
    },
    "tags": []
   },
   "outputs": [
    {
     "name": "stdout",
     "output_type": "stream",
     "text": [
      "/kaggle/working\n"
     ]
    }
   ],
   "source": [
    "%cd /kaggle/working/"
   ]
  },
  {
   "cell_type": "code",
   "execution_count": 23,
   "id": "36d52475",
   "metadata": {
    "execution": {
     "iopub.execute_input": "2024-06-01T20:15:16.005366Z",
     "iopub.status.busy": "2024-06-01T20:15:16.005023Z",
     "iopub.status.idle": "2024-06-01T20:15:16.013793Z",
     "shell.execute_reply": "2024-06-01T20:15:16.012898Z"
    },
    "papermill": {
     "duration": 0.239142,
     "end_time": "2024-06-01T20:15:16.015696",
     "exception": false,
     "start_time": "2024-06-01T20:15:15.776554",
     "status": "completed"
    },
    "tags": []
   },
   "outputs": [
    {
     "name": "stdout",
     "output_type": "stream",
     "text": [
      "lr: 0.01\n",
      "epoch=2, accuracy=0.20213842822483913, loss=0.6291701607204321\n",
      "epoch=3, accuracy=0.6198100462640026, loss=0.46430927742787914\n",
      "epoch=4, accuracy=0.6673820953323868, loss=0.42733401756370276\n",
      "epoch=5, accuracy=0.7392030844792048, loss=0.29545376113548083\n",
      "epoch=6, accuracy=0.7182602897858186, loss=0.33586151783756546\n",
      "epoch=7, accuracy=0.7512050074353631, loss=0.21695941950496733\n",
      "epoch=8, accuracy=0.7327338541753374, loss=0.25008674488942606\n",
      "epoch=9, accuracy=0.8013284667658302, loss=0.2719204126348141\n"
     ]
    },
    {
     "data": {
      "text/plain": []
     },
     "execution_count": 23,
     "metadata": {},
     "output_type": "execute_result"
    }
   ],
   "source": [
    "offset = random.random() / 5\n",
    "print(f\"lr: {lr}\")\n",
    "\n",
    "# simulating a training run\n",
    "for epoch in range(2, epochs):\n",
    "    acc = 1 - 2**-epoch - random.random() / epoch - offset\n",
    "    loss = 2**-epoch + random.random() / epoch + offset\n",
    "    print(f\"epoch={epoch}, accuracy={acc}, loss={loss}\")\n",
    "    wandb.log({\"accuracy\": acc, \"loss\": loss})\n",
    "\n",
    "run.log_code()"
   ]
  },
  {
   "cell_type": "code",
   "execution_count": 24,
   "id": "71b1e7fe",
   "metadata": {
    "execution": {
     "iopub.execute_input": "2024-06-01T20:15:16.460030Z",
     "iopub.status.busy": "2024-06-01T20:15:16.459709Z",
     "iopub.status.idle": "2024-06-01T20:15:16.465618Z",
     "shell.execute_reply": "2024-06-01T20:15:16.464717Z"
    },
    "papermill": {
     "duration": 0.230143,
     "end_time": "2024-06-01T20:15:16.467405",
     "exception": false,
     "start_time": "2024-06-01T20:15:16.237262",
     "status": "completed"
    },
    "tags": []
   },
   "outputs": [
    {
     "name": "stdout",
     "output_type": "stream",
     "text": [
      "The file /kaggle/working/yolov9/bdsl_test.zip does not exist.\n"
     ]
    }
   ],
   "source": [
    "import os\n",
    "\n",
    "# Define the path of the file to be deleted\n",
    "file_path = \"/kaggle/working/yolov9/bdsl_test.zip\"\n",
    "\n",
    "# Check if the file exists\n",
    "if os.path.exists(file_path):\n",
    "    # Delete the file\n",
    "    os.remove(file_path)\n",
    "    print(f\"File {file_path} has been deleted.\")\n",
    "else:\n",
    "    print(f\"The file {file_path} does not exist.\")\n"
   ]
  },
  {
   "cell_type": "code",
   "execution_count": null,
   "id": "bb3ed759",
   "metadata": {
    "papermill": {
     "duration": 0.224137,
     "end_time": "2024-06-01T20:15:16.957765",
     "exception": false,
     "start_time": "2024-06-01T20:15:16.733628",
     "status": "completed"
    },
    "tags": []
   },
   "outputs": [],
   "source": []
  },
  {
   "cell_type": "code",
   "execution_count": 25,
   "id": "f0b8aecc",
   "metadata": {
    "_kg_hide-output": true,
    "execution": {
     "iopub.execute_input": "2024-06-01T20:15:17.404751Z",
     "iopub.status.busy": "2024-06-01T20:15:17.403999Z",
     "iopub.status.idle": "2024-06-01T20:15:17.407967Z",
     "shell.execute_reply": "2024-06-01T20:15:17.407134Z"
    },
    "papermill": {
     "duration": 0.231376,
     "end_time": "2024-06-01T20:15:17.409935",
     "exception": false,
     "start_time": "2024-06-01T20:15:17.178559",
     "status": "completed"
    },
    "tags": []
   },
   "outputs": [],
   "source": [
    "# !zip -r file.zip /kaggle/working/yolov9/runs"
   ]
  },
  {
   "cell_type": "code",
   "execution_count": 26,
   "id": "4d34841d",
   "metadata": {
    "execution": {
     "iopub.execute_input": "2024-06-01T20:15:17.859654Z",
     "iopub.status.busy": "2024-06-01T20:15:17.858765Z",
     "iopub.status.idle": "2024-06-01T20:15:17.863496Z",
     "shell.execute_reply": "2024-06-01T20:15:17.862457Z"
    },
    "papermill": {
     "duration": 0.233872,
     "end_time": "2024-06-01T20:15:17.866014",
     "exception": false,
     "start_time": "2024-06-01T20:15:17.632142",
     "status": "completed"
    },
    "tags": []
   },
   "outputs": [],
   "source": [
    "# !ls"
   ]
  },
  {
   "cell_type": "code",
   "execution_count": null,
   "id": "389e76ae",
   "metadata": {
    "papermill": {
     "duration": 0.236878,
     "end_time": "2024-06-01T20:15:18.357802",
     "exception": false,
     "start_time": "2024-06-01T20:15:18.120924",
     "status": "completed"
    },
    "tags": []
   },
   "outputs": [],
   "source": []
  },
  {
   "cell_type": "code",
   "execution_count": 27,
   "id": "ee779941",
   "metadata": {
    "execution": {
     "iopub.execute_input": "2024-06-01T20:15:18.804110Z",
     "iopub.status.busy": "2024-06-01T20:15:18.803265Z",
     "iopub.status.idle": "2024-06-01T20:15:18.807421Z",
     "shell.execute_reply": "2024-06-01T20:15:18.806557Z"
    },
    "papermill": {
     "duration": 0.228641,
     "end_time": "2024-06-01T20:15:18.809291",
     "exception": false,
     "start_time": "2024-06-01T20:15:18.580650",
     "status": "completed"
    },
    "tags": []
   },
   "outputs": [],
   "source": [
    "# %cd /kaggle/working/\n",
    "# from IPython.display import FileLink\n",
    "# FileLink('/kaggle/working/yolov9/file.zip')"
   ]
  },
  {
   "cell_type": "code",
   "execution_count": 28,
   "id": "17daf37a",
   "metadata": {
    "execution": {
     "iopub.execute_input": "2024-06-01T20:15:19.253384Z",
     "iopub.status.busy": "2024-06-01T20:15:19.253065Z",
     "iopub.status.idle": "2024-06-01T20:16:59.142979Z",
     "shell.execute_reply": "2024-06-01T20:16:59.141738Z"
    },
    "papermill": {
     "duration": 100.114883,
     "end_time": "2024-06-01T20:16:59.145092",
     "exception": false,
     "start_time": "2024-06-01T20:15:19.030209",
     "status": "completed"
    },
    "tags": []
   },
   "outputs": [
    {
     "name": "stdout",
     "output_type": "stream",
     "text": [
      "  adding: kaggle/working/yolov9/runs/ (stored 0%)\r\n",
      "  adding: kaggle/working/yolov9/runs/detect/ (stored 0%)\r\n",
      "  adding: kaggle/working/yolov9/runs/detect/train/ (stored 0%)\r\n",
      "  adding: kaggle/working/yolov9/runs/detect/train/confusion_matrix_normalized.png (deflated 27%)\r\n",
      "  adding: kaggle/working/yolov9/runs/detect/train/val_batch0_pred.jpg (deflated 9%)\r\n",
      "  adding: kaggle/working/yolov9/runs/detect/train/P_curve.png (deflated 11%)\r\n",
      "  adding: kaggle/working/yolov9/runs/detect/train/R_curve.png (deflated 10%)\r\n",
      "  adding: kaggle/working/yolov9/runs/detect/train/weights/ (stored 0%)\r\n",
      "  adding: kaggle/working/yolov9/runs/detect/train/weights/best.pt (deflated 8%)\r\n",
      "  adding: kaggle/working/yolov9/runs/detect/train/weights/epoch2.pt (deflated 31%)\r\n",
      "  adding: kaggle/working/yolov9/runs/detect/train/weights/epoch4.pt (deflated 31%)\r\n",
      "  adding: kaggle/working/yolov9/runs/detect/train/weights/epoch1.pt (deflated 31%)\r\n",
      "  adding: kaggle/working/yolov9/runs/detect/train/weights/last.pt (deflated 8%)\r\n",
      "  adding: kaggle/working/yolov9/runs/detect/train/weights/epoch9.pt (deflated 31%)\r\n",
      "  adding: kaggle/working/yolov9/runs/detect/train/weights/epoch7.pt (deflated 31%)\r\n",
      "  adding: kaggle/working/yolov9/runs/detect/train/weights/epoch6.pt (deflated 31%)\r\n",
      "  adding: kaggle/working/yolov9/runs/detect/train/weights/epoch3.pt (deflated 31%)\r\n",
      "  adding: kaggle/working/yolov9/runs/detect/train/weights/epoch5.pt (deflated 31%)\r\n",
      "  adding: kaggle/working/yolov9/runs/detect/train/weights/epoch8.pt (deflated 31%)\r\n",
      "  adding: kaggle/working/yolov9/runs/detect/train/val_batch0_labels.jpg (deflated 10%)\r\n",
      "  adding: kaggle/working/yolov9/runs/detect/train/val_batch1_pred.jpg (deflated 8%)\r\n",
      "  adding: kaggle/working/yolov9/runs/detect/train/train_batch2.jpg (deflated 9%)\r\n",
      "  adding: kaggle/working/yolov9/runs/detect/train/val_batch1_labels.jpg (deflated 9%)\r\n",
      "  adding: kaggle/working/yolov9/runs/detect/train/F1_curve.png (deflated 8%)\r\n",
      "  adding: kaggle/working/yolov9/runs/detect/train/labels_correlogram.jpg (deflated 41%)\r\n",
      "  adding: kaggle/working/yolov9/runs/detect/train/args.yaml (deflated 52%)\r\n",
      "  adding: kaggle/working/yolov9/runs/detect/train/events.out.tfevents.1717271645.e1e6764f456e.5672.0 (deflated 94%)\r\n",
      "  adding: kaggle/working/yolov9/runs/detect/train/results.csv (deflated 82%)\r\n",
      "  adding: kaggle/working/yolov9/runs/detect/train/results.png (deflated 6%)\r\n",
      "  adding: kaggle/working/yolov9/runs/detect/train/train_batch1.jpg (deflated 10%)\r\n",
      "  adding: kaggle/working/yolov9/runs/detect/train/val_batch2_labels.jpg (deflated 8%)\r\n",
      "  adding: kaggle/working/yolov9/runs/detect/train/labels.jpg (deflated 27%)\r\n",
      "  adding: kaggle/working/yolov9/runs/detect/train/confusion_matrix.png (deflated 34%)\r\n",
      "  adding: kaggle/working/yolov9/runs/detect/train/train_batch0.jpg (deflated 16%)\r\n",
      "  adding: kaggle/working/yolov9/runs/detect/train/PR_curve.png (deflated 18%)\r\n",
      "  adding: kaggle/working/yolov9/runs/detect/train/val_batch2_pred.jpg (deflated 8%)\r\n"
     ]
    }
   ],
   "source": [
    "!zip -r file.zip /kaggle/working/yolov9/runs"
   ]
  },
  {
   "cell_type": "code",
   "execution_count": 29,
   "id": "e351e91a",
   "metadata": {
    "execution": {
     "iopub.execute_input": "2024-06-01T20:16:59.597330Z",
     "iopub.status.busy": "2024-06-01T20:16:59.596933Z",
     "iopub.status.idle": "2024-06-01T20:16:59.601616Z",
     "shell.execute_reply": "2024-06-01T20:16:59.600734Z"
    },
    "papermill": {
     "duration": 0.234964,
     "end_time": "2024-06-01T20:16:59.603513",
     "exception": false,
     "start_time": "2024-06-01T20:16:59.368549",
     "status": "completed"
    },
    "tags": []
   },
   "outputs": [],
   "source": [
    "# from ultralytics import YOLO\n",
    "\n",
    "# # Load a pretrained YOLOv8n model\n",
    "# model = YOLO(\"/kaggle/working/yolov9/runs/detect/train2/weights/best.pt\")\n",
    "\n",
    "# # Run inference on 'bus.jpg' with arguments\n",
    "# model.predict(\"/kaggle/working/yolov9/bdsl_test/test/images\", save=True, imgsz=320, conf=0.5)"
   ]
  },
  {
   "cell_type": "code",
   "execution_count": 30,
   "id": "4fa42841",
   "metadata": {
    "execution": {
     "iopub.execute_input": "2024-06-01T20:17:00.057462Z",
     "iopub.status.busy": "2024-06-01T20:17:00.057142Z",
     "iopub.status.idle": "2024-06-01T20:17:00.061015Z",
     "shell.execute_reply": "2024-06-01T20:17:00.060202Z"
    },
    "papermill": {
     "duration": 0.229634,
     "end_time": "2024-06-01T20:17:00.062854",
     "exception": false,
     "start_time": "2024-06-01T20:16:59.833220",
     "status": "completed"
    },
    "tags": []
   },
   "outputs": [],
   "source": [
    "# from IPython.display import Image\n",
    "\n",
    "# # Define the path to the image file\n",
    "# image_path = \"/kaggle/working/yolov9/runs/detect/predict2/এ_243.jpg\"\n",
    "\n",
    "# # Display the image\n",
    "# Image(filename=image_path)\n"
   ]
  },
  {
   "cell_type": "code",
   "execution_count": 31,
   "id": "c648015d",
   "metadata": {
    "execution": {
     "iopub.execute_input": "2024-06-01T20:17:00.513627Z",
     "iopub.status.busy": "2024-06-01T20:17:00.513271Z",
     "iopub.status.idle": "2024-06-01T20:17:00.517843Z",
     "shell.execute_reply": "2024-06-01T20:17:00.517011Z"
    },
    "papermill": {
     "duration": 0.232988,
     "end_time": "2024-06-01T20:17:00.519679",
     "exception": false,
     "start_time": "2024-06-01T20:17:00.286691",
     "status": "completed"
    },
    "tags": []
   },
   "outputs": [],
   "source": [
    "# import os\n",
    "# from IPython.display import display, Image\n",
    "# from PIL import Image as PILImage\n",
    "\n",
    "# # Specify the directory containing the images\n",
    "# directory = '/kaggle/working/yolov9/runs/detect/predict3'\n",
    "\n",
    "# # List all files in the directory\n",
    "# files = os.listdir(directory)\n",
    "\n",
    "# # Filter out only the image files (you can add more extensions if needed)\n",
    "# image_files = [file for file in files if file.lower().endswith(('.png', '.jpg', '.jpeg', '.gif', '.bmp', '.tiff'))]\n",
    "\n",
    "# # Loop through the list of image files and display each one\n",
    "# for image_file in image_files:\n",
    "#     image_path = os.path.join(directory, image_file)\n",
    "#     display(PILImage.open(image_path))\n",
    "\n",
    "# # Alternatively, using IPython.display.Image to directly display from the path\n",
    "# for image_file in image_files:\n",
    "#     image_path = os.path.join(directory, image_file)\n",
    "#     display(Image(filename=image_path))\n"
   ]
  },
  {
   "cell_type": "code",
   "execution_count": null,
   "id": "7fe32030",
   "metadata": {
    "papermill": {
     "duration": 0.220199,
     "end_time": "2024-06-01T20:17:00.962391",
     "exception": false,
     "start_time": "2024-06-01T20:17:00.742192",
     "status": "completed"
    },
    "tags": []
   },
   "outputs": [],
   "source": []
  }
 ],
 "metadata": {
  "kaggle": {
   "accelerator": "nvidiaTeslaT4",
   "dataSources": [],
   "dockerImageVersionId": 30699,
   "isGpuEnabled": true,
   "isInternetEnabled": true,
   "language": "python",
   "sourceType": "notebook"
  },
  "kernelspec": {
   "display_name": "Python 3",
   "language": "python",
   "name": "python3"
  },
  "language_info": {
   "codemirror_mode": {
    "name": "ipython",
    "version": 3
   },
   "file_extension": ".py",
   "mimetype": "text/x-python",
   "name": "python",
   "nbconvert_exporter": "python",
   "pygments_lexer": "ipython3",
   "version": "3.10.13"
  },
  "papermill": {
   "default_parameters": {},
   "duration": 1643.181342,
   "end_time": "2024-06-01T20:17:04.028348",
   "environment_variables": {},
   "exception": null,
   "input_path": "__notebook__.ipynb",
   "output_path": "__notebook__.ipynb",
   "parameters": {},
   "start_time": "2024-06-01T19:49:40.847006",
   "version": "2.5.0"
  }
 },
 "nbformat": 4,
 "nbformat_minor": 5
}
